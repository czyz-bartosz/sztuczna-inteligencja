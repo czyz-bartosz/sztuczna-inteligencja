{
 "cells": [
  {
   "cell_type": "markdown",
   "metadata": {
    "pycharm": {
     "name": "#%% md\n"
    }
   },
   "source": [
    "# Klasyfikacja niezbalansowana, klasyfikatory zespołowe i wyjaśnialna AI"
   ]
  },
  {
   "cell_type": "markdown",
   "metadata": {
    "pycharm": {
     "name": "#%% md\n"
    }
   },
   "source": [
    "## Wykorzystanie Google Colab\n",
    "\n",
    "Jeśli korzystasz z Google Colab skopiuj plik `feature_names.json` do katalogu głównego projektu.\n",
    "\n",
    "Pamiętaj o zainstalowaniu zależności z użyciem `uv` lub `pip`."
   ]
  },
  {
   "cell_type": "markdown",
   "metadata": {
    "editable": true,
    "pycharm": {
     "name": "#%% md\n"
    },
    "slideshow": {
     "slide_type": ""
    },
    "tags": []
   },
   "source": [
    "## Ładowanie i eksploracja danych"
   ]
  },
  {
   "cell_type": "markdown",
   "metadata": {
    "editable": true,
    "pycharm": {
     "name": "#%% md\n"
    },
    "slideshow": {
     "slide_type": ""
    },
    "tags": []
   },
   "source": [
    "W trakcie tych zajęć laboratoryjnych wykorzystamy zbiór danych [Polish companies bankruptcy](https://archive.ics.uci.edu/ml/datasets/Polish+companies+bankruptcy+data). Dotyczy on klasyfikacji, na podstawie danych z raportów finansowych, czy firma zbankrutuje w ciągu najbliższych kilku lat. Jest to zadanie szczególnie istotne dla banków, funduszy inwestycyjnych, firm ubezpieczeniowych itp. Zbiór zawiera 64 cechy obliczonych przez ekonomistów. Są one opisane na wspomnianej wcześniej stronie. Dotyczą one zysków firm, posiadanych zasobów, długów itp.\n",
    "\n",
    "Ściągnij i rozpakuj dane (`Data Folder` -> `data.zip`) do katalogu `data` obok tego notebooka. Znajduje się tam 5 plików w formacie `.arff`, wykorzystywanym głównie przez oprogramowanie Weka. Jest to program do wyposażony w graficzny interfejs użytkownika, który był często używany przez mniej techincznie obeznanych użytkowników. W Pythonie dane w tym formacie ładuje się  za pomocą bibliotek SciPy i Pandas.\n"
   ]
  },
  {
   "cell_type": "markdown",
   "metadata": {},
   "source": [
    "Jeśli korzystasz z Linuksa możesz skorzystać z poniższych poleceń do pobrania i rozpakowania tych plików."
   ]
  },
  {
   "cell_type": "code",
   "execution_count": 11,
   "metadata": {
    "ExecuteTime": {
     "end_time": "2023-10-17T12:09:50.173669Z",
     "start_time": "2023-10-17T12:09:24.311939Z"
    },
    "editable": true,
    "slideshow": {
     "slide_type": ""
    },
    "tags": []
   },
   "outputs": [
    {
     "name": "stdout",
     "output_type": "stream",
     "text": [
      "--2025-10-20 15:49:14--  https://archive.ics.uci.edu/static/public/365/polish+companies+bankruptcy+data.zip\n",
      "Resolving archive.ics.uci.edu (archive.ics.uci.edu)... 128.195.10.252\n",
      "Connecting to archive.ics.uci.edu (archive.ics.uci.edu)|128.195.10.252|:443... connected.\n",
      "HTTP request sent, awaiting response... 200 OK\n",
      "Length: unspecified\n",
      "Saving to: ‘data/data.zip’\n",
      "\n",
      "data/data.zip           [   <=>              ] 315,93K  34,0KB/s               ^C\n"
     ]
    }
   ],
   "source": [
    "!mkdir -p data\n",
    "!wget https://archive.ics.uci.edu/static/public/365/polish+companies+bankruptcy+data.zip -O data/data.zip"
   ]
  },
  {
   "cell_type": "code",
   "execution_count": null,
   "metadata": {
    "ExecuteTime": {
     "end_time": "2023-10-17T12:10:04.017260Z",
     "start_time": "2023-10-17T12:09:57.831756Z"
    },
    "editable": true,
    "slideshow": {
     "slide_type": ""
    },
    "tags": []
   },
   "outputs": [
    {
     "name": "stdout",
     "output_type": "stream",
     "text": [
      "Archive:  data/data.zip\n",
      "  inflating: data/1year.arff         \n",
      "  inflating: data/2year.arff         \n",
      "  inflating: data/3year.arff         \n",
      "  inflating: data/4year.arff         \n",
      "  inflating: data/5year.arff         \n"
     ]
    }
   ],
   "source": [
    "!unzip data/data.zip -d data"
   ]
  },
  {
   "cell_type": "markdown",
   "metadata": {
    "editable": true,
    "slideshow": {
     "slide_type": ""
    },
    "tags": []
   },
   "source": [
    "\n",
    "W dalszej części laboratorium wykorzystamy plik `3year.arff`, w którym na podstawie danych finansowych firmy po 3 latach monitorowania chcemy przewidywać, czy firma zbankrutuje w ciągu najbliższych 3 lat. Jest to dość realistyczny horyzont czasowy.\n",
    "\n",
    "Dodatkowo w pliku `feature_names.json` znajdują się nazwy cech. Nazwy są bardzo długie, więc póki co nie będziemy z nich korzystać."
   ]
  },
  {
   "cell_type": "code",
   "execution_count": 32,
   "metadata": {
    "editable": true,
    "pycharm": {
     "name": "#%%\n"
    },
    "slideshow": {
     "slide_type": ""
    },
    "tags": []
   },
   "outputs": [],
   "source": [
    "import json\n",
    "import os\n",
    "\n",
    "from scipy.io import arff\n",
    "import pandas as pd\n",
    "\n",
    "data = arff.loadarff(os.path.join(\"data\", \"3year.arff\"))\n",
    "\n",
    "with open(\"feature_names.json\") as file:\n",
    "    feature_names = json.load(file)\n",
    "\n",
    "X = pd.DataFrame(data[0])"
   ]
  },
  {
   "cell_type": "markdown",
   "metadata": {
    "pycharm": {
     "name": "#%% md\n"
    }
   },
   "source": [
    "Przyjrzyjmy się teraz naszym danym."
   ]
  },
  {
   "cell_type": "code",
   "execution_count": null,
   "metadata": {
    "editable": true,
    "pycharm": {
     "name": "#%%\n"
    },
    "slideshow": {
     "slide_type": ""
    },
    "tags": []
   },
   "outputs": [
    {
     "data": {
      "application/vnd.microsoft.datawrangler.viewer.v0+json": {
       "columns": [
        {
         "name": "index",
         "rawType": "int64",
         "type": "integer"
        },
        {
         "name": "Attr1",
         "rawType": "float64",
         "type": "float"
        },
        {
         "name": "Attr2",
         "rawType": "float64",
         "type": "float"
        },
        {
         "name": "Attr3",
         "rawType": "float64",
         "type": "float"
        },
        {
         "name": "Attr4",
         "rawType": "float64",
         "type": "float"
        },
        {
         "name": "Attr5",
         "rawType": "float64",
         "type": "float"
        },
        {
         "name": "Attr6",
         "rawType": "float64",
         "type": "float"
        },
        {
         "name": "Attr7",
         "rawType": "float64",
         "type": "float"
        },
        {
         "name": "Attr8",
         "rawType": "float64",
         "type": "float"
        },
        {
         "name": "Attr9",
         "rawType": "float64",
         "type": "float"
        },
        {
         "name": "Attr10",
         "rawType": "float64",
         "type": "float"
        },
        {
         "name": "Attr11",
         "rawType": "float64",
         "type": "float"
        },
        {
         "name": "Attr12",
         "rawType": "float64",
         "type": "float"
        },
        {
         "name": "Attr13",
         "rawType": "float64",
         "type": "float"
        },
        {
         "name": "Attr14",
         "rawType": "float64",
         "type": "float"
        },
        {
         "name": "Attr15",
         "rawType": "float64",
         "type": "float"
        },
        {
         "name": "Attr16",
         "rawType": "float64",
         "type": "float"
        },
        {
         "name": "Attr17",
         "rawType": "float64",
         "type": "float"
        },
        {
         "name": "Attr18",
         "rawType": "float64",
         "type": "float"
        },
        {
         "name": "Attr19",
         "rawType": "float64",
         "type": "float"
        },
        {
         "name": "Attr20",
         "rawType": "float64",
         "type": "float"
        },
        {
         "name": "Attr21",
         "rawType": "float64",
         "type": "float"
        },
        {
         "name": "Attr22",
         "rawType": "float64",
         "type": "float"
        },
        {
         "name": "Attr23",
         "rawType": "float64",
         "type": "float"
        },
        {
         "name": "Attr24",
         "rawType": "float64",
         "type": "float"
        },
        {
         "name": "Attr25",
         "rawType": "float64",
         "type": "float"
        },
        {
         "name": "Attr26",
         "rawType": "float64",
         "type": "float"
        },
        {
         "name": "Attr27",
         "rawType": "float64",
         "type": "float"
        },
        {
         "name": "Attr28",
         "rawType": "float64",
         "type": "float"
        },
        {
         "name": "Attr29",
         "rawType": "float64",
         "type": "float"
        },
        {
         "name": "Attr30",
         "rawType": "float64",
         "type": "float"
        },
        {
         "name": "Attr31",
         "rawType": "float64",
         "type": "float"
        },
        {
         "name": "Attr32",
         "rawType": "float64",
         "type": "float"
        },
        {
         "name": "Attr33",
         "rawType": "float64",
         "type": "float"
        },
        {
         "name": "Attr34",
         "rawType": "float64",
         "type": "float"
        },
        {
         "name": "Attr35",
         "rawType": "float64",
         "type": "float"
        },
        {
         "name": "Attr36",
         "rawType": "float64",
         "type": "float"
        },
        {
         "name": "Attr37",
         "rawType": "float64",
         "type": "float"
        },
        {
         "name": "Attr38",
         "rawType": "float64",
         "type": "float"
        },
        {
         "name": "Attr39",
         "rawType": "float64",
         "type": "float"
        },
        {
         "name": "Attr40",
         "rawType": "float64",
         "type": "float"
        },
        {
         "name": "Attr41",
         "rawType": "float64",
         "type": "float"
        },
        {
         "name": "Attr42",
         "rawType": "float64",
         "type": "float"
        },
        {
         "name": "Attr43",
         "rawType": "float64",
         "type": "float"
        },
        {
         "name": "Attr44",
         "rawType": "float64",
         "type": "float"
        },
        {
         "name": "Attr45",
         "rawType": "float64",
         "type": "float"
        },
        {
         "name": "Attr46",
         "rawType": "float64",
         "type": "float"
        },
        {
         "name": "Attr47",
         "rawType": "float64",
         "type": "float"
        },
        {
         "name": "Attr48",
         "rawType": "float64",
         "type": "float"
        },
        {
         "name": "Attr49",
         "rawType": "float64",
         "type": "float"
        },
        {
         "name": "Attr50",
         "rawType": "float64",
         "type": "float"
        },
        {
         "name": "Attr51",
         "rawType": "float64",
         "type": "float"
        },
        {
         "name": "Attr52",
         "rawType": "float64",
         "type": "float"
        },
        {
         "name": "Attr53",
         "rawType": "float64",
         "type": "float"
        },
        {
         "name": "Attr54",
         "rawType": "float64",
         "type": "float"
        },
        {
         "name": "Attr55",
         "rawType": "float64",
         "type": "float"
        },
        {
         "name": "Attr56",
         "rawType": "float64",
         "type": "float"
        },
        {
         "name": "Attr57",
         "rawType": "float64",
         "type": "float"
        },
        {
         "name": "Attr58",
         "rawType": "float64",
         "type": "float"
        },
        {
         "name": "Attr59",
         "rawType": "float64",
         "type": "float"
        },
        {
         "name": "Attr60",
         "rawType": "float64",
         "type": "float"
        },
        {
         "name": "Attr61",
         "rawType": "float64",
         "type": "float"
        },
        {
         "name": "Attr62",
         "rawType": "float64",
         "type": "float"
        },
        {
         "name": "Attr63",
         "rawType": "float64",
         "type": "float"
        },
        {
         "name": "Attr64",
         "rawType": "float64",
         "type": "float"
        },
        {
         "name": "class",
         "rawType": "object",
         "type": "string"
        }
       ],
       "ref": "cfc7161c-0c13-452a-a2e5-9f15081a15f4",
       "rows": [
        [
         "0",
         "0.17419",
         "0.41299",
         "0.14371",
         "1.348",
         "-28.982",
         "0.60383",
         "0.21946",
         "1.1225",
         "1.1961",
         "0.46359",
         "0.21946",
         "0.53139",
         "0.14233",
         "0.21946",
         "592.24",
         "0.6163",
         "2.4213",
         "0.21946",
         "0.12272",
         "37.573",
         "0.9969",
         "0.2951",
         "0.097402",
         "0.75641",
         "0.46359",
         "0.50669",
         "1.9737",
         "0.32417",
         "5.9473",
         "0.22493",
         "0.12272",
         "100.82",
         "3.6203",
         "0.71453",
         "0.2951",
         "1.8079",
         "123140.0",
         "0.46359",
         "0.16501",
         "0.21282",
         "0.041124",
         "0.16501",
         "95.682",
         "58.109",
         "0.94621",
         "0.90221",
         "44.941",
         "0.26003",
         "0.1454",
         "1.348",
         "0.41299",
         "0.27622",
         "1.0457",
         "1.0458",
         "127280.0",
         "0.16396",
         "0.37574",
         "0.83604",
         "6.5269e-06",
         "9.7145",
         "6.2813",
         "84.291",
         "4.3303",
         "4.0341",
         "b'0'"
        ],
        [
         "1",
         "0.14624",
         "0.46038",
         "0.2823",
         "1.6294",
         "2.5952",
         "0.0",
         "0.17185",
         "1.1721",
         "1.6018",
         "0.53962",
         "0.17579",
         "0.38317",
         "0.12647",
         "0.17185",
         "829.46",
         "0.44004",
         "2.1721",
         "0.17185",
         "0.10728",
         "60.954",
         "5.0889",
         "0.17571",
         "0.091295",
         null,
         "0.17523",
         "0.38442",
         "44.593",
         "1.0486",
         "4.0792",
         "0.24384",
         "0.10974",
         "105.09",
         "3.4733",
         "3.3836",
         "0.044076",
         "1.6018",
         null,
         "0.53962",
         "0.027516",
         "0.16406",
         "0.074333",
         "0.10969",
         "149.75",
         "88.801",
         "0.54669",
         "1.033",
         "62.678",
         "0.14497",
         "0.090503",
         "1.5874",
         "0.44849",
         "0.28791",
         "2.0044",
         "2.0044",
         "3387.8",
         "0.027516",
         "0.271",
         "0.90108",
         "0.0",
         "5.9882",
         "4.1103",
         "102.19",
         "3.5716",
         "5.95",
         "b'0'"
        ],
        [
         "2",
         "0.00059529",
         "0.22612",
         "0.48839",
         "3.1599",
         "84.874",
         "0.19114",
         "0.0045718",
         "2.9881",
         "1.0077",
         "0.67566",
         "0.0045718",
         "0.020219",
         "0.030966",
         "0.0045718",
         "2094.1",
         "0.1743",
         "4.4225",
         "0.0045718",
         "0.0035921",
         "53.881",
         "0.67451",
         "0.04061",
         "0.00046772",
         "0.2347",
         "0.67566",
         "0.15672",
         "0.32153",
         "1.7107",
         "4.622",
         "0.036196",
         "0.0035921",
         "65.345",
         "5.5857",
         "0.1796",
         "0.04061",
         "1.3425",
         null,
         "0.67566",
         "0.031907",
         "0.84469",
         "0.098528",
         "0.031907",
         "150.13",
         "96.251",
         "0.0031684",
         "2.329",
         "54.296",
         "0.0057691",
         "0.0045328",
         "3.1599",
         "0.22612",
         "0.17903",
         "2.3667",
         "2.3667",
         "20453.0",
         "0.0076387",
         "0.00088105",
         "0.99236",
         "0.0",
         "6.7742",
         "3.7922",
         "64.846",
         "5.6287",
         "4.4581",
         "b'0'"
        ],
        [
         "3",
         "0.024526",
         "0.43236",
         "0.27546",
         "1.7833",
         "-10.105",
         "0.56944",
         "0.024526",
         "1.3057",
         "1.0509",
         "0.56453",
         "0.024526",
         "0.069747",
         "0.036812",
         "0.024526",
         "3299.4",
         "0.11063",
         "2.3129",
         "0.024526",
         "0.018876",
         "86.317",
         "0.62795",
         "0.055446",
         "0.018876",
         "0.56944",
         "0.56453",
         "0.11063",
         "0.44844",
         "0.73869",
         "4.26",
         "0.28624",
         "0.018876",
         "103.81",
         "3.5161",
         "0.12824",
         "0.055446",
         "1.3068",
         "3.9624",
         "0.64524",
         "0.042673",
         "0.17826",
         "0.1805",
         "0.042673",
         "158.55",
         "72.237",
         "0.079819",
         "0.90954",
         "90.707",
         "0.032141",
         "0.024737",
         "1.4504",
         "0.35164",
         "0.2844",
         "1.5139",
         "1.7303",
         "5012.6",
         "0.048398",
         "0.043445",
         "0.9516",
         "0.14298",
         "4.2286",
         "5.0528",
         "98.783",
         "3.695",
         "3.4844",
         "b'0'"
        ],
        [
         "4",
         "0.18829",
         "0.41504",
         "0.34231",
         "1.9279",
         "-58.274",
         "0.0",
         "0.23358",
         "1.4094",
         "1.3393",
         "0.58496",
         "0.23881",
         "0.63317",
         "0.1878",
         "0.23358",
         "602.31",
         "0.606",
         "2.4094",
         "0.23358",
         "0.17441",
         "140.86",
         "1.2039",
         "0.23493",
         "0.14059",
         "0.0",
         "0.5725",
         "0.49687",
         "44.947",
         "1.1853",
         "4.6033",
         "0.30691",
         "0.17784",
         "122.09",
         "2.9897",
         "2.6574",
         "0.23635",
         "1.3393",
         "4.549",
         "0.62769",
         "0.17648",
         "0.013769",
         "0.054712",
         "0.17542",
         "192.45",
         "51.585",
         "0.36429",
         "0.52685",
         "171.05",
         "0.21699",
         "0.16203",
         "1.7136",
         "0.36891",
         "0.33449",
         "2.0256",
         "2.1735",
         "13730.0",
         "0.17648",
         "0.32188",
         "0.82635",
         "0.073039",
         "2.5912",
         "7.0756",
         "100.54",
         "3.6303",
         "4.6375",
         "b'0'"
        ]
       ],
       "shape": {
        "columns": 65,
        "rows": 5
       }
      },
      "text/html": [
       "<div>\n",
       "<style scoped>\n",
       "    .dataframe tbody tr th:only-of-type {\n",
       "        vertical-align: middle;\n",
       "    }\n",
       "\n",
       "    .dataframe tbody tr th {\n",
       "        vertical-align: top;\n",
       "    }\n",
       "\n",
       "    .dataframe thead th {\n",
       "        text-align: right;\n",
       "    }\n",
       "</style>\n",
       "<table border=\"1\" class=\"dataframe\">\n",
       "  <thead>\n",
       "    <tr style=\"text-align: right;\">\n",
       "      <th></th>\n",
       "      <th>Attr1</th>\n",
       "      <th>Attr2</th>\n",
       "      <th>Attr3</th>\n",
       "      <th>Attr4</th>\n",
       "      <th>Attr5</th>\n",
       "      <th>Attr6</th>\n",
       "      <th>Attr7</th>\n",
       "      <th>Attr8</th>\n",
       "      <th>Attr9</th>\n",
       "      <th>Attr10</th>\n",
       "      <th>...</th>\n",
       "      <th>Attr56</th>\n",
       "      <th>Attr57</th>\n",
       "      <th>Attr58</th>\n",
       "      <th>Attr59</th>\n",
       "      <th>Attr60</th>\n",
       "      <th>Attr61</th>\n",
       "      <th>Attr62</th>\n",
       "      <th>Attr63</th>\n",
       "      <th>Attr64</th>\n",
       "      <th>class</th>\n",
       "    </tr>\n",
       "  </thead>\n",
       "  <tbody>\n",
       "    <tr>\n",
       "      <th>0</th>\n",
       "      <td>0.174190</td>\n",
       "      <td>0.41299</td>\n",
       "      <td>0.14371</td>\n",
       "      <td>1.3480</td>\n",
       "      <td>-28.9820</td>\n",
       "      <td>0.60383</td>\n",
       "      <td>0.219460</td>\n",
       "      <td>1.1225</td>\n",
       "      <td>1.1961</td>\n",
       "      <td>0.46359</td>\n",
       "      <td>...</td>\n",
       "      <td>0.163960</td>\n",
       "      <td>0.375740</td>\n",
       "      <td>0.83604</td>\n",
       "      <td>0.000007</td>\n",
       "      <td>9.7145</td>\n",
       "      <td>6.2813</td>\n",
       "      <td>84.291</td>\n",
       "      <td>4.3303</td>\n",
       "      <td>4.0341</td>\n",
       "      <td>b'0'</td>\n",
       "    </tr>\n",
       "    <tr>\n",
       "      <th>1</th>\n",
       "      <td>0.146240</td>\n",
       "      <td>0.46038</td>\n",
       "      <td>0.28230</td>\n",
       "      <td>1.6294</td>\n",
       "      <td>2.5952</td>\n",
       "      <td>0.00000</td>\n",
       "      <td>0.171850</td>\n",
       "      <td>1.1721</td>\n",
       "      <td>1.6018</td>\n",
       "      <td>0.53962</td>\n",
       "      <td>...</td>\n",
       "      <td>0.027516</td>\n",
       "      <td>0.271000</td>\n",
       "      <td>0.90108</td>\n",
       "      <td>0.000000</td>\n",
       "      <td>5.9882</td>\n",
       "      <td>4.1103</td>\n",
       "      <td>102.190</td>\n",
       "      <td>3.5716</td>\n",
       "      <td>5.9500</td>\n",
       "      <td>b'0'</td>\n",
       "    </tr>\n",
       "    <tr>\n",
       "      <th>2</th>\n",
       "      <td>0.000595</td>\n",
       "      <td>0.22612</td>\n",
       "      <td>0.48839</td>\n",
       "      <td>3.1599</td>\n",
       "      <td>84.8740</td>\n",
       "      <td>0.19114</td>\n",
       "      <td>0.004572</td>\n",
       "      <td>2.9881</td>\n",
       "      <td>1.0077</td>\n",
       "      <td>0.67566</td>\n",
       "      <td>...</td>\n",
       "      <td>0.007639</td>\n",
       "      <td>0.000881</td>\n",
       "      <td>0.99236</td>\n",
       "      <td>0.000000</td>\n",
       "      <td>6.7742</td>\n",
       "      <td>3.7922</td>\n",
       "      <td>64.846</td>\n",
       "      <td>5.6287</td>\n",
       "      <td>4.4581</td>\n",
       "      <td>b'0'</td>\n",
       "    </tr>\n",
       "    <tr>\n",
       "      <th>3</th>\n",
       "      <td>0.024526</td>\n",
       "      <td>0.43236</td>\n",
       "      <td>0.27546</td>\n",
       "      <td>1.7833</td>\n",
       "      <td>-10.1050</td>\n",
       "      <td>0.56944</td>\n",
       "      <td>0.024526</td>\n",
       "      <td>1.3057</td>\n",
       "      <td>1.0509</td>\n",
       "      <td>0.56453</td>\n",
       "      <td>...</td>\n",
       "      <td>0.048398</td>\n",
       "      <td>0.043445</td>\n",
       "      <td>0.95160</td>\n",
       "      <td>0.142980</td>\n",
       "      <td>4.2286</td>\n",
       "      <td>5.0528</td>\n",
       "      <td>98.783</td>\n",
       "      <td>3.6950</td>\n",
       "      <td>3.4844</td>\n",
       "      <td>b'0'</td>\n",
       "    </tr>\n",
       "    <tr>\n",
       "      <th>4</th>\n",
       "      <td>0.188290</td>\n",
       "      <td>0.41504</td>\n",
       "      <td>0.34231</td>\n",
       "      <td>1.9279</td>\n",
       "      <td>-58.2740</td>\n",
       "      <td>0.00000</td>\n",
       "      <td>0.233580</td>\n",
       "      <td>1.4094</td>\n",
       "      <td>1.3393</td>\n",
       "      <td>0.58496</td>\n",
       "      <td>...</td>\n",
       "      <td>0.176480</td>\n",
       "      <td>0.321880</td>\n",
       "      <td>0.82635</td>\n",
       "      <td>0.073039</td>\n",
       "      <td>2.5912</td>\n",
       "      <td>7.0756</td>\n",
       "      <td>100.540</td>\n",
       "      <td>3.6303</td>\n",
       "      <td>4.6375</td>\n",
       "      <td>b'0'</td>\n",
       "    </tr>\n",
       "  </tbody>\n",
       "</table>\n",
       "<p>5 rows × 65 columns</p>\n",
       "</div>"
      ],
      "text/plain": [
       "      Attr1    Attr2    Attr3   Attr4    Attr5    Attr6     Attr7   Attr8  \\\n",
       "0  0.174190  0.41299  0.14371  1.3480 -28.9820  0.60383  0.219460  1.1225   \n",
       "1  0.146240  0.46038  0.28230  1.6294   2.5952  0.00000  0.171850  1.1721   \n",
       "2  0.000595  0.22612  0.48839  3.1599  84.8740  0.19114  0.004572  2.9881   \n",
       "3  0.024526  0.43236  0.27546  1.7833 -10.1050  0.56944  0.024526  1.3057   \n",
       "4  0.188290  0.41504  0.34231  1.9279 -58.2740  0.00000  0.233580  1.4094   \n",
       "\n",
       "    Attr9   Attr10  ...    Attr56    Attr57   Attr58    Attr59  Attr60  \\\n",
       "0  1.1961  0.46359  ...  0.163960  0.375740  0.83604  0.000007  9.7145   \n",
       "1  1.6018  0.53962  ...  0.027516  0.271000  0.90108  0.000000  5.9882   \n",
       "2  1.0077  0.67566  ...  0.007639  0.000881  0.99236  0.000000  6.7742   \n",
       "3  1.0509  0.56453  ...  0.048398  0.043445  0.95160  0.142980  4.2286   \n",
       "4  1.3393  0.58496  ...  0.176480  0.321880  0.82635  0.073039  2.5912   \n",
       "\n",
       "   Attr61   Attr62  Attr63  Attr64  class  \n",
       "0  6.2813   84.291  4.3303  4.0341   b'0'  \n",
       "1  4.1103  102.190  3.5716  5.9500   b'0'  \n",
       "2  3.7922   64.846  5.6287  4.4581   b'0'  \n",
       "3  5.0528   98.783  3.6950  3.4844   b'0'  \n",
       "4  7.0756  100.540  3.6303  4.6375   b'0'  \n",
       "\n",
       "[5 rows x 65 columns]"
      ]
     },
     "execution_count": 4,
     "metadata": {},
     "output_type": "execute_result"
    }
   ],
   "source": [
    "X.head()"
   ]
  },
  {
   "cell_type": "code",
   "execution_count": null,
   "metadata": {
    "editable": true,
    "pycharm": {
     "name": "#%%\n"
    },
    "slideshow": {
     "slide_type": ""
    },
    "tags": []
   },
   "outputs": [
    {
     "data": {
      "application/vnd.microsoft.datawrangler.viewer.v0+json": {
       "columns": [
        {
         "name": "index",
         "rawType": "object",
         "type": "string"
        },
        {
         "name": "0",
         "rawType": "object",
         "type": "string"
        }
       ],
       "ref": "e80d6e92-e333-40a9-8c40-59adcd58f7e3",
       "rows": [
        [
         "Attr1",
         "float64"
        ],
        [
         "Attr2",
         "float64"
        ],
        [
         "Attr3",
         "float64"
        ],
        [
         "Attr4",
         "float64"
        ],
        [
         "Attr5",
         "float64"
        ],
        [
         "Attr6",
         "float64"
        ],
        [
         "Attr7",
         "float64"
        ],
        [
         "Attr8",
         "float64"
        ],
        [
         "Attr9",
         "float64"
        ],
        [
         "Attr10",
         "float64"
        ],
        [
         "Attr11",
         "float64"
        ],
        [
         "Attr12",
         "float64"
        ],
        [
         "Attr13",
         "float64"
        ],
        [
         "Attr14",
         "float64"
        ],
        [
         "Attr15",
         "float64"
        ],
        [
         "Attr16",
         "float64"
        ],
        [
         "Attr17",
         "float64"
        ],
        [
         "Attr18",
         "float64"
        ],
        [
         "Attr19",
         "float64"
        ],
        [
         "Attr20",
         "float64"
        ],
        [
         "Attr21",
         "float64"
        ],
        [
         "Attr22",
         "float64"
        ],
        [
         "Attr23",
         "float64"
        ],
        [
         "Attr24",
         "float64"
        ],
        [
         "Attr25",
         "float64"
        ],
        [
         "Attr26",
         "float64"
        ],
        [
         "Attr27",
         "float64"
        ],
        [
         "Attr28",
         "float64"
        ],
        [
         "Attr29",
         "float64"
        ],
        [
         "Attr30",
         "float64"
        ],
        [
         "Attr31",
         "float64"
        ],
        [
         "Attr32",
         "float64"
        ],
        [
         "Attr33",
         "float64"
        ],
        [
         "Attr34",
         "float64"
        ],
        [
         "Attr35",
         "float64"
        ],
        [
         "Attr36",
         "float64"
        ],
        [
         "Attr37",
         "float64"
        ],
        [
         "Attr38",
         "float64"
        ],
        [
         "Attr39",
         "float64"
        ],
        [
         "Attr40",
         "float64"
        ],
        [
         "Attr41",
         "float64"
        ],
        [
         "Attr42",
         "float64"
        ],
        [
         "Attr43",
         "float64"
        ],
        [
         "Attr44",
         "float64"
        ],
        [
         "Attr45",
         "float64"
        ],
        [
         "Attr46",
         "float64"
        ],
        [
         "Attr47",
         "float64"
        ],
        [
         "Attr48",
         "float64"
        ],
        [
         "Attr49",
         "float64"
        ],
        [
         "Attr50",
         "float64"
        ]
       ],
       "shape": {
        "columns": 1,
        "rows": 65
       }
      },
      "text/plain": [
       "Attr1     float64\n",
       "Attr2     float64\n",
       "Attr3     float64\n",
       "Attr4     float64\n",
       "Attr5     float64\n",
       "           ...   \n",
       "Attr61    float64\n",
       "Attr62    float64\n",
       "Attr63    float64\n",
       "Attr64    float64\n",
       "class      object\n",
       "Length: 65, dtype: object"
      ]
     },
     "execution_count": 5,
     "metadata": {},
     "output_type": "execute_result"
    }
   ],
   "source": [
    "X.dtypes"
   ]
  },
  {
   "cell_type": "code",
   "execution_count": null,
   "metadata": {
    "pycharm": {
     "name": "#%%\n"
    }
   },
   "outputs": [
    {
     "data": {
      "application/vnd.microsoft.datawrangler.viewer.v0+json": {
       "columns": [
        {
         "name": "index",
         "rawType": "object",
         "type": "string"
        },
        {
         "name": "Attr1",
         "rawType": "float64",
         "type": "float"
        },
        {
         "name": "Attr2",
         "rawType": "float64",
         "type": "float"
        },
        {
         "name": "Attr3",
         "rawType": "float64",
         "type": "float"
        },
        {
         "name": "Attr4",
         "rawType": "float64",
         "type": "float"
        },
        {
         "name": "Attr5",
         "rawType": "float64",
         "type": "float"
        },
        {
         "name": "Attr6",
         "rawType": "float64",
         "type": "float"
        },
        {
         "name": "Attr7",
         "rawType": "float64",
         "type": "float"
        },
        {
         "name": "Attr8",
         "rawType": "float64",
         "type": "float"
        },
        {
         "name": "Attr9",
         "rawType": "float64",
         "type": "float"
        },
        {
         "name": "Attr10",
         "rawType": "float64",
         "type": "float"
        },
        {
         "name": "Attr11",
         "rawType": "float64",
         "type": "float"
        },
        {
         "name": "Attr12",
         "rawType": "float64",
         "type": "float"
        },
        {
         "name": "Attr13",
         "rawType": "float64",
         "type": "float"
        },
        {
         "name": "Attr14",
         "rawType": "float64",
         "type": "float"
        },
        {
         "name": "Attr15",
         "rawType": "float64",
         "type": "float"
        },
        {
         "name": "Attr16",
         "rawType": "float64",
         "type": "float"
        },
        {
         "name": "Attr17",
         "rawType": "float64",
         "type": "float"
        },
        {
         "name": "Attr18",
         "rawType": "float64",
         "type": "float"
        },
        {
         "name": "Attr19",
         "rawType": "float64",
         "type": "float"
        },
        {
         "name": "Attr20",
         "rawType": "float64",
         "type": "float"
        },
        {
         "name": "Attr21",
         "rawType": "float64",
         "type": "float"
        },
        {
         "name": "Attr22",
         "rawType": "float64",
         "type": "float"
        },
        {
         "name": "Attr23",
         "rawType": "float64",
         "type": "float"
        },
        {
         "name": "Attr24",
         "rawType": "float64",
         "type": "float"
        },
        {
         "name": "Attr25",
         "rawType": "float64",
         "type": "float"
        },
        {
         "name": "Attr26",
         "rawType": "float64",
         "type": "float"
        },
        {
         "name": "Attr27",
         "rawType": "float64",
         "type": "float"
        },
        {
         "name": "Attr28",
         "rawType": "float64",
         "type": "float"
        },
        {
         "name": "Attr29",
         "rawType": "float64",
         "type": "float"
        },
        {
         "name": "Attr30",
         "rawType": "float64",
         "type": "float"
        },
        {
         "name": "Attr31",
         "rawType": "float64",
         "type": "float"
        },
        {
         "name": "Attr32",
         "rawType": "float64",
         "type": "float"
        },
        {
         "name": "Attr33",
         "rawType": "float64",
         "type": "float"
        },
        {
         "name": "Attr34",
         "rawType": "float64",
         "type": "float"
        },
        {
         "name": "Attr35",
         "rawType": "float64",
         "type": "float"
        },
        {
         "name": "Attr36",
         "rawType": "float64",
         "type": "float"
        },
        {
         "name": "Attr37",
         "rawType": "float64",
         "type": "float"
        },
        {
         "name": "Attr38",
         "rawType": "float64",
         "type": "float"
        },
        {
         "name": "Attr39",
         "rawType": "float64",
         "type": "float"
        },
        {
         "name": "Attr40",
         "rawType": "float64",
         "type": "float"
        },
        {
         "name": "Attr41",
         "rawType": "float64",
         "type": "float"
        },
        {
         "name": "Attr42",
         "rawType": "float64",
         "type": "float"
        },
        {
         "name": "Attr43",
         "rawType": "float64",
         "type": "float"
        },
        {
         "name": "Attr44",
         "rawType": "float64",
         "type": "float"
        },
        {
         "name": "Attr45",
         "rawType": "float64",
         "type": "float"
        },
        {
         "name": "Attr46",
         "rawType": "float64",
         "type": "float"
        },
        {
         "name": "Attr47",
         "rawType": "float64",
         "type": "float"
        },
        {
         "name": "Attr48",
         "rawType": "float64",
         "type": "float"
        },
        {
         "name": "Attr49",
         "rawType": "float64",
         "type": "float"
        },
        {
         "name": "Attr50",
         "rawType": "float64",
         "type": "float"
        },
        {
         "name": "Attr51",
         "rawType": "float64",
         "type": "float"
        },
        {
         "name": "Attr52",
         "rawType": "float64",
         "type": "float"
        },
        {
         "name": "Attr53",
         "rawType": "float64",
         "type": "float"
        },
        {
         "name": "Attr54",
         "rawType": "float64",
         "type": "float"
        },
        {
         "name": "Attr55",
         "rawType": "float64",
         "type": "float"
        },
        {
         "name": "Attr56",
         "rawType": "float64",
         "type": "float"
        },
        {
         "name": "Attr57",
         "rawType": "float64",
         "type": "float"
        },
        {
         "name": "Attr58",
         "rawType": "float64",
         "type": "float"
        },
        {
         "name": "Attr59",
         "rawType": "float64",
         "type": "float"
        },
        {
         "name": "Attr60",
         "rawType": "float64",
         "type": "float"
        },
        {
         "name": "Attr61",
         "rawType": "float64",
         "type": "float"
        },
        {
         "name": "Attr62",
         "rawType": "float64",
         "type": "float"
        },
        {
         "name": "Attr63",
         "rawType": "float64",
         "type": "float"
        },
        {
         "name": "Attr64",
         "rawType": "float64",
         "type": "float"
        }
       ],
       "ref": "83649467-ede6-49a1-b92a-8bb8cfe73b11",
       "rows": [
        [
         "count",
         "10503.0",
         "10503.0",
         "10503.0",
         "10485.0",
         "10478.0",
         "10503.0",
         "10503.0",
         "10489.0",
         "10500.0",
         "10503.0",
         "10503.0",
         "10485.0",
         "10460.0",
         "10503.0",
         "10495.0",
         "10489.0",
         "10489.0",
         "10503.0",
         "10460.0",
         "10460.0",
         "9696.0",
         "10503.0",
         "10460.0",
         "10276.0",
         "10503.0",
         "10489.0",
         "9788.0",
         "10275.0",
         "10503.0",
         "10460.0",
         "10460.0",
         "10402.0",
         "10485.0",
         "10489.0",
         "10503.0",
         "10503.0",
         "5767.0",
         "10503.0",
         "10460.0",
         "10485.0",
         "10301.0",
         "10460.0",
         "10460.0",
         "10460.0",
         "9912.0",
         "10485.0",
         "10417.0",
         "10503.0",
         "10460.0",
         "10489.0",
         "10503.0",
         "10417.0",
         "10275.0",
         "10275.0",
         "10503.0",
         "10460.0",
         "10503.0",
         "10474.0",
         "10503.0",
         "9911.0",
         "10486.0",
         "10460.0",
         "10485.0",
         "10275.0"
        ],
        [
         "mean",
         "0.052844457172807766",
         "0.6199113234384461",
         "0.09549032189564885",
         "9.980499132865999",
         "-1347.6623719307117",
         "-0.12115905542260974",
         "0.06562445255841189",
         "19.1401133131288",
         "1.8192543254071427",
         "0.3660925364265448",
         "0.08676357599504902",
         "2.411266181184645",
         "0.37656268754120464",
         "0.06563441466447682",
         "3004.33247938323",
         "2.72965401031719",
         "20.511539469815997",
         "0.07073920282024183",
         "-0.17077797810028683",
         "68.4485311900498",
         "4.670724623188944",
         "0.07567601069437303",
         "-0.17646572638661565",
         "0.21193634167117553",
         "0.1961525036043892",
         "2.5807302520751554",
         "1185.945272386948",
         "6.092884194342579",
         "3.9211789718175765",
         "0.45934600659053526",
         "-0.17708441152294455",
         "1171.6698421895694",
         "8.419886835564805",
         "5.398356479388789",
         "0.07107523953715891",
         "1.9812495902647813",
         "102.69769233953528",
         "0.4655104598543273",
         "-0.07635543283142832",
         "2.3810256940659325",
         "28.707178040782036",
         "-0.1416714587834226",
         "195.38928580305927",
         "126.94025993671127",
         "17.451296706753432",
         "8.978028535126372",
         "542.4888280143938",
         "0.00483403218563239",
         "-0.2178444056170593",
         "8.686024429354562",
         "0.4971351649208798",
         "11.244158235126237",
         "5.725829081880292",
         "6.708568146281265",
         "6638.548617242692",
         "-0.5300819908692158",
         "-0.014817007748167195",
         "3.8487940186264336",
         "1.4293194689376088",
         "571.3363093360206",
         "13.935361234350562",
         "135.5369894913958",
         "9.095149362271815",
         "35.76680034161654"
        ],
        [
         "std",
         "0.6477968150567169",
         "6.427041254626639",
         "6.420056091265591",
         "523.6919511753405",
         "118580.56922175545",
         "6.970624856748131",
         "0.6511519841223864",
         "717.7567453303391",
         "7.581659053180191",
         "6.428603234913848",
         "0.6554067928293331",
         "111.45964213015847",
         "49.67554985407436",
         "0.6511513027005337",
         "109198.11962565026",
         "110.23347520408045",
         "721.8127658007188",
         "0.8353284628191971",
         "11.210200881194922",
         "1083.6999038565539",
         "305.89723751817553",
         "0.5817338446143946",
         "11.149274157219153",
         "2.093845488830421",
         "6.742160867812636",
         "108.823993144396",
         "34691.22922961915",
         "94.71375327105528",
         "0.840527845631199",
         "71.75504244407205",
         "11.157003495347663",
         "68412.70291290054",
         "37.6967642013374",
         "69.03526263738942",
         "0.572124296413182",
         "2.6307050790673605",
         "2469.4476793252106",
         "6.425361507447843",
         "8.079334349422263",
         "37.819838682846424",
         "2845.290345898173",
         "10.78755471610945",
         "3303.3095538423445",
         "2766.5055034291418",
         "1720.3421761885036",
         "523.5656010004038",
         "31264.160235881634",
         "0.6297699834658412",
         "11.910934872062992",
         "522.5283247357669",
         "6.420884705733342",
         "851.8679147309055",
         "89.70804176195516",
         "93.51152982730807",
         "59891.95797217477",
         "55.978608371584535",
         "18.68404694804074",
         "190.20122438575748",
         "77.27326983413319",
         "37159.67225541177",
         "83.70410335116715",
         "25991.162023494846",
         "31.41909643412021",
         "428.29831545989543"
        ],
        [
         "min",
         "-17.692",
         "0.0",
         "-479.73",
         "0.0020802",
         "-11903000.0",
         "-508.12",
         "-17.692",
         "-2.0818",
         "-1.2157",
         "-479.73",
         "-17.692",
         "-1543.8",
         "-631.71",
         "-17.692",
         "-2321800.0",
         "-204.3",
         "-0.043411",
         "-17.692",
         "-771.65",
         "-0.0014386",
         "-1.1075",
         "-17.692",
         "-771.65",
         "-60.742",
         "-500.75",
         "-204.3",
         "-190130.0",
         "-690.4",
         "-0.35853",
         "-6351.7",
         "-771.39",
         "-9295.6",
         "-1.9219",
         "-1696.0",
         "-17.073",
         "-8.4465e-05",
         "-2.2009",
         "-479.73",
         "-551.11",
         "-7.0819",
         "-667.73",
         "-765.8",
         "-25113.0",
         "-25113.0",
         "-74385.0",
         "-6.4692",
         "-17.303",
         "-17.692",
         "-905.75",
         "0.0020802",
         "0.0",
         "-25.467",
         "-869.04",
         "-706.49",
         "-751380.0",
         "-5691.7",
         "-1667.3",
         "-198.69",
         "-172.07",
         "0.0",
         "-6.5903",
         "-2336500.0",
         "-0.00015622",
         "-0.0001023"
        ],
        [
         "25%",
         "0.00068604",
         "0.25395500000000004",
         "0.0174605",
         "1.0401",
         "-52.07075",
         "0.0",
         "0.0021176",
         "0.43127",
         "1.0112750000000001",
         "0.29734",
         "0.0098094",
         "0.0061831",
         "0.0207395",
         "0.0021313",
         "186.595",
         "0.060302",
         "1.4492",
         "0.0021313",
         "0.0016479250000000002",
         "14.25375",
         "0.7966725",
         "0.0",
         "0.0005563825",
         "0.014938",
         "0.135695",
         "0.055067",
         "0.0",
         "0.0271775",
         "3.3932",
         "0.07385025",
         "0.004011775",
         "44.719",
         "2.7859",
         "0.36746",
         "0.0017296500000000001",
         "1.0435",
         "1.0386",
         "0.42681",
         "0.00155655",
         "0.053666",
         "0.022026",
         "0.0",
         "65.62725",
         "34.21475",
         "0.0061574",
         "0.60283",
         "14.941",
         "-0.0489875",
         "-0.036186249999999996",
         "0.74937",
         "0.1772",
         "0.12247",
         "0.667285",
         "0.950435",
         "14.620999999999999",
         "0.0051369250000000005",
         "0.00679645",
         "0.87556",
         "0.0",
         "5.53315",
         "4.4860750000000005",
         "40.736999999999995",
         "3.0628",
         "2.0233499999999998"
        ],
        [
         "50%",
         "0.043034",
         "0.46414",
         "0.19856",
         "1.6056",
         "1.5793",
         "0.0",
         "0.050945",
         "1.111",
         "1.199",
         "0.5155",
         "0.068104",
         "0.15588",
         "0.0664325",
         "0.050953",
         "805.69",
         "0.23514",
         "2.1525",
         "0.050953",
         "0.032117",
         "34.432500000000005",
         "0.9550350000000001",
         "0.054633",
         "0.027129",
         "0.15837",
         "0.37769",
         "0.21326",
         "1.0669",
         "0.45993",
         "3.9321",
         "0.216525",
         "0.039689",
         "77.52199999999999",
         "4.6809",
         "2.0516",
         "0.053054",
         "1.5869",
         "2.7273",
         "0.62875",
         "0.03408",
         "0.1959",
         "0.079126",
         "0.034909",
         "99.131",
         "54.422",
         "0.261265",
         "1.0606",
         "37.104",
         "0.0096531",
         "0.00603375",
         "1.2312",
         "0.32657",
         "0.212",
         "1.2018",
         "1.3735",
         "882.29",
         "0.051765",
         "0.10688",
         "0.95306",
         "0.0029764",
         "9.9521",
         "6.677300000000001",
         "70.664",
         "5.1392",
         "4.0593"
        ],
        [
         "75%",
         "0.123805",
         "0.68933",
         "0.41954499999999995",
         "2.9595",
         "56.083999999999996",
         "0.0725845",
         "0.14227499999999998",
         "2.8571",
         "2.0591",
         "0.725635",
         "0.16109",
         "0.57034",
         "0.1336125",
         "0.14227499999999998",
         "2187.1",
         "0.64303",
         "3.9243",
         "0.142285",
         "0.08758250000000001",
         "63.69825",
         "1.1056499999999998",
         "0.14589",
         "0.0759345",
         "0.3736725",
         "0.6141000000000001",
         "0.58908",
         "4.814299999999999",
         "1.5648499999999999",
         "4.44995",
         "0.42623999999999995",
         "0.0990395",
         "129.185",
         "8.0815",
         "4.7686",
         "0.14573",
         "2.38075",
         "10.7415",
         "0.788415",
         "0.09091825",
         "0.74215",
         "0.1952",
         "0.09133875",
         "141.48250000000002",
         "80.8315",
         "0.9498025000000001",
         "2.0426",
         "69.823",
         "0.10071",
         "0.05970625",
         "2.3063",
         "0.52519",
         "0.35318",
         "2.2689000000000004",
         "2.43715",
         "4348.9",
         "0.13001",
         "0.27131",
         "0.9959275",
         "0.24031999999999998",
         "20.936",
         "10.587499999999999",
         "118.22",
         "8.8826",
         "9.68275"
        ],
        [
         "max",
         "52.652",
         "480.73",
         "17.708",
         "53433.0",
         "685440.0",
         "45.533",
         "52.652",
         "53432.0",
         "740.44",
         "11.837",
         "52.652",
         "8259.4",
         "4972.0",
         "52.652",
         "10236000.0",
         "8259.4",
         "53433.0",
         "53.689",
         "123.94",
         "91600.0",
         "29907.0",
         "47.597",
         "123.94",
         "179.92",
         "8.8345",
         "8262.3",
         "2723000.0",
         "6233.3",
         "9.6199",
         "2940.5",
         "60.43",
         "6674200.0",
         "2787.9",
         "6348.5",
         "47.597",
         "169.5",
         "136090.0",
         "13.656",
         "293.15",
         "2883.0",
         "288770.0",
         "165.95",
         "254030.0",
         "254030.0",
         "113280.0",
         "53433.0",
         "2591100.0",
         "47.597",
         "178.89",
         "53433.0",
         "480.73",
         "84827.0",
         "6234.3",
         "6234.3",
         "3380500.0",
         "293.15",
         "552.64",
         "18118.0",
         "7617.3",
         "3660200.0",
         "4470.4",
         "1073500.0",
         "1974.5",
         "21499.0"
        ]
       ],
       "shape": {
        "columns": 64,
        "rows": 8
       }
      },
      "text/html": [
       "<div>\n",
       "<style scoped>\n",
       "    .dataframe tbody tr th:only-of-type {\n",
       "        vertical-align: middle;\n",
       "    }\n",
       "\n",
       "    .dataframe tbody tr th {\n",
       "        vertical-align: top;\n",
       "    }\n",
       "\n",
       "    .dataframe thead th {\n",
       "        text-align: right;\n",
       "    }\n",
       "</style>\n",
       "<table border=\"1\" class=\"dataframe\">\n",
       "  <thead>\n",
       "    <tr style=\"text-align: right;\">\n",
       "      <th></th>\n",
       "      <th>Attr1</th>\n",
       "      <th>Attr2</th>\n",
       "      <th>Attr3</th>\n",
       "      <th>Attr4</th>\n",
       "      <th>Attr5</th>\n",
       "      <th>Attr6</th>\n",
       "      <th>Attr7</th>\n",
       "      <th>Attr8</th>\n",
       "      <th>Attr9</th>\n",
       "      <th>Attr10</th>\n",
       "      <th>...</th>\n",
       "      <th>Attr55</th>\n",
       "      <th>Attr56</th>\n",
       "      <th>Attr57</th>\n",
       "      <th>Attr58</th>\n",
       "      <th>Attr59</th>\n",
       "      <th>Attr60</th>\n",
       "      <th>Attr61</th>\n",
       "      <th>Attr62</th>\n",
       "      <th>Attr63</th>\n",
       "      <th>Attr64</th>\n",
       "    </tr>\n",
       "  </thead>\n",
       "  <tbody>\n",
       "    <tr>\n",
       "      <th>count</th>\n",
       "      <td>10503.000000</td>\n",
       "      <td>10503.000000</td>\n",
       "      <td>10503.000000</td>\n",
       "      <td>10485.000000</td>\n",
       "      <td>1.047800e+04</td>\n",
       "      <td>10503.000000</td>\n",
       "      <td>10503.000000</td>\n",
       "      <td>10489.000000</td>\n",
       "      <td>10500.000000</td>\n",
       "      <td>10503.000000</td>\n",
       "      <td>...</td>\n",
       "      <td>1.050300e+04</td>\n",
       "      <td>10460.000000</td>\n",
       "      <td>10503.000000</td>\n",
       "      <td>10474.000000</td>\n",
       "      <td>10503.000000</td>\n",
       "      <td>9.911000e+03</td>\n",
       "      <td>10486.000000</td>\n",
       "      <td>1.046000e+04</td>\n",
       "      <td>10485.000000</td>\n",
       "      <td>10275.000000</td>\n",
       "    </tr>\n",
       "    <tr>\n",
       "      <th>mean</th>\n",
       "      <td>0.052844</td>\n",
       "      <td>0.619911</td>\n",
       "      <td>0.095490</td>\n",
       "      <td>9.980499</td>\n",
       "      <td>-1.347662e+03</td>\n",
       "      <td>-0.121159</td>\n",
       "      <td>0.065624</td>\n",
       "      <td>19.140113</td>\n",
       "      <td>1.819254</td>\n",
       "      <td>0.366093</td>\n",
       "      <td>...</td>\n",
       "      <td>6.638549e+03</td>\n",
       "      <td>-0.530082</td>\n",
       "      <td>-0.014817</td>\n",
       "      <td>3.848794</td>\n",
       "      <td>1.429319</td>\n",
       "      <td>5.713363e+02</td>\n",
       "      <td>13.935361</td>\n",
       "      <td>1.355370e+02</td>\n",
       "      <td>9.095149</td>\n",
       "      <td>35.766800</td>\n",
       "    </tr>\n",
       "    <tr>\n",
       "      <th>std</th>\n",
       "      <td>0.647797</td>\n",
       "      <td>6.427041</td>\n",
       "      <td>6.420056</td>\n",
       "      <td>523.691951</td>\n",
       "      <td>1.185806e+05</td>\n",
       "      <td>6.970625</td>\n",
       "      <td>0.651152</td>\n",
       "      <td>717.756745</td>\n",
       "      <td>7.581659</td>\n",
       "      <td>6.428603</td>\n",
       "      <td>...</td>\n",
       "      <td>5.989196e+04</td>\n",
       "      <td>55.978608</td>\n",
       "      <td>18.684047</td>\n",
       "      <td>190.201224</td>\n",
       "      <td>77.273270</td>\n",
       "      <td>3.715967e+04</td>\n",
       "      <td>83.704103</td>\n",
       "      <td>2.599116e+04</td>\n",
       "      <td>31.419096</td>\n",
       "      <td>428.298315</td>\n",
       "    </tr>\n",
       "    <tr>\n",
       "      <th>min</th>\n",
       "      <td>-17.692000</td>\n",
       "      <td>0.000000</td>\n",
       "      <td>-479.730000</td>\n",
       "      <td>0.002080</td>\n",
       "      <td>-1.190300e+07</td>\n",
       "      <td>-508.120000</td>\n",
       "      <td>-17.692000</td>\n",
       "      <td>-2.081800</td>\n",
       "      <td>-1.215700</td>\n",
       "      <td>-479.730000</td>\n",
       "      <td>...</td>\n",
       "      <td>-7.513800e+05</td>\n",
       "      <td>-5691.700000</td>\n",
       "      <td>-1667.300000</td>\n",
       "      <td>-198.690000</td>\n",
       "      <td>-172.070000</td>\n",
       "      <td>0.000000e+00</td>\n",
       "      <td>-6.590300</td>\n",
       "      <td>-2.336500e+06</td>\n",
       "      <td>-0.000156</td>\n",
       "      <td>-0.000102</td>\n",
       "    </tr>\n",
       "    <tr>\n",
       "      <th>25%</th>\n",
       "      <td>0.000686</td>\n",
       "      <td>0.253955</td>\n",
       "      <td>0.017461</td>\n",
       "      <td>1.040100</td>\n",
       "      <td>-5.207075e+01</td>\n",
       "      <td>0.000000</td>\n",
       "      <td>0.002118</td>\n",
       "      <td>0.431270</td>\n",
       "      <td>1.011275</td>\n",
       "      <td>0.297340</td>\n",
       "      <td>...</td>\n",
       "      <td>1.462100e+01</td>\n",
       "      <td>0.005137</td>\n",
       "      <td>0.006796</td>\n",
       "      <td>0.875560</td>\n",
       "      <td>0.000000</td>\n",
       "      <td>5.533150e+00</td>\n",
       "      <td>4.486075</td>\n",
       "      <td>4.073700e+01</td>\n",
       "      <td>3.062800</td>\n",
       "      <td>2.023350</td>\n",
       "    </tr>\n",
       "    <tr>\n",
       "      <th>50%</th>\n",
       "      <td>0.043034</td>\n",
       "      <td>0.464140</td>\n",
       "      <td>0.198560</td>\n",
       "      <td>1.605600</td>\n",
       "      <td>1.579300e+00</td>\n",
       "      <td>0.000000</td>\n",
       "      <td>0.050945</td>\n",
       "      <td>1.111000</td>\n",
       "      <td>1.199000</td>\n",
       "      <td>0.515500</td>\n",
       "      <td>...</td>\n",
       "      <td>8.822900e+02</td>\n",
       "      <td>0.051765</td>\n",
       "      <td>0.106880</td>\n",
       "      <td>0.953060</td>\n",
       "      <td>0.002976</td>\n",
       "      <td>9.952100e+00</td>\n",
       "      <td>6.677300</td>\n",
       "      <td>7.066400e+01</td>\n",
       "      <td>5.139200</td>\n",
       "      <td>4.059300</td>\n",
       "    </tr>\n",
       "    <tr>\n",
       "      <th>75%</th>\n",
       "      <td>0.123805</td>\n",
       "      <td>0.689330</td>\n",
       "      <td>0.419545</td>\n",
       "      <td>2.959500</td>\n",
       "      <td>5.608400e+01</td>\n",
       "      <td>0.072584</td>\n",
       "      <td>0.142275</td>\n",
       "      <td>2.857100</td>\n",
       "      <td>2.059100</td>\n",
       "      <td>0.725635</td>\n",
       "      <td>...</td>\n",
       "      <td>4.348900e+03</td>\n",
       "      <td>0.130010</td>\n",
       "      <td>0.271310</td>\n",
       "      <td>0.995927</td>\n",
       "      <td>0.240320</td>\n",
       "      <td>2.093600e+01</td>\n",
       "      <td>10.587500</td>\n",
       "      <td>1.182200e+02</td>\n",
       "      <td>8.882600</td>\n",
       "      <td>9.682750</td>\n",
       "    </tr>\n",
       "    <tr>\n",
       "      <th>max</th>\n",
       "      <td>52.652000</td>\n",
       "      <td>480.730000</td>\n",
       "      <td>17.708000</td>\n",
       "      <td>53433.000000</td>\n",
       "      <td>6.854400e+05</td>\n",
       "      <td>45.533000</td>\n",
       "      <td>52.652000</td>\n",
       "      <td>53432.000000</td>\n",
       "      <td>740.440000</td>\n",
       "      <td>11.837000</td>\n",
       "      <td>...</td>\n",
       "      <td>3.380500e+06</td>\n",
       "      <td>293.150000</td>\n",
       "      <td>552.640000</td>\n",
       "      <td>18118.000000</td>\n",
       "      <td>7617.300000</td>\n",
       "      <td>3.660200e+06</td>\n",
       "      <td>4470.400000</td>\n",
       "      <td>1.073500e+06</td>\n",
       "      <td>1974.500000</td>\n",
       "      <td>21499.000000</td>\n",
       "    </tr>\n",
       "  </tbody>\n",
       "</table>\n",
       "<p>8 rows × 64 columns</p>\n",
       "</div>"
      ],
      "text/plain": [
       "              Attr1         Attr2         Attr3         Attr4         Attr5  \\\n",
       "count  10503.000000  10503.000000  10503.000000  10485.000000  1.047800e+04   \n",
       "mean       0.052844      0.619911      0.095490      9.980499 -1.347662e+03   \n",
       "std        0.647797      6.427041      6.420056    523.691951  1.185806e+05   \n",
       "min      -17.692000      0.000000   -479.730000      0.002080 -1.190300e+07   \n",
       "25%        0.000686      0.253955      0.017461      1.040100 -5.207075e+01   \n",
       "50%        0.043034      0.464140      0.198560      1.605600  1.579300e+00   \n",
       "75%        0.123805      0.689330      0.419545      2.959500  5.608400e+01   \n",
       "max       52.652000    480.730000     17.708000  53433.000000  6.854400e+05   \n",
       "\n",
       "              Attr6         Attr7         Attr8         Attr9        Attr10  \\\n",
       "count  10503.000000  10503.000000  10489.000000  10500.000000  10503.000000   \n",
       "mean      -0.121159      0.065624     19.140113      1.819254      0.366093   \n",
       "std        6.970625      0.651152    717.756745      7.581659      6.428603   \n",
       "min     -508.120000    -17.692000     -2.081800     -1.215700   -479.730000   \n",
       "25%        0.000000      0.002118      0.431270      1.011275      0.297340   \n",
       "50%        0.000000      0.050945      1.111000      1.199000      0.515500   \n",
       "75%        0.072584      0.142275      2.857100      2.059100      0.725635   \n",
       "max       45.533000     52.652000  53432.000000    740.440000     11.837000   \n",
       "\n",
       "       ...        Attr55        Attr56        Attr57        Attr58  \\\n",
       "count  ...  1.050300e+04  10460.000000  10503.000000  10474.000000   \n",
       "mean   ...  6.638549e+03     -0.530082     -0.014817      3.848794   \n",
       "std    ...  5.989196e+04     55.978608     18.684047    190.201224   \n",
       "min    ... -7.513800e+05  -5691.700000  -1667.300000   -198.690000   \n",
       "25%    ...  1.462100e+01      0.005137      0.006796      0.875560   \n",
       "50%    ...  8.822900e+02      0.051765      0.106880      0.953060   \n",
       "75%    ...  4.348900e+03      0.130010      0.271310      0.995927   \n",
       "max    ...  3.380500e+06    293.150000    552.640000  18118.000000   \n",
       "\n",
       "             Attr59        Attr60        Attr61        Attr62        Attr63  \\\n",
       "count  10503.000000  9.911000e+03  10486.000000  1.046000e+04  10485.000000   \n",
       "mean       1.429319  5.713363e+02     13.935361  1.355370e+02      9.095149   \n",
       "std       77.273270  3.715967e+04     83.704103  2.599116e+04     31.419096   \n",
       "min     -172.070000  0.000000e+00     -6.590300 -2.336500e+06     -0.000156   \n",
       "25%        0.000000  5.533150e+00      4.486075  4.073700e+01      3.062800   \n",
       "50%        0.002976  9.952100e+00      6.677300  7.066400e+01      5.139200   \n",
       "75%        0.240320  2.093600e+01     10.587500  1.182200e+02      8.882600   \n",
       "max     7617.300000  3.660200e+06   4470.400000  1.073500e+06   1974.500000   \n",
       "\n",
       "             Attr64  \n",
       "count  10275.000000  \n",
       "mean      35.766800  \n",
       "std      428.298315  \n",
       "min       -0.000102  \n",
       "25%        2.023350  \n",
       "50%        4.059300  \n",
       "75%        9.682750  \n",
       "max    21499.000000  \n",
       "\n",
       "[8 rows x 64 columns]"
      ]
     },
     "execution_count": 6,
     "metadata": {},
     "output_type": "execute_result"
    }
   ],
   "source": [
    "X.describe()"
   ]
  },
  {
   "cell_type": "code",
   "execution_count": null,
   "metadata": {
    "editable": true,
    "slideshow": {
     "slide_type": ""
    },
    "tags": []
   },
   "outputs": [
    {
     "data": {
      "text/plain": [
       "['net profit / total assets',\n",
       " 'total liabilities / total assets',\n",
       " 'working capital / total assets',\n",
       " 'current assets / short-term liabilities',\n",
       " '[(cash + short-term securities + receivables - short-term liabilities) / (operating expenses - depreciation)] * 365',\n",
       " 'retained earnings / total assets',\n",
       " 'EBIT / total assets',\n",
       " 'book value of equity / total liabilities',\n",
       " 'sales / total assets',\n",
       " 'equity / total assets',\n",
       " '(gross profit + extraordinary items + financial expenses) / total assets',\n",
       " 'gross profit / short-term liabilities',\n",
       " '(gross profit + depreciation) / sales',\n",
       " '(gross profit + interest) / total assets',\n",
       " '(total liabilities * 365) / (gross profit + depreciation)',\n",
       " '(gross profit + depreciation) / total liabilities',\n",
       " 'total assets / total liabilities',\n",
       " 'gross profit / total assets',\n",
       " 'gross profit / sales',\n",
       " '(inventory * 365) / sales',\n",
       " 'sales (n) / sales (n-1)',\n",
       " 'profit on operating activities / total assets',\n",
       " 'net profit / sales',\n",
       " 'gross profit (in 3 years) / total assets',\n",
       " '(equity - share capital) / total assets',\n",
       " '(net profit + depreciation) / total liabilities',\n",
       " 'profit on operating activities / financial expenses',\n",
       " 'working capital / fixed assets',\n",
       " 'logarithm of total assets',\n",
       " '(total liabilities - cash) / sales',\n",
       " '(gross profit + interest) / sales',\n",
       " '(current liabilities * 365) / cost of products sold',\n",
       " 'operating expenses / short-term liabilities',\n",
       " 'operating expenses / total liabilities',\n",
       " 'profit on sales / total assets',\n",
       " 'total sales / total assets',\n",
       " 'constant capital / total assets',\n",
       " 'profit on sales / sales',\n",
       " '(current assets - inventory - receivables) / short-term liabilities',\n",
       " 'total liabilities / ((profit on operating activities + depreciation) * (12/365))',\n",
       " 'profit on operating activities / sales',\n",
       " 'rotation receivables + inventory turnover in days',\n",
       " '(receivables * 365) / sales',\n",
       " 'net profit / inventory',\n",
       " '(current assets - inventory) / short-term liabilities',\n",
       " '(inventory * 365) / cost of products sold',\n",
       " 'EBITDA (profit on operating activities - depreciation) / total assets',\n",
       " 'EBITDA (profit on operating activities - depreciation) / sales',\n",
       " 'current assets / total liabilities',\n",
       " 'short-term liabilities / total assets',\n",
       " '(short-term liabilities * 365) / cost of products sold)',\n",
       " 'equity / fixed assets',\n",
       " 'constant capital / fixed assets',\n",
       " 'working capital',\n",
       " '(sales - cost of products sold) / sales',\n",
       " '(current assets - inventory - short-term liabilities) / (sales - gross profit - depreciation)',\n",
       " 'total costs / total sales',\n",
       " 'long-term liabilities / equity',\n",
       " 'sales / inventory',\n",
       " 'sales / receivables',\n",
       " '(short-term liabilities * 365) / sales',\n",
       " 'sales / short-term liabilities',\n",
       " 'sales / fixed assets']"
      ]
     },
     "execution_count": 7,
     "metadata": {},
     "output_type": "execute_result"
    }
   ],
   "source": [
    "feature_names"
   ]
  },
  {
   "cell_type": "markdown",
   "metadata": {
    "editable": true,
    "pycharm": {
     "name": "#%% md\n"
    },
    "slideshow": {
     "slide_type": ""
    },
    "tags": []
   },
   "source": [
    "DataFrame zawiera 64 atrybuty numeryczne o zróżnicowanych rozkładach wartości oraz kolumnę `\"class\"` typu `bytes` z klasami 0 i 1. Wiemy, że mamy do czynienia z klasyfikacją binarną - klasa 0 to brak bankructwa, klasa 1 to bankructwo w ciągu najbliższych 3 lat. Przyjrzyjmy się dokładniej naszym danym."
   ]
  },
  {
   "cell_type": "markdown",
   "metadata": {
    "editable": true,
    "slideshow": {
     "slide_type": ""
    },
    "tags": [
     "ex"
    ]
   },
   "source": [
    "### Zadanie 1 (0.5 punktu)"
   ]
  },
  {
   "cell_type": "markdown",
   "metadata": {
    "editable": true,
    "slideshow": {
     "slide_type": ""
    },
    "tags": [
     "ex"
    ]
   },
   "source": [
    "1. Wyodrębnij klasy jako osobną zmienną typu `pd.Series`, usuwając je z macierzy `X`. Przekonwertuj je na liczby całkowite.\n",
    "2. Narysuj wykres słupkowy częstotliwości obu klas w całym zbiorze. Upewnij się, że na osi X są numery lub nazwy klas, a oś Y ma wartości w procentach.\n",
    "\n",
    "**Uwaga:** sugerowane jest użycie `if` w podpunkcie 1, żeby można było tę komórkę bezpiecznie odpalić kilka razy."
   ]
  },
  {
   "cell_type": "code",
   "execution_count": 2,
   "metadata": {
    "editable": true,
    "pycharm": {
     "name": "#%%\n"
    },
    "slideshow": {
     "slide_type": ""
    }
   },
   "outputs": [],
   "source": [
    "# your_code\n",
    "y = (X['class'] != b'0').astype(int)\n",
    "X = X.drop(columns=['class'])"
   ]
  },
  {
   "cell_type": "code",
   "execution_count": 3,
   "metadata": {
    "editable": true,
    "slideshow": {
     "slide_type": ""
    },
    "tags": [
     "ex"
    ]
   },
   "outputs": [
    {
     "name": "stdout",
     "output_type": "stream",
     "text": [
      "Solution is correct!\n"
     ]
    }
   ],
   "source": [
    "assert \"class\" not in X.columns\n",
    "\n",
    "print(\"Solution is correct!\")"
   ]
  },
  {
   "cell_type": "markdown",
   "metadata": {
    "editable": true,
    "pycharm": {
     "name": "#%% md\n"
    },
    "slideshow": {
     "slide_type": ""
    },
    "tags": []
   },
   "source": [
    "Jak widać, klasa pozytywna jest w znacznej mniejszości, stanowi poniżej 5% zbioru. Taki problem nazywamy **klasyfikacją niezbalansowaną (imbalanced classification)**. Mamy tu **klasę dominującą (majority class)** oraz **klasę mniejszościową (minority class)**. Pechowo prawie zawsze interesuje nas ta druga, bo klasa większościowa nie niesie najczęściej żadnych interesujących informacji. Przykładowo, 99% badanych jest zdrowych, a 1% ma niewykryty nowotwór - z oczywistych przyczyn chcemy wykrywać właśnie sytuację rzadką (problem diagnozy jako klasyfikacji jest zasadniczo zawsze niezbalansowany). W dalszej części laboratorium poznamy szereg konsekwencji tego zjawiska i metody na radzenie sobie z nim.\n",
    "\n",
    "Mamy sporo cech w naszym zbiorze, wszystkie są numeryczne. Ciekawe, czy mają wartości brakujące, a jeśli tak, to ile? Policzymy to z pomocą biblioteki Pandas i metody `.isna()`. Domyślnie operuje ona na kolumnach, jak większość metod w w tej bibliotece. Sumę wartości per kolumna zwróci nam metoda `.sum()`. Jeżeli podzielimy to przez liczbę wierszy `len(X)`, to otrzymamy ułamek wartości brakujących w każdej kolumnie.\n",
    "\n",
    "Biblioteka Pandas potrafi też stworzyć wykres, z pomocą funkcji np. `.plot.hist()` czy `.plot.bar()`. Przyjmują one opcje formatowania wykresu z których korzysta biblioteka `matplotlib`."
   ]
  },
  {
   "cell_type": "code",
   "execution_count": 4,
   "metadata": {
    "editable": true,
    "pycharm": {
     "name": "#%%\n"
    },
    "slideshow": {
     "slide_type": ""
    },
    "tags": []
   },
   "outputs": [
    {
     "data": {
      "text/plain": [
       "<Axes: title={'center': 'Fraction of missing values per column'}>"
      ]
     },
     "execution_count": 4,
     "metadata": {},
     "output_type": "execute_result"
    },
    {
     "data": {
      "image/png": "[encoded data removed]",
      "text/plain": [
       "<Figure size 1500x500 with 1 Axes>"
      ]
     },
     "metadata": {},
     "output_type": "display_data"
    }
   ],
   "source": [
    "na_perc = X.isna().sum() / len(X)\n",
    "na_perc.plot.bar(title=\"Fraction of missing values per column\", figsize=(15, 5))"
   ]
  },
  {
   "cell_type": "markdown",
   "metadata": {
    "editable": true,
    "pycharm": {
     "name": "#%% md\n"
    },
    "slideshow": {
     "slide_type": ""
    },
    "tags": [
     "ex"
    ]
   },
   "source": [
    "Jak widać, cecha 37 ma bardzo dużo wartości brakujących, podczas gdy pozostałe cechy mają raczej niewielką ich liczbę. W takiej sytuacji najlepiej usunąć tę cechę, a pozostałe wartości brakujące **uzupełnić** (co realizowaliśmy już poprzednio). Pamiętaj, że imputacji dokonuje się dopiero po podziale na zbiór treningowy i testowy! W przeciwnym wypadku wykorzystywalibyśmy dane ze zbioru testowego, co sztucznie zawyżyłoby wyniki. Jest to błąd metodologiczny - **wyciek danych (data leakage)**.\n",
    "\n",
    "Podział na zbiór treningowy i testowy to pierwszy moment, kiedy niezbalansowanie danych nam przeszkadza. Jeżeli zrobimy to czysto losowo, to jest spora szansa, że w zbiorze testowym będzie tylko klasa negatywna - w końcu jest jej aż >95%. Dlatego wykorzystuje się **próbkowanie ze stratyfikacją (stratified sampling)**, dzięki któremu proporcje klas w zbiorze przed podziałem oraz obu zbiorach po podziale są takie same."
   ]
  },
  {
   "cell_type": "markdown",
   "metadata": {
    "editable": true,
    "slideshow": {
     "slide_type": ""
    },
    "tags": [
     "ex"
    ]
   },
   "source": [
    "### Zadanie 2 (0.75 punktu)"
   ]
  },
  {
   "cell_type": "markdown",
   "metadata": {
    "editable": true,
    "slideshow": {
     "slide_type": ""
    },
    "tags": [
     "ex"
    ]
   },
   "source": [
    "1. Usuń kolumnę `\"Attr37\"` ze zbioru danych.\n",
    "2. Dokonaj podziału zbioru na treningowy i testowy w proporcjach 80%-20%, z przemieszaniem (`shuffle`), ze stratyfikacją, wykorzystując funkcję `train_test_split` ze Scikit-learn'a.\n",
    "3. Uzupełnij wartości brakujące średnią wartością cechy z pomocą klasy `SimpleImputer`.\n",
    "\n",
    "**Uwaga:**\n",
    "- jak wcześniej, sugerowane jest użycie `if` w podpunkcie 1,\n",
    "- pamiętaj o uwzględnieniu stałego ziarna `random_state=0`, aby wyniki były **reprodukowalne (reproducible)**,\n",
    "- `stratify` oczekuje wektora klas,\n",
    "- wartości do imputacji trzeba wyestymować na zbiorze treningowym (`.fit()`), a potem zastosować te nauczone wartości na obu podzbiorach (treningowym i testowym)."
   ]
  },
  {
   "cell_type": "code",
   "execution_count": 5,
   "metadata": {
    "editable": true,
    "pycharm": {
     "name": "#%%\n"
    },
    "slideshow": {
     "slide_type": ""
    },
    "tags": [
     "ex"
    ]
   },
   "outputs": [],
   "source": [
    "# your_code\n",
    "from sklearn.model_selection import train_test_split\n",
    "from sklearn.pipeline import Pipeline\n",
    "from sklearn.impute import SimpleImputer\n",
    "from sklearn.compose import ColumnTransformer\n",
    "\n",
    "X = X.drop(columns=[\"Attr37\"])\n",
    "X_train, X_test, y_train, y_test = train_test_split(X, y, train_size=0.8, shuffle=True, stratify=y, random_state=0)\n",
    "\n",
    "numerical_features = X.columns\n",
    "numerical_pipeline = Pipeline(steps=[\n",
    "    ('impute', SimpleImputer(strategy='mean')),\n",
    "])\n",
    "column_transformer = ColumnTransformer(\n",
    "    transformers=[\n",
    "        (\"num\", numerical_pipeline, numerical_features)\n",
    "    ],\n",
    "    verbose_feature_names_out=False\n",
    ")\n",
    "X_train = column_transformer.fit_transform(X_train)\n",
    "X_test = column_transformer.transform(X_test)"
   ]
  },
  {
   "cell_type": "code",
   "execution_count": 53,
   "metadata": {
    "editable": true,
    "slideshow": {
     "slide_type": ""
    },
    "tags": [
     "ex"
    ]
   },
   "outputs": [
    {
     "name": "stdout",
     "output_type": "stream",
     "text": [
      "Solution is correct!\n"
     ]
    }
   ],
   "source": [
    "import numpy as np\n",
    "\n",
    "assert \"Attr37\" not in X.columns\n",
    "assert not np.any(np.isnan(X_train))\n",
    "assert not np.any(np.isnan(X_test))\n",
    "\n",
    "print(\"Solution is correct!\")"
   ]
  },
  {
   "cell_type": "markdown",
   "metadata": {
    "editable": true,
    "pycharm": {
     "name": "#%% md\n"
    },
    "slideshow": {
     "slide_type": ""
    },
    "tags": []
   },
   "source": [
    "## Prosta klasyfikacja"
   ]
  },
  {
   "cell_type": "markdown",
   "metadata": {
    "editable": true,
    "pycharm": {
     "name": "#%% md\n"
    },
    "slideshow": {
     "slide_type": ""
    },
    "tags": []
   },
   "source": [
    "Zanim przejdzie się do modeli bardziej złożonych, trzeba najpierw wypróbować coś prostego, żeby mieć punkt odniesienia. Tworzy się dlatego **modele bazowe (baselines)**.\n",
    "\n",
    "W naszym przypadku będzie to **drzewo decyzyjne (decision tree)**. Jest to drzewo binarne z decyzjami if-else, prowadzącymi do klasyfikacji danego przykładu w liściu. Każdy podział w drzewie to pytanie postaci \"Czy wartość cechy X jest większa lub równa Y?\". Trening takiego drzewa to prosty algorytm zachłanny, bardzo przypomina budowę zwykłego drzewa binarnego. Ma on następujące kroki dla każdego węzła tego drzewa:\n",
    "1. Sprawdź po kolei wszystkie możliwe punkty podziału, czyli każdą (unikalną) wartość każdej cechy, po kolei.\n",
    "2. Dla każdego przypadku podziel zbiór na 2 części: niespełniający warunku (lewy potomek) i spełniający warunek (prawy potomek).\n",
    "3. Oblicz jakość podziału według wybranej funkcji jakości. Im lepiej warunek rozdziela klasy od siebie (imbardziej zunifikowane są węzły-dzieci), tym wyższa jakość podziału. Innymi słowy, chcemy, żeby do jednego dziecka trafiła jedna klasa, a do drugiego druga.\n",
    "4. Wybierz podział o najwyższej jakości.\n",
    "\n",
    "Taki algorytm wykonuje się rekurencyjnie, aż otrzymamy węzeł czysty (pure leaf), czyli taki, w którym są przykłady z tylko jednej klasy. Typowo wykorzystywaną funkcją jakości (kryterium podziału) jest entropia Shannona - im niższa entropia, tym bardziej jednolite są klasy w węźle (czyli wybieramy podział o najniższej entropii).\n",
    "\n",
    "Powyższe wytłumaczenie algorytmu jest oczywiście nieformalne i dość skrótowe. Doskonałe tłumaczenie, z interaktywnymi wizualizacjami, dostępne jest [tutaj](https://mlu-explain.github.io/decision-tree/). W formie filmów - [tutaj](https://www.youtube.com/watch?v=ZVR2Way4nwQ) oraz [tutaj](https://www.youtube.com/watch?v=_L39rN6gz7Y). Dla drzew do regresji - [ten film](https://www.youtube.com/watch?v=g9c66TUylZ4).\n",
    "\n",
    "<img src = https://miro.medium.com/max/1838/1*WyTsLwcAXivFCgNtF0OPqA.png width = \"642\" height = \"451\" >\n",
    "\n",
    "Warto zauważyć, że taka konstrukcja prowadzi zawsze do overfittingu. Otrzymanie liści czystych oznacza, że mamy 100% dokładności na zbiorze treningowym, czyli perfekcyjnie przeuczony klasyfikator. W związku z tym nasze predykcje mają bardzo niski bias, ale bardzo dużą wariancję. Pomimo tego drzewa potrafią dać bardzo przyzwoite wyniki, a w celu ich poprawy można je regularyzować, aby mieć mniej \"rozrośnięte\" drzewo. [Film dla zainteresowanych](https://www.youtube.com/watch?v=D0efHEJsfHo).\n"
   ]
  },
  {
   "cell_type": "markdown",
   "metadata": {
    "editable": true,
    "slideshow": {
     "slide_type": ""
    },
    "tags": []
   },
   "source": [
    "Mając wytrenowany klasyfikator, trzeba oczywiście sprawdzić, jak dobrze on sobie radzi. Tu natrafiamy na kolejny problem z klasyfikacją niezbalansowaną - zwykła celność (accuracy) na pewno nie zadziała! Typowo wykorzystuje się AUC, nazywane też AUROC (Area Under Receiver Operating Characteristic), bo metryka ta uwzględnia niezbalansowanie klas. \n",
    "\n",
    "Bardzo dobre i bardziej szczegółowe wytłumaczenie, z interktywnymi wizualizacjami, można znaleć [tutaj](https://mlu-explain.github.io/roc-auc/). Dla preferujących filmy - [tutaj](https://www.youtube.com/watch?v=4jRBRDbJemM).\n",
    "\n",
    "Co ważne, z definicji AUROC, trzeba w niej użyć **prawdopodobieństw klasy pozytywnej** (klasy 1). W Scikit-learn'ie zwraca je metoda `.predict_proba()`, która w kolejnych kolumnach zwraca prawdopodobieństwa poszczególnych klas."
   ]
  },
  {
   "cell_type": "markdown",
   "metadata": {
    "editable": true,
    "slideshow": {
     "slide_type": ""
    },
    "tags": [
     "ex"
    ]
   },
   "source": [
    "### Zadanie 3 (0.75 punktu)"
   ]
  },
  {
   "cell_type": "markdown",
   "metadata": {
    "editable": true,
    "slideshow": {
     "slide_type": ""
    },
    "tags": [
     "ex"
    ]
   },
   "source": [
    "1. Wytrenuj klasyfikator drzewa decyzyjnego (klasa `DecisionTreeClassifier`). Użyj entropii jako kryterium podziału.\n",
    "2. Oblicz i wypisz AUROC na zbiorze testowym dla drzewa decyzyjnego (funkcja `roc_auc_score`).\n",
    "3. Skomentuj wynik - czy twoim zdaniem osiągnięty AUROC to dużo czy mało, biorąc pod uwagę możliwy zakres wartości tej metryki?\n",
    "\n",
    "**Uwaga:**\n",
    "- pamiętaj o użyciu stałego ziarna `random_state=0`,\n",
    "- jeżeli drzewo nie wyświetli się samo, użyj `plt.show()` z Matplotliba,\n",
    "- pamiętaj o tym, żeby przekazać do metryki AUROC **prawdopodobieństwa klasy pozytywnej**, a nie binarne predykcje!"
   ]
  },
  {
   "cell_type": "code",
   "execution_count": 19,
   "metadata": {
    "editable": true,
    "pycharm": {
     "name": "#%%\n"
    },
    "slideshow": {
     "slide_type": ""
    },
    "tags": [
     "ex"
    ]
   },
   "outputs": [
    {
     "name": "stdout",
     "output_type": "stream",
     "text": [
      "AUC: 0.7267\n"
     ]
    },
    {
     "data": {
      "image/png": "[encoded data removed]",
      "text/plain": [
       "<Figure size 640x480 with 1 Axes>"
      ]
     },
     "metadata": {},
     "output_type": "display_data"
    }
   ],
   "source": [
    "# your_code\n",
    "from sklearn import tree\n",
    "import matplotlib.pyplot as plt\n",
    "from sklearn.tree import DecisionTreeClassifier\n",
    "from sklearn.metrics import roc_auc_score\n",
    "\n",
    "tree_model = DecisionTreeClassifier(random_state=0, criterion='entropy')\n",
    "tree_model.fit(X_train, y_train)\n",
    "y_pred = tree_model.predict_proba(X_test)[:, 1]\n",
    "auroc = roc_auc_score(y_test, y_pred)\n",
    "print(f\"AUC: {auroc:.4f}\")\n",
    "_ = tree.plot_tree(tree_model, filled=True, feature_names=X.columns, rounded=True)"
   ]
  },
  {
   "cell_type": "code",
   "execution_count": 8,
   "metadata": {
    "editable": true,
    "slideshow": {
     "slide_type": ""
    },
    "tags": [
     "ex"
    ]
   },
   "outputs": [
    {
     "name": "stdout",
     "output_type": "stream",
     "text": [
      "Solution is correct!\n"
     ]
    }
   ],
   "source": [
    "assert auroc > 0.7\n",
    "\n",
    "print(\"Solution is correct!\")"
   ]
  },
  {
   "cell_type": "markdown",
   "metadata": {
    "editable": true,
    "pycharm": {
     "name": "#%% md\n"
    },
    "slideshow": {
     "slide_type": ""
    },
    "tags": [
     "ex"
    ]
   },
   "source": [
    "Model osiągnął wartość AUROC równą 0.7267, co wskazuje na umiarkowaną zdolność do rozróżniania klas i sugeruje, że przewidywania mają sensowną wartość predykcyjną, choć nadal istnieje możliwość dalszej optymalizacji."
   ]
  },
  {
   "cell_type": "markdown",
   "metadata": {
    "editable": true,
    "pycharm": {
     "name": "#%% md\n"
    },
    "slideshow": {
     "slide_type": ""
    },
    "tags": []
   },
   "source": [
    "## Uczenie zespołowe, bagging, lasy losowe"
   ]
  },
  {
   "cell_type": "markdown",
   "metadata": {
    "editable": true,
    "pycharm": {
     "name": "#%% md\n"
    },
    "slideshow": {
     "slide_type": ""
    },
    "tags": []
   },
   "source": [
    "Bardzo często wiele klasyfikatorów działających razem daje lepsze wyniki niż pojedynczy klasyfikator. Takie podejście nazywa się **uczeniem zespołowym (ensemble learning)**. Istnieje wiele różnych podejść do tworzenia takich klasyfikatorów złożonych (ensemble classifiers).\n",
    "\n",
    "Podstawową metodą jest **bagging**:\n",
    "1. Wylosuj N (np. 100, 500, ...) próbek boostrapowych (boostrap sample) ze zbioru treningowego. Próbka boostrapowa to po prostu losowanie ze zwracaniem, gdzie dla wejściowego zbioru z M wierszami losujemy M próbek (czyli tyle ile było w początkowym zbiorze), spośród N wylosowanych próbek. Będą tam powtórzenia, średnio nawet 1/3, ale się tym nie przejmujemy.\n",
    "2. Wytrenuj klasyfikator bazowy (base classifier) na każdej z próbek boostrapowych.\n",
    "3. Stwórz klasyfikator złożony poprzez uśrednienie predykcji każdego z klasyfikatorów bazowych.\n",
    "\n",
    "<img src = https://upload.wikimedia.org/wikipedia/commons/thumb/c/c8/Ensemble_Bagging.svg/440px-Ensemble_Bagging.svg.png width = \"440\" height = \"248\" >\n",
    "\n",
    "Typowo klasyfikatory bazowe są bardzo proste, żeby można było szybko wytrenować ich dużą liczbę. Prawie zawsze używa się do tego drzew decyzyjnych. Dla klasyfikacji uśrednienie wyników polega na głosowaniu - dla nowej próbki każdy klasyfikator bazowy ją klasyfikuje, sumuje się głosy na każdą klasę i zwraca najbardziej popularną decyzję.\n",
    "\n",
    "Taki sposób uczenia zmniejsza wariancję klasyfikatora. Intuicyjnie, skoro coś uśredniamy, to siłą rzeczy będzie mniej rozrzucone, bo dużo ciężej będzie osiągnąć jakąś skrajność. Redukuje to też overfitting.\n",
    "\n",
    "**Lasy losowe (Random Forests)** to ulepszenie baggingu. Zaobserwowano, że pomimo losowania próbek boostrapowych, w baggingu poszczególne drzewa są do siebie bardzo podobne (są skorelowane), używają podobnych cech ze zbioru. My natomiast chcemy zróżnicowania, żeby mieć niski bias - redukcją wariancji zajmuje się uśrednianie. Dlatego używa się metody losowej podprzestrzeni (random subspace method) - przy każdym podziale drzewa losuje się tylko pewien podzbiór cech, których możemy użyć do tego podziału. Typowo jest to pierwiastek kwadratowy z ogólnej liczby cech.\n",
    "\n",
    "Zarówno bagging, jak i lasy losowe mają dodatkowo bardzo przyjemną własność - są mało czułe na hiperparametry, szczególnie na liczbę drzew. W praktyce wystarczy ustawić 500 czy 1000 drzew i klasyfikator będzie dobrze działać. Dalsze dostrajanie hiperparametrów może jeszcze trochę poprawić wyniki, ale nie tak bardzo, jak przy innych klasyfikatorach. Jest to zatem doskonały wybór domyślny, kiedy nie wiemy, jakiego klasyfikatora użyć.\n",
    "\n",
    "Dodatkowo jest to problem **embarassingly parallel** - drzewa można trenować w 100% równolegle, dzięki czemu jest to dodatkowo wydajna obliczeniowo metoda.\n",
    "\n",
    "Głębsze wytłumaczenie, z interaktywnymi wizualizacjami, można znaleźć [tutaj](https://mlu-explain.github.io/random-forest/). Dobrze tłumaczy je też [ta seria filmów](https://www.youtube.com/watch?v=J4Wdy0Wc_xQ&t=480s)."
   ]
  },
  {
   "cell_type": "markdown",
   "metadata": {
    "editable": true,
    "slideshow": {
     "slide_type": ""
    },
    "tags": [
     "ex"
    ]
   },
   "source": [
    "### Zadanie 4 (0.5 punktu)"
   ]
  },
  {
   "cell_type": "markdown",
   "metadata": {
    "editable": true,
    "slideshow": {
     "slide_type": ""
    },
    "tags": [
     "ex"
    ]
   },
   "source": [
    "1. Wytrenuj klasyfikator Random Forest (klasa `RandomForestClassifier`). Użyj 500 drzew i entropii jako kryterium podziału.\n",
    "2. Sprawdź AUROC na zbiorze testowym.\n",
    "3. Skomentuj wynik w odniesieniu do drzewa decyzyjnego.\n",
    "\n",
    "**Uwaga:** pamiętaj o ustawieniu `random_state=0`. Dla przyspieszenia ustaw `n_jobs=-1` (użyje tylu procesów, ile masz dostępnych rdzeni procesora). Pamiętaj też o przekazaniu prawdopodobieństw do metryki AUROC."
   ]
  },
  {
   "cell_type": "code",
   "execution_count": 9,
   "metadata": {
    "editable": true,
    "pycharm": {
     "name": "#%%\n"
    },
    "slideshow": {
     "slide_type": ""
    },
    "tags": [
     "ex"
    ]
   },
   "outputs": [
    {
     "name": "stdout",
     "output_type": "stream",
     "text": [
      "AUC: 0.8987\n"
     ]
    }
   ],
   "source": [
    "# your_code\n",
    "from sklearn.ensemble import RandomForestClassifier\n",
    "model = RandomForestClassifier(random_state=0, criterion='entropy', n_estimators=500, n_jobs=-1)\n",
    "model.fit(X_train, y_train)\n",
    "y_pred = model.predict_proba(X_test)[:, 1]\n",
    "auroc = roc_auc_score(y_test, y_pred)\n",
    "print(f\"AUC: {auroc:.4f}\")"
   ]
  },
  {
   "cell_type": "code",
   "execution_count": 10,
   "metadata": {
    "editable": true,
    "slideshow": {
     "slide_type": ""
    },
    "tags": [
     "ex"
    ]
   },
   "outputs": [
    {
     "name": "stdout",
     "output_type": "stream",
     "text": [
      "Solution is correct!\n"
     ]
    }
   ],
   "source": [
    "assert auroc > 0.85\n",
    "\n",
    "print(\"Solution is correct!\")"
   ]
  },
  {
   "cell_type": "markdown",
   "metadata": {
    "editable": true,
    "pycharm": {
     "name": "#%% md\n"
    },
    "slideshow": {
     "slide_type": ""
    },
    "tags": [
     "ex"
    ]
   },
   "source": [
    "Model Random Forest osiągnął wartość AUROC równą 0.8987, co świadczy o bardzo dobrej zdolności do rozróżniania klas i wysokiej jakości predykcji uzyskanych przez model."
   ]
  },
  {
   "cell_type": "markdown",
   "metadata": {
    "editable": true,
    "pycharm": {
     "name": "#%% md\n"
    },
    "slideshow": {
     "slide_type": ""
    },
    "tags": []
   },
   "source": [
    "Jak zobaczymy poniżej, wynik ten możemy jednak jeszcze ulepszyć!"
   ]
  },
  {
   "cell_type": "markdown",
   "metadata": {
    "editable": true,
    "pycharm": {
     "name": "#%% md\n"
    },
    "slideshow": {
     "slide_type": ""
    },
    "tags": []
   },
   "source": [
    "## Oversampling, SMOTE"
   ]
  },
  {
   "cell_type": "markdown",
   "metadata": {
    "editable": true,
    "pycharm": {
     "name": "#%% md\n"
    },
    "slideshow": {
     "slide_type": ""
    },
    "tags": []
   },
   "source": [
    "W przypadku zbiorów niezbalansowanych można dokonać **balansowania (balancing)** zbioru. Są tutaj 2 metody:\n",
    "- **undersampling**: usunięcie przykładów z klasy dominującej\n",
    "- **oversampling**: wygenerowanie dodatkowych przykładów z klasy mniejszościowej\n",
    "\n",
    "Undersampling działa dobrze, kiedy niezbalansowanie jest niewielkie, a zbiór jest duży (możemy sobie pozwolić na usunięcie jego części). Oversampling typowo daje lepsze wyniki, istnieją dla niego bardzo efektywne algorytmy. W przypadku bardzo dużego niezbalansowania można zrobić oba.\n",
    "\n",
    "Typowym algorytmem oversamplingu jest **SMOTE (Synthetic Minority Oversampling TEchnique)**. Działa on następująco:\n",
    "1. Idź po kolei po przykładach z klasy mniejszościowej.\n",
    "2. Znajdź `k` najbliższych przykładów dla próbki, typowo `k=5`.\n",
    "3. Wylosuj tylu sąsiadów, ile trzeba do oversamplingu, np. jeżeli chcemy zwiększyć klasę mniejszościową 3 razy (o 200%), to wylosuj 2 z 5 sąsiadów.\n",
    "4. Dla każdego z wylosowanych sąsiadów wylosuj punkt na linii prostej między próbką a tym sąsiadem. Dodaj ten punkt jako nową próbkę do zbioru.\n",
    "\n",
    "<img src = https://miro.medium.com/max/734/1*yRumRhn89acByodBz0H7oA.png >\n",
    "\n",
    "Taka technika generuje przykłady bardzo podobne do prawdziwych, więc nie zaburza zbioru, a jednocześnie pomaga klasyfikatorom, bo \"zagęszcza\" przestrzeń, w której znajduje się klasa pozytywna.\n",
    "\n",
    "Algorytm SMOTE, jego warianty i inne algorytmy dla problemów niezbalansowanych implementuje biblioteka Imbalanced-learn."
   ]
  },
  {
   "cell_type": "markdown",
   "metadata": {
    "editable": true,
    "execution": {
     "iopub.execute_input": "2024-10-07T13:36:43.138444Z",
     "iopub.status.busy": "2024-10-07T13:36:43.137348Z",
     "iopub.status.idle": "2024-10-07T13:36:43.147546Z",
     "shell.execute_reply": "2024-10-07T13:36:43.144776Z",
     "shell.execute_reply.started": "2024-10-07T13:36:43.138374Z"
    },
    "slideshow": {
     "slide_type": ""
    },
    "tags": [
     "ex"
    ]
   },
   "source": [
    "### Zadanie 5 (1 punkt)"
   ]
  },
  {
   "cell_type": "markdown",
   "metadata": {
    "editable": true,
    "slideshow": {
     "slide_type": ""
    },
    "tags": [
     "ex"
    ]
   },
   "source": [
    "Użyj SMOTE do zbalansowania zbioru treningowego (nie używa się go na zbiorze testowym!). Implementuje to klasa `SMOTE`. Wytrenuj drzewo decyzyjne oraz las losowy na zbalansowanym zbiorze, użyj tych samych argumentów co wcześniej. Pamiętaj o użyciu wszędzie stałego ziarna `random_state=0` oraz przekazaniu prawdopodobieństw do AUROC. Skomentuj wynik.\n",
    "\n",
    "Wartość ROC drzewa decyzyjnego przypisz do zmiennej `tree_roc`, a lasu do `forest_roc`."
   ]
  },
  {
   "cell_type": "code",
   "execution_count": 11,
   "metadata": {
    "editable": true,
    "pycharm": {
     "name": "#%%\n"
    },
    "slideshow": {
     "slide_type": ""
    },
    "tags": [
     "ex"
    ]
   },
   "outputs": [
    {
     "name": "stdout",
     "output_type": "stream",
     "text": [
      "forest_roc: 0.9047\n",
      "tree_roc: 0.7100\n"
     ]
    }
   ],
   "source": [
    "# your_code\n",
    "from imblearn.over_sampling import SMOTE\n",
    "smote = SMOTE(random_state=0)\n",
    "X_resampled, y_resampled = smote.fit_resample(X_train, y_train)\n",
    "model = RandomForestClassifier(random_state=0, criterion='entropy', n_estimators=500, n_jobs=-1)\n",
    "model.fit(X_resampled, y_resampled)\n",
    "y_pred = model.predict_proba(X_test)[:, 1]\n",
    "forest_roc = roc_auc_score(y_test, y_pred)\n",
    "print(f\"forest_roc: {forest_roc:.4f}\")\n",
    "model = DecisionTreeClassifier(random_state=0, criterion='entropy')\n",
    "model.fit(X_resampled, y_resampled)\n",
    "y_pred = model.predict_proba(X_test)[:, 1]\n",
    "tree_roc = roc_auc_score(y_test, y_pred)\n",
    "print(f\"tree_roc: {tree_roc:.4f}\")"
   ]
  },
  {
   "cell_type": "code",
   "execution_count": 12,
   "metadata": {
    "editable": true,
    "slideshow": {
     "slide_type": ""
    },
    "tags": [
     "ex"
    ]
   },
   "outputs": [
    {
     "name": "stdout",
     "output_type": "stream",
     "text": [
      "Solution is correct!\n"
     ]
    }
   ],
   "source": [
    "assert 0.6 < tree_roc < 0.8\n",
    "assert 0.8 < forest_roc < 0.95\n",
    "\n",
    "print(\"Solution is correct!\")"
   ]
  },
  {
   "cell_type": "markdown",
   "metadata": {
    "editable": true,
    "pycharm": {
     "name": "#%% md\n"
    },
    "slideshow": {
     "slide_type": ""
    },
    "tags": [
     "ex"
    ]
   },
   "source": [
    "Zastosowanie metody oversamplingu SMOTE przyczyniło się do poprawy jakości klasyfikacji w przypadku modelu Random Forest, który osiągnął bardzo wysoką wartość AUROC równą 0.9047, wskazującą na doskonałą zdolność do rozróżniania klas. Dla modelu Decision Tree odnotowano wartość AUROC równą 0.7100, co oznacza umiarkowaną skuteczność predykcji. W porównaniu z wynikami uzyskanymi bez oversamplingu (AUC: 0.7267 dla drzewa decyzyjnego i 0.898 dla lasu losowego), można zauważyć, że zastosowanie SMOTE nieznacznie poprawiło efektywność modelu Random Forest, natomiast nie przyniosło wyraźnej poprawy w przypadku pojedynczego drzewa decyzyjnego."
   ]
  },
  {
   "cell_type": "markdown",
   "metadata": {
    "editable": true,
    "pycharm": {
     "name": "#%% md\n"
    },
    "slideshow": {
     "slide_type": ""
    },
    "tags": []
   },
   "source": [
    "W dalszej części laboratorium używaj zbioru po zastosowaniu SMOTE do treningu klasyfikatorów."
   ]
  },
  {
   "cell_type": "markdown",
   "metadata": {
    "editable": true,
    "pycharm": {
     "name": "#%% md\n"
    },
    "slideshow": {
     "slide_type": ""
    },
    "tags": []
   },
   "source": [
    "## Dostrajanie (tuning) hiperparametrów"
   ]
  },
  {
   "cell_type": "markdown",
   "metadata": {
    "editable": true,
    "pycharm": {
     "name": "#%% md\n"
    },
    "slideshow": {
     "slide_type": ""
    },
    "tags": []
   },
   "source": [
    "Lasy losowe są stosunkowo mało czułe na dobór hiperparametrów - i dobrze, bo mają ich dość dużo. Można zawsze jednak spróbować to zrobić, a w szczególności najważniejszy jest parametr `max_features`, oznaczający, ile cech losować przy każdym podziale drzewa. Typowo sprawdza się wartości z zakresu `[0.1, 0.5]`.\n",
    "\n",
    "W kwestii szybkości, kiedy dostrajamy hiperparametry, to mniej oczywiste jest, jakiego `n_jobs` użyć. Z jednej strony klasyfikator może być trenowany na wielu procesach, a z drugiej można trenować wiele klasyfikatorów na różnych zestawach hiperparametrów równolegle. Jeżeli nasz klasyfikator bardzo dobrze się uwspółbieżnia (jak Random Forest), to można dać mu nawet wszystkie rdzenie, a za to wypróbowywać kolejne zestawy hiperparametrów sekwencyjnie. Warto ustawić parametr `verbose` na 2 lub więcej, żeby dostać logi podczas długiego treningu i mierzyć czas wykonania. W praktyce ustawia się to metodą prób i błędów."
   ]
  },
  {
   "cell_type": "markdown",
   "metadata": {
    "editable": true,
    "slideshow": {
     "slide_type": ""
    },
    "tags": [
     "ex"
    ]
   },
   "source": [
    "### Zadanie 6 (1 punkt)"
   ]
  },
  {
   "cell_type": "markdown",
   "metadata": {
    "editable": true,
    "slideshow": {
     "slide_type": ""
    },
    "tags": [
     "ex"
    ]
   },
   "source": [
    "1. Dobierz wartość hiperparametru `max_features`:\n",
    "   - użyj grid search z 5 foldami,\n",
    "   - wypróbuj wartości `[0.1, 0.2, 0.3, 0.4, 0.5]`,\n",
    "   - wybierz model o najwyższym AUROC (argument `scoring`).\n",
    "2. Sprawdź, jaka była optymalna wartość `max_features`. Jest to atrybut wytrenowanego `GridSearchCV`.\n",
    "3. Skomentuj wynik. Czy warto było poświęcić czas i zasoby na tę procedurę?\n",
    "4. Wynik przypisz do zmiennej `auroc`.\n",
    "\n",
    "**Uwaga:**\n",
    "- pamiętaj, żeby jako estymatora przekazanego do grid search'a użyć instancji Random Forest, która ma już ustawione `random_state=0` i `n_jobs`"
   ]
  },
  {
   "cell_type": "code",
   "execution_count": 20,
   "metadata": {
    "editable": true,
    "pycharm": {
     "is_executing": true,
     "name": "#%%\n"
    },
    "slideshow": {
     "slide_type": ""
    },
    "tags": [
     "ex"
    ]
   },
   "outputs": [
    {
     "name": "stdout",
     "output_type": "stream",
     "text": [
      "Fitting 5 folds for each of 5 candidates, totalling 25 fits\n",
      "[CV] END ...................................max_features=0.1; total time=  16.1s\n",
      "[CV] END ...................................max_features=0.1; total time=  16.2s\n",
      "[CV] END ...................................max_features=0.1; total time=  16.3s\n",
      "[CV] END ...................................max_features=0.1; total time=  16.2s\n",
      "[CV] END ...................................max_features=0.1; total time=  16.7s\n",
      "[CV] END ...................................max_features=0.2; total time=  29.1s\n",
      "[CV] END ...................................max_features=0.2; total time=  30.8s\n",
      "[CV] END ...................................max_features=0.2; total time=  30.0s\n",
      "[CV] END ...................................max_features=0.2; total time=  33.9s\n",
      "[CV] END ...................................max_features=0.2; total time=  35.8s\n",
      "[CV] END ...................................max_features=0.3; total time=  44.7s\n",
      "[CV] END ...................................max_features=0.3; total time=  44.6s\n",
      "[CV] END ...................................max_features=0.3; total time=  45.1s\n",
      "[CV] END ...................................max_features=0.3; total time=  44.9s\n",
      "[CV] END ...................................max_features=0.3; total time=  47.1s\n",
      "[CV] END ...................................max_features=0.4; total time=  58.8s\n",
      "[CV] END ...................................max_features=0.4; total time=  57.0s\n",
      "[CV] END ...................................max_features=0.4; total time=  57.2s\n",
      "[CV] END ...................................max_features=0.4; total time=  55.3s\n",
      "[CV] END ...................................max_features=0.4; total time=  58.4s\n",
      "[CV] END ...................................max_features=0.5; total time= 1.0min\n",
      "[CV] END ...................................max_features=0.5; total time=  54.9s\n",
      "[CV] END ...................................max_features=0.5; total time=  54.9s\n",
      "[CV] END ...................................max_features=0.5; total time=  43.9s\n",
      "[CV] END ...................................max_features=0.5; total time=  30.0s\n",
      "Best max_features: 0.2\n",
      "Best AUROC: 0.9075\n"
     ]
    }
   ],
   "source": [
    "# your_code\n",
    "from sklearn.model_selection import GridSearchCV\n",
    "param_grid = {\n",
    "    'max_features': [0.1, 0.2, 0.3, 0.4, 0.5],\n",
    "}\n",
    "grid_search = GridSearchCV(estimator=RandomForestClassifier(random_state=0, criterion='entropy', n_jobs=-1),\n",
    "                           param_grid=param_grid,\n",
    "                           scoring='roc_auc',\n",
    "                           cv=5,\n",
    "                           n_jobs=-1,\n",
    "                           verbose=2)\n",
    "grid_search.fit(X_resampled, y_resampled)\n",
    "forest_model = grid_search.best_estimator_\n",
    "y_pred = forest_model.predict_proba(X_test)[:, 1]\n",
    "max_f = grid_search.best_params_['max_features']\n",
    "auroc = roc_auc_score(y_test, y_pred)\n",
    "print(f\"Best max_features: {max_f}\")\n",
    "print(f\"Best AUROC: {auroc:.4f}\")"
   ]
  },
  {
   "cell_type": "code",
   "execution_count": 14,
   "metadata": {
    "editable": true,
    "slideshow": {
     "slide_type": ""
    },
    "tags": [
     "ex"
    ]
   },
   "outputs": [
    {
     "name": "stdout",
     "output_type": "stream",
     "text": [
      "Solution is correct!\n"
     ]
    }
   ],
   "source": [
    "assert 0.9 <= auroc <= 0.95\n",
    "\n",
    "print(\"Solution is correct!\")"
   ]
  },
  {
   "cell_type": "markdown",
   "metadata": {
    "editable": true,
    "pycharm": {
     "name": "#%% md\n"
    },
    "slideshow": {
     "slide_type": ""
    },
    "tags": [
     "ex"
    ]
   },
   "source": [
    "Przeprowadzona procedura strojenia hiperparametru max_features przy użyciu metody GridSearchCV pozwoliła na niewielkie zwiększenie jakości modelu Random Forest — wartość AUROC wzrosła z 0.9047 do 0.9075 po optymalizacji. Choć poprawa jest zauważalna, ma ona charakter marginalny (ok. 0.3 p.p.), co sugeruje, że koszt obliczeniowy i czas poświęcony na przeszukiwanie siatki parametrów nie przyniósł znaczącej korzyści. W praktyce oznacza to, że model w swojej pierwotnej konfiguracji był już dobrze dopasowany, a dalsza optymalizacja przyniosła jedynie kosmetyczną poprawę jakości predykcji."
   ]
  },
  {
   "cell_type": "markdown",
   "metadata": {
    "editable": true,
    "pycharm": {
     "name": "#%% md\n"
    },
    "slideshow": {
     "slide_type": ""
    },
    "tags": []
   },
   "source": [
    "W praktycznych zastosowaniach osoba trenująca model wedle własnego uznana, doświadczenia, dostępnego czasu i zasobów wybiera, czy dostrajać hiperparametry i w jak szerokim zakresie. Dla Random Forest na szczęście często może nie być znaczącej potrzeby i za to go lubimy :)"
   ]
  },
  {
   "cell_type": "markdown",
   "metadata": {
    "editable": true,
    "pycharm": {
     "name": "#%% md\n"
    },
    "slideshow": {
     "slide_type": ""
    },
    "tags": []
   },
   "source": [
    "**Random Forest - podsumowanie**\n",
    "\n",
    "1. Model oparty o uczenie zespołowe.\n",
    "2. Kluczowe elementy:\n",
    "   - bagging: uczenie wielu klasyfikatorów na próbkach boostrapowych,\n",
    "   - metoda losowej podprzestrzeni: losujemy podzbiór cech do każdego podziału drzewa,\n",
    "   - uśredniamy głosy klasyfikatorów.\n",
    "3. Dość odporny na overfitting, zmniejsza wariancję błędu dzięki uśrednianiu.\n",
    "4. Mało czuły na hiperparametry.\n",
    "5. Przeciętnie daje bardzo dobre wyniki, doskonały wybór domyślny przy wybieraniu algorytmu klasyfikacji."
   ]
  },
  {
   "cell_type": "markdown",
   "metadata": {
    "editable": true,
    "pycharm": {
     "name": "#%% md\n"
    },
    "slideshow": {
     "slide_type": ""
    },
    "tags": []
   },
   "source": [
    "## Boosting"
   ]
  },
  {
   "cell_type": "markdown",
   "metadata": {
    "editable": true,
    "pycharm": {
     "name": "#%% md\n"
    },
    "slideshow": {
     "slide_type": ""
    },
    "tags": []
   },
   "source": [
    "Drugą bardzo ważną grupą algorytmów ensemblingu jest **boosting**, też oparty o drzewa decyzyjne. O ile Random Forest trenował wszystkie klasyfikatory bazowe równolegle i je uśredniał, o tyle boosting robi to sekwencyjnie. Drzewa te uczą się na całym zbiorze, nie na próbkach boostrapowych. Idea jest następująca: trenujemy drzewo decyzyjne, radzi sobie przeciętnie i popełnia błędy na częsci przykładów treningowych. Dokładamy kolejne, ale znające błędy swojego poprzednika, dzięki czemu może to uwzględnić i je poprawić. W związku z tym \"boostuje\" się dzięki wiedzy od poprzednika. Dokładamy kolejne drzewa zgodnie z tą samą zasadą.\n",
    "\n",
    "Jak uczyć się na błędach poprzednika? Jest to pewna **funkcja kosztu** (błędu), którą chcemy zminimalizować. Zakłada się jakąś jej konkretną postać, np. squared error dla regresji, albo logistic loss dla klasyfikacji. Później wykorzystuje się spadek wzdłuż gradientu (gradient descent), aby nauczyć się, w jakim kierunku powinny optymalizować kolejne drzewa, żeby zminimalizować błędy poprzednika. Jest to konkretnie **gradient boosting**, absolutnie najpopularniejsza forma boostingu, i jeden z najpopularniejszych i osiągających najlepsze wyniki algorytmów ML.\n",
    "\n",
    "Tyle co do intuicji. Ogólny algorytm gradient boostingu jest trochę bardziej skomplikowany. Bardzo dobrze i krok po kroku tłumaczy go [ta seria filmów na YT](https://www.youtube.com/watch?v=3CC4N4z3GJc). Szczególnie ważne implementacje gradient boostingu to **XGBoost (Extreme Gradient Boosting)** oraz **LightGBM (Light Gradient Boosting Machine)**. XGBoost był prawdziwym przełomem w ML, uzyskując doskonałe wyniki i bardzo dobrze się skalując - był wykorzystany w CERNie do wykrywania cząstki Higgsa w zbiorze z pomiarów LHC mającym 10 milionów próbek. Jego implementacja jest dość złożona, ale dobrze tłumaczy ją [inna seria filmików na YT](https://www.youtube.com/watch?v=OtD8wVaFm6E).\n",
    "\n",
    "![](xgboost.png)\n",
    "\n",
    "Obecnie najczęściej wykorzystuje się LightGBM. Został stworzony przez Microsoft na podstawie doświadczeń z XGBoostem. Został jeszcze bardziej ulepszony i przyspieszony, ale różnice są głównie implementacyjne. Różnice dobrze tłumaczy [ta prezentacja z konferencji PyData](https://www.youtube.com/watch?v=5CWwwtEM2TA) oraz [prezentacja Microsoftu](https://www.youtube.com/watch?v=5nKSMXBFhes). Dla zainteresowanych - [praktyczne aspekty LightGBM](https://www.kaggle.com/code/prashant111/lightgbm-classifier-in-python/notebook)."
   ]
  },
  {
   "cell_type": "markdown",
   "metadata": {
    "editable": true,
    "slideshow": {
     "slide_type": ""
    },
    "tags": [
     "ex"
    ]
   },
   "source": [
    "### Zadanie 7 (0.5 punktu)"
   ]
  },
  {
   "cell_type": "markdown",
   "metadata": {
    "editable": true,
    "slideshow": {
     "slide_type": ""
    },
    "tags": [
     "ex"
    ]
   },
   "source": [
    "1. Wytrenuj klasyfikator LightGBM (klasa `LGBMClassifier`). Przekaż `importance_type=\"gain\"` - przyda nam się to za chwilę.\n",
    "2. Sprawdź AUROC na zbiorze testowym.\n",
    "3. Skomentuj wynik w odniesieniu do wcześniejszych algorytmów.\n",
    "\n",
    "Pamiętaj o `random_state`, `n_jobs` i prawdopodobieństwach dla AUROC."
   ]
  },
  {
   "cell_type": "code",
   "execution_count": 15,
   "metadata": {
    "editable": true,
    "pycharm": {
     "is_executing": true,
     "name": "#%%\n"
    },
    "slideshow": {
     "slide_type": ""
    },
    "tags": [
     "ex"
    ]
   },
   "outputs": [
    {
     "name": "stdout",
     "output_type": "stream",
     "text": [
      "[LightGBM] [Info] Number of positive: 8006, number of negative: 8006\n",
      "[LightGBM] [Info] Auto-choosing col-wise multi-threading, the overhead of testing was 0.004878 seconds.\n",
      "You can set `force_col_wise=true` to remove the overhead.\n",
      "[LightGBM] [Info] Total Bins 16065\n",
      "[LightGBM] [Info] Number of data points in the train set: 16012, number of used features: 63\n",
      "[LightGBM] [Info] [binary:BoostFromScore]: pavg=0.500000 -> initscore=0.000000\n",
      "AUC: 0.9434\n"
     ]
    },
    {
     "name": "stderr",
     "output_type": "stream",
     "text": [
      "/home/bartosz/Documents/codeRepo/psi/sztuczna-inteligencja/.venv/lib/python3.11/site-packages/sklearn/utils/validation.py:2749: UserWarning: X does not have valid feature names, but LGBMClassifier was fitted with feature names\n",
      "  warnings.warn(\n"
     ]
    }
   ],
   "source": [
    "# your_code\n",
    "from lightgbm import LGBMClassifier\n",
    "model = LGBMClassifier(random_state=0, importance_type='gain')\n",
    "model.fit(X_resampled, y_resampled)\n",
    "y_pred = model.predict_proba(X_test)[:, 1]\n",
    "auroc = roc_auc_score(y_test, y_pred)\n",
    "print(f\"AUC: {auroc:.4f}\")"
   ]
  },
  {
   "cell_type": "code",
   "execution_count": 16,
   "metadata": {
    "editable": true,
    "slideshow": {
     "slide_type": ""
    },
    "tags": [
     "ex"
    ]
   },
   "outputs": [
    {
     "name": "stdout",
     "output_type": "stream",
     "text": [
      "Solution is correct!\n"
     ]
    }
   ],
   "source": [
    "assert 0.9 <= auroc <= 0.97\n",
    "\n",
    "print(\"Solution is correct!\")"
   ]
  },
  {
   "cell_type": "markdown",
   "metadata": {
    "editable": true,
    "pycharm": {
     "name": "#%% md\n"
    },
    "slideshow": {
     "slide_type": ""
    },
    "tags": [
     "ex"
    ]
   },
   "source": [
    "Model LightGBM osiągnął wartość AUROC równą 0.9434, co świadczy o bardzo wysokiej jakości predykcji i doskonałej zdolności modelu do rozróżniania klas. Wynik ten wyraźnie przewyższa skuteczność wcześniejszych modeli (Random Forest i Decision Tree), co wskazuje, że zastosowanie algorytmu gradientowego wzmocnienia (LightGBM) było wartościowym krokiem, znacząco poprawiającym wydajność klasyfikacji."
   ]
  },
  {
   "cell_type": "markdown",
   "metadata": {
    "editable": true,
    "pycharm": {
     "name": "#%% md\n"
    },
    "slideshow": {
     "slide_type": ""
    },
    "tags": []
   },
   "source": [
    "Boosting dzięki uczeniu na poprzednich drzewach redukuje nie tylko wariancję, ale też bias w błędzie, dzięki czemu może w wielu przypadkach osiągnąć lepsze rezultaty od lasu losowego. Do tego dzięki znakomitej implementacji LightGBM jest szybszy.\n",
    "\n",
    "Boosting jest jednak o wiele bardziej czuły na hiperparametry niż Random Forest. W szczególności bardzo łatwo go przeuczyć, a większość hiperparametrów, których jest dużo, wiąże się z regularyzacją modelu. To, że teraz poszło nam lepiej z domyślnymi, jest rzadkim przypadkiem.\n",
    "\n",
    "W związku z tym, że przestrzeń hiperparametrów jest duża, przeszukanie wszystkich kombinacji nie wchodzi w grę. Zamiast tego można wylosować zadaną liczbę zestawów hiperparametrów i tylko je sprawdzić - chociaż im więcej, tym lepsze wyniki powinniśmy dostać. Służy do tego `RandomizedSearchCV`. Co więcej, klasa ta potrafi próbkować rozkłady prawdopodobieństwa, a nie tylko sztywne listy wartości, co jest bardzo przydatne przy parametrach ciągłych.\n",
    "\n",
    "Hiperparametry LightGBMa są dobrze opisane w oficjalnej dokumentacji: [wersja krótsza](https://lightgbm.readthedocs.io/en/latest/pythonapi/lightgbm.LGBMClassifier.html#lightgbm.LGBMClassifier) i [wersja dłuższa](https://lightgbm.readthedocs.io/en/latest/Parameters.html). Jest ich dużo, więc nie będziemy ich tutaj omawiać. Jeżeli chodzi o ich dostrajanie w praktyce, to przydatny jest [oficjalny przewodnik](https://lightgbm.readthedocs.io/en/latest/Parameters-Tuning.html) oraz dyskusje na Kaggle."
   ]
  },
  {
   "cell_type": "markdown",
   "metadata": {
    "editable": true,
    "slideshow": {
     "slide_type": ""
    },
    "tags": [
     "ex"
    ]
   },
   "source": [
    "### Zadanie 8 (1.5 punktu)"
   ]
  },
  {
   "cell_type": "markdown",
   "metadata": {
    "editable": true,
    "slideshow": {
     "slide_type": ""
    },
    "tags": [
     "ex"
    ]
   },
   "source": [
    "1. Zaimplementuj random search dla LightGBMa (klasa `RandomizedSearchCV`):\n",
    "   - użyj tylu prób, na ile pozwalają twoje zasoby obliczeniowe, ale przynajmniej 30,\n",
    "   - przeszukaj przestrzeń hiperparametrów:\n",
    "    ```\n",
    "    param_grid = {\n",
    "        \"n_estimators\": [100, 250, 500],\n",
    "        \"learning_rate\": [0.05, 0.1, 0.2],\n",
    "        \"num_leaves\": [31, 48, 64],\n",
    "        \"colsample_bytree\": [0.8, 0.9, 1.0],\n",
    "        \"subsample\": [0.8, 0.9, 1.0],\n",
    "    }\n",
    "    ```\n",
    "2. Wypisz znalezione optymalne hiperparametry.\n",
    "3. Wypisz raporty z klasyfikacji (funkcja `classification_report`), dla modelu LightGBM bez i z dostrajaniem hiperparametrów.\n",
    "4. Skomentuj różnicę precyzji (precision) i czułości (recall) między modelami bez i z dostrajaniem hiperparametrów. Czy jest to pożądane zjawisko w tym przypadku?\n",
    "5. Wartość ROC przypisz do zmiennej `auroc`.\n",
    "\n",
    "**Uwaga:** \n",
    "- koniecznie ustaw `verbose=-1` przy tworzeniu `LGBMClassifier`, żeby uniknąć kolosalnej ilości logów, która potrafi też wyłączyć Jupytera\n",
    "- pamiętaj o ustawieniu `importance_type`, `random_state=0` i `n_jobs`, oraz ewentualnie `verbose` w `RandomizedSearchCV` dla śledzenia przebiegu\n",
    "- istnieje możliwość, że ustawienie `n_jobs` dla grid searcha będzie szybsze niż dla samego LightGBM; odpowiada to tuningowi wielu klasyfikatorów równolegle, przy wolniejszym treningu pojedynczych klasyfikatorów\n",
    "- nie ustawiaj wszędzie `n_jobs=-1`, bo wtedy stworzysz więcej procesów niż rdzeni i spowodujesz thread contention"
   ]
  },
  {
   "cell_type": "code",
   "execution_count": 17,
   "metadata": {
    "editable": true,
    "pycharm": {
     "is_executing": true,
     "name": "#%%\n"
    },
    "slideshow": {
     "slide_type": ""
    },
    "tags": [
     "ex"
    ]
   },
   "outputs": [
    {
     "name": "stdout",
     "output_type": "stream",
     "text": [
      "Fitting 5 folds for each of 30 candidates, totalling 150 fits\n"
     ]
    },
    {
     "name": "stderr",
     "output_type": "stream",
     "text": [
      "/home/bartosz/Documents/codeRepo/psi/sztuczna-inteligencja/.venv/lib/python3.11/site-packages/sklearn/utils/validation.py:2749: UserWarning: X does not have valid feature names, but LGBMClassifier was fitted with feature names\n",
      "  warnings.warn(\n"
     ]
    },
    {
     "name": "stdout",
     "output_type": "stream",
     "text": [
      "[CV] END colsample_bytree=0.9, learning_rate=0.1, n_estimators=100, num_leaves=31, subsample=1.0; total time=  42.1s\n"
     ]
    },
    {
     "name": "stderr",
     "output_type": "stream",
     "text": [
      "/home/bartosz/Documents/codeRepo/psi/sztuczna-inteligencja/.venv/lib/python3.11/site-packages/sklearn/utils/validation.py:2749: UserWarning: X does not have valid feature names, but LGBMClassifier was fitted with feature names\n",
      "  warnings.warn(\n"
     ]
    },
    {
     "name": "stdout",
     "output_type": "stream",
     "text": [
      "[CV] END colsample_bytree=0.9, learning_rate=0.1, n_estimators=100, num_leaves=31, subsample=1.0; total time=  43.9s\n"
     ]
    },
    {
     "name": "stderr",
     "output_type": "stream",
     "text": [
      "/home/bartosz/Documents/codeRepo/psi/sztuczna-inteligencja/.venv/lib/python3.11/site-packages/sklearn/utils/validation.py:2749: UserWarning: X does not have valid feature names, but LGBMClassifier was fitted with feature names\n",
      "  warnings.warn(\n"
     ]
    },
    {
     "name": "stdout",
     "output_type": "stream",
     "text": [
      "[CV] END colsample_bytree=0.9, learning_rate=0.1, n_estimators=100, num_leaves=31, subsample=1.0; total time=  50.0s\n"
     ]
    },
    {
     "name": "stderr",
     "output_type": "stream",
     "text": [
      "/home/bartosz/Documents/codeRepo/psi/sztuczna-inteligencja/.venv/lib/python3.11/site-packages/sklearn/utils/validation.py:2749: UserWarning: X does not have valid feature names, but LGBMClassifier was fitted with feature names\n",
      "  warnings.warn(\n",
      "/home/bartosz/Documents/codeRepo/psi/sztuczna-inteligencja/.venv/lib/python3.11/site-packages/sklearn/utils/validation.py:2749: UserWarning: X does not have valid feature names, but LGBMClassifier was fitted with feature names\n",
      "  warnings.warn(\n"
     ]
    },
    {
     "name": "stdout",
     "output_type": "stream",
     "text": [
      "[CV] END colsample_bytree=0.9, learning_rate=0.1, n_estimators=100, num_leaves=31, subsample=1.0; total time=  55.1s\n",
      "[CV] END colsample_bytree=0.9, learning_rate=0.1, n_estimators=100, num_leaves=31, subsample=1.0; total time=  55.5s\n"
     ]
    },
    {
     "name": "stderr",
     "output_type": "stream",
     "text": [
      "/home/bartosz/Documents/codeRepo/psi/sztuczna-inteligencja/.venv/lib/python3.11/site-packages/sklearn/utils/validation.py:2749: UserWarning: X does not have valid feature names, but LGBMClassifier was fitted with feature names\n",
      "  warnings.warn(\n"
     ]
    },
    {
     "name": "stdout",
     "output_type": "stream",
     "text": [
      "[CV] END colsample_bytree=0.8, learning_rate=0.1, n_estimators=250, num_leaves=31, subsample=0.9; total time= 1.9min\n"
     ]
    },
    {
     "name": "stderr",
     "output_type": "stream",
     "text": [
      "/home/bartosz/Documents/codeRepo/psi/sztuczna-inteligencja/.venv/lib/python3.11/site-packages/sklearn/utils/validation.py:2749: UserWarning: X does not have valid feature names, but LGBMClassifier was fitted with feature names\n",
      "  warnings.warn(\n"
     ]
    },
    {
     "name": "stdout",
     "output_type": "stream",
     "text": [
      "[CV] END colsample_bytree=0.8, learning_rate=0.1, n_estimators=250, num_leaves=31, subsample=0.9; total time= 1.8min\n"
     ]
    },
    {
     "name": "stderr",
     "output_type": "stream",
     "text": [
      "/home/bartosz/Documents/codeRepo/psi/sztuczna-inteligencja/.venv/lib/python3.11/site-packages/sklearn/utils/validation.py:2749: UserWarning: X does not have valid feature names, but LGBMClassifier was fitted with feature names\n",
      "  warnings.warn(\n"
     ]
    },
    {
     "name": "stdout",
     "output_type": "stream",
     "text": [
      "[CV] END colsample_bytree=0.8, learning_rate=0.1, n_estimators=250, num_leaves=31, subsample=0.9; total time= 1.9min\n"
     ]
    },
    {
     "name": "stderr",
     "output_type": "stream",
     "text": [
      "/home/bartosz/Documents/codeRepo/psi/sztuczna-inteligencja/.venv/lib/python3.11/site-packages/sklearn/utils/validation.py:2749: UserWarning: X does not have valid feature names, but LGBMClassifier was fitted with feature names\n",
      "  warnings.warn(\n"
     ]
    },
    {
     "name": "stdout",
     "output_type": "stream",
     "text": [
      "[CV] END colsample_bytree=0.9, learning_rate=0.2, n_estimators=250, num_leaves=64, subsample=0.8; total time= 2.8min\n"
     ]
    },
    {
     "name": "stderr",
     "output_type": "stream",
     "text": [
      "/home/bartosz/Documents/codeRepo/psi/sztuczna-inteligencja/.venv/lib/python3.11/site-packages/sklearn/utils/validation.py:2749: UserWarning: X does not have valid feature names, but LGBMClassifier was fitted with feature names\n",
      "  warnings.warn(\n"
     ]
    },
    {
     "name": "stdout",
     "output_type": "stream",
     "text": [
      "[CV] END colsample_bytree=0.9, learning_rate=0.2, n_estimators=250, num_leaves=64, subsample=0.8; total time= 2.9min\n"
     ]
    },
    {
     "name": "stderr",
     "output_type": "stream",
     "text": [
      "/home/bartosz/Documents/codeRepo/psi/sztuczna-inteligencja/.venv/lib/python3.11/site-packages/sklearn/utils/validation.py:2749: UserWarning: X does not have valid feature names, but LGBMClassifier was fitted with feature names\n",
      "  warnings.warn(\n"
     ]
    },
    {
     "name": "stdout",
     "output_type": "stream",
     "text": [
      "[CV] END colsample_bytree=0.9, learning_rate=0.2, n_estimators=250, num_leaves=64, subsample=0.8; total time= 3.3min\n"
     ]
    },
    {
     "name": "stderr",
     "output_type": "stream",
     "text": [
      "/home/bartosz/Documents/codeRepo/psi/sztuczna-inteligencja/.venv/lib/python3.11/site-packages/sklearn/utils/validation.py:2749: UserWarning: X does not have valid feature names, but LGBMClassifier was fitted with feature names\n",
      "  warnings.warn(\n"
     ]
    },
    {
     "name": "stdout",
     "output_type": "stream",
     "text": [
      "[CV] END colsample_bytree=0.9, learning_rate=0.2, n_estimators=250, num_leaves=64, subsample=0.8; total time= 2.9min\n"
     ]
    },
    {
     "name": "stderr",
     "output_type": "stream",
     "text": [
      "/home/bartosz/Documents/codeRepo/psi/sztuczna-inteligencja/.venv/lib/python3.11/site-packages/sklearn/utils/validation.py:2749: UserWarning: X does not have valid feature names, but LGBMClassifier was fitted with feature names\n",
      "  warnings.warn(\n"
     ]
    },
    {
     "name": "stdout",
     "output_type": "stream",
     "text": [
      "[CV] END colsample_bytree=0.9, learning_rate=0.2, n_estimators=250, num_leaves=64, subsample=0.8; total time= 3.7min\n"
     ]
    },
    {
     "name": "stderr",
     "output_type": "stream",
     "text": [
      "/home/bartosz/Documents/codeRepo/psi/sztuczna-inteligencja/.venv/lib/python3.11/site-packages/sklearn/utils/validation.py:2749: UserWarning: X does not have valid feature names, but LGBMClassifier was fitted with feature names\n",
      "  warnings.warn(\n"
     ]
    },
    {
     "name": "stdout",
     "output_type": "stream",
     "text": [
      "[CV] END colsample_bytree=0.8, learning_rate=0.1, n_estimators=250, num_leaves=31, subsample=0.9; total time= 2.1min\n"
     ]
    },
    {
     "name": "stderr",
     "output_type": "stream",
     "text": [
      "/home/bartosz/Documents/codeRepo/psi/sztuczna-inteligencja/.venv/lib/python3.11/site-packages/sklearn/utils/validation.py:2749: UserWarning: X does not have valid feature names, but LGBMClassifier was fitted with feature names\n",
      "  warnings.warn(\n"
     ]
    },
    {
     "name": "stdout",
     "output_type": "stream",
     "text": [
      "[CV] END colsample_bytree=0.8, learning_rate=0.1, n_estimators=250, num_leaves=31, subsample=0.9; total time= 2.2min\n"
     ]
    },
    {
     "name": "stderr",
     "output_type": "stream",
     "text": [
      "/home/bartosz/Documents/codeRepo/psi/sztuczna-inteligencja/.venv/lib/python3.11/site-packages/sklearn/utils/validation.py:2749: UserWarning: X does not have valid feature names, but LGBMClassifier was fitted with feature names\n",
      "  warnings.warn(\n"
     ]
    },
    {
     "name": "stdout",
     "output_type": "stream",
     "text": [
      "[CV] END colsample_bytree=0.9, learning_rate=0.1, n_estimators=100, num_leaves=31, subsample=0.9; total time=  57.6s\n"
     ]
    },
    {
     "name": "stderr",
     "output_type": "stream",
     "text": [
      "/home/bartosz/Documents/codeRepo/psi/sztuczna-inteligencja/.venv/lib/python3.11/site-packages/sklearn/utils/validation.py:2749: UserWarning: X does not have valid feature names, but LGBMClassifier was fitted with feature names\n",
      "  warnings.warn(\n"
     ]
    },
    {
     "name": "stdout",
     "output_type": "stream",
     "text": [
      "[CV] END colsample_bytree=0.9, learning_rate=0.1, n_estimators=100, num_leaves=31, subsample=0.9; total time= 1.1min\n"
     ]
    },
    {
     "name": "stderr",
     "output_type": "stream",
     "text": [
      "/home/bartosz/Documents/codeRepo/psi/sztuczna-inteligencja/.venv/lib/python3.11/site-packages/sklearn/utils/validation.py:2749: UserWarning: X does not have valid feature names, but LGBMClassifier was fitted with feature names\n",
      "  warnings.warn(\n"
     ]
    },
    {
     "name": "stdout",
     "output_type": "stream",
     "text": [
      "[CV] END colsample_bytree=0.9, learning_rate=0.1, n_estimators=100, num_leaves=31, subsample=0.9; total time= 1.1min\n"
     ]
    },
    {
     "name": "stderr",
     "output_type": "stream",
     "text": [
      "/home/bartosz/Documents/codeRepo/psi/sztuczna-inteligencja/.venv/lib/python3.11/site-packages/sklearn/utils/validation.py:2749: UserWarning: X does not have valid feature names, but LGBMClassifier was fitted with feature names\n",
      "  warnings.warn(\n"
     ]
    },
    {
     "name": "stdout",
     "output_type": "stream",
     "text": [
      "[CV] END colsample_bytree=0.9, learning_rate=0.1, n_estimators=100, num_leaves=31, subsample=0.9; total time=  43.6s\n"
     ]
    },
    {
     "name": "stderr",
     "output_type": "stream",
     "text": [
      "/home/bartosz/Documents/codeRepo/psi/sztuczna-inteligencja/.venv/lib/python3.11/site-packages/sklearn/utils/validation.py:2749: UserWarning: X does not have valid feature names, but LGBMClassifier was fitted with feature names\n",
      "  warnings.warn(\n"
     ]
    },
    {
     "name": "stdout",
     "output_type": "stream",
     "text": [
      "[CV] END colsample_bytree=0.8, learning_rate=0.2, n_estimators=500, num_leaves=48, subsample=0.8; total time= 3.8min\n"
     ]
    },
    {
     "name": "stderr",
     "output_type": "stream",
     "text": [
      "/home/bartosz/Documents/codeRepo/psi/sztuczna-inteligencja/.venv/lib/python3.11/site-packages/sklearn/utils/validation.py:2749: UserWarning: X does not have valid feature names, but LGBMClassifier was fitted with feature names\n",
      "  warnings.warn(\n"
     ]
    },
    {
     "name": "stdout",
     "output_type": "stream",
     "text": [
      "[CV] END colsample_bytree=0.8, learning_rate=0.2, n_estimators=500, num_leaves=48, subsample=0.8; total time= 3.9min\n"
     ]
    },
    {
     "name": "stderr",
     "output_type": "stream",
     "text": [
      "/home/bartosz/Documents/codeRepo/psi/sztuczna-inteligencja/.venv/lib/python3.11/site-packages/sklearn/utils/validation.py:2749: UserWarning: X does not have valid feature names, but LGBMClassifier was fitted with feature names\n",
      "  warnings.warn(\n"
     ]
    },
    {
     "name": "stdout",
     "output_type": "stream",
     "text": [
      "[CV] END colsample_bytree=0.8, learning_rate=0.2, n_estimators=500, num_leaves=48, subsample=0.8; total time= 3.9min\n"
     ]
    },
    {
     "name": "stderr",
     "output_type": "stream",
     "text": [
      "/home/bartosz/Documents/codeRepo/psi/sztuczna-inteligencja/.venv/lib/python3.11/site-packages/sklearn/utils/validation.py:2749: UserWarning: X does not have valid feature names, but LGBMClassifier was fitted with feature names\n",
      "  warnings.warn(\n"
     ]
    },
    {
     "name": "stdout",
     "output_type": "stream",
     "text": [
      "[CV] END colsample_bytree=0.9, learning_rate=0.1, n_estimators=100, num_leaves=31, subsample=0.9; total time=  56.2s\n"
     ]
    },
    {
     "name": "stderr",
     "output_type": "stream",
     "text": [
      "/home/bartosz/Documents/codeRepo/psi/sztuczna-inteligencja/.venv/lib/python3.11/site-packages/sklearn/utils/validation.py:2749: UserWarning: X does not have valid feature names, but LGBMClassifier was fitted with feature names\n",
      "  warnings.warn(\n"
     ]
    },
    {
     "name": "stdout",
     "output_type": "stream",
     "text": [
      "[CV] END colsample_bytree=0.8, learning_rate=0.2, n_estimators=500, num_leaves=48, subsample=0.8; total time= 4.0min\n"
     ]
    },
    {
     "name": "stderr",
     "output_type": "stream",
     "text": [
      "/home/bartosz/Documents/codeRepo/psi/sztuczna-inteligencja/.venv/lib/python3.11/site-packages/sklearn/utils/validation.py:2749: UserWarning: X does not have valid feature names, but LGBMClassifier was fitted with feature names\n",
      "  warnings.warn(\n"
     ]
    },
    {
     "name": "stdout",
     "output_type": "stream",
     "text": [
      "[CV] END colsample_bytree=0.8, learning_rate=0.2, n_estimators=500, num_leaves=48, subsample=0.8; total time= 4.4min\n"
     ]
    },
    {
     "name": "stderr",
     "output_type": "stream",
     "text": [
      "/home/bartosz/Documents/codeRepo/psi/sztuczna-inteligencja/.venv/lib/python3.11/site-packages/sklearn/utils/validation.py:2749: UserWarning: X does not have valid feature names, but LGBMClassifier was fitted with feature names\n",
      "  warnings.warn(\n"
     ]
    },
    {
     "name": "stdout",
     "output_type": "stream",
     "text": [
      "[CV] END colsample_bytree=0.8, learning_rate=0.2, n_estimators=250, num_leaves=64, subsample=1.0; total time= 3.2min\n"
     ]
    },
    {
     "name": "stderr",
     "output_type": "stream",
     "text": [
      "/home/bartosz/Documents/codeRepo/psi/sztuczna-inteligencja/.venv/lib/python3.11/site-packages/sklearn/utils/validation.py:2749: UserWarning: X does not have valid feature names, but LGBMClassifier was fitted with feature names\n",
      "  warnings.warn(\n"
     ]
    },
    {
     "name": "stdout",
     "output_type": "stream",
     "text": [
      "[CV] END colsample_bytree=0.8, learning_rate=0.2, n_estimators=250, num_leaves=64, subsample=1.0; total time= 3.4min\n"
     ]
    },
    {
     "name": "stderr",
     "output_type": "stream",
     "text": [
      "/home/bartosz/Documents/codeRepo/psi/sztuczna-inteligencja/.venv/lib/python3.11/site-packages/sklearn/utils/validation.py:2749: UserWarning: X does not have valid feature names, but LGBMClassifier was fitted with feature names\n",
      "  warnings.warn(\n"
     ]
    },
    {
     "name": "stdout",
     "output_type": "stream",
     "text": [
      "[CV] END colsample_bytree=0.8, learning_rate=0.2, n_estimators=250, num_leaves=64, subsample=1.0; total time= 3.4min\n"
     ]
    },
    {
     "name": "stderr",
     "output_type": "stream",
     "text": [
      "/home/bartosz/Documents/codeRepo/psi/sztuczna-inteligencja/.venv/lib/python3.11/site-packages/sklearn/utils/validation.py:2749: UserWarning: X does not have valid feature names, but LGBMClassifier was fitted with feature names\n",
      "  warnings.warn(\n"
     ]
    },
    {
     "name": "stdout",
     "output_type": "stream",
     "text": [
      "[CV] END colsample_bytree=0.8, learning_rate=0.2, n_estimators=250, num_leaves=64, subsample=1.0; total time= 3.9min\n"
     ]
    },
    {
     "name": "stderr",
     "output_type": "stream",
     "text": [
      "/home/bartosz/Documents/codeRepo/psi/sztuczna-inteligencja/.venv/lib/python3.11/site-packages/sklearn/utils/validation.py:2749: UserWarning: X does not have valid feature names, but LGBMClassifier was fitted with feature names\n",
      "  warnings.warn(\n"
     ]
    },
    {
     "name": "stdout",
     "output_type": "stream",
     "text": [
      "[CV] END colsample_bytree=0.8, learning_rate=0.2, n_estimators=250, num_leaves=64, subsample=1.0; total time= 3.8min\n"
     ]
    },
    {
     "name": "stderr",
     "output_type": "stream",
     "text": [
      "/home/bartosz/Documents/codeRepo/psi/sztuczna-inteligencja/.venv/lib/python3.11/site-packages/sklearn/utils/validation.py:2749: UserWarning: X does not have valid feature names, but LGBMClassifier was fitted with feature names\n",
      "  warnings.warn(\n"
     ]
    },
    {
     "name": "stdout",
     "output_type": "stream",
     "text": [
      "[CV] END colsample_bytree=0.9, learning_rate=0.1, n_estimators=250, num_leaves=48, subsample=1.0; total time= 3.4min\n"
     ]
    },
    {
     "name": "stderr",
     "output_type": "stream",
     "text": [
      "/home/bartosz/Documents/codeRepo/psi/sztuczna-inteligencja/.venv/lib/python3.11/site-packages/sklearn/utils/validation.py:2749: UserWarning: X does not have valid feature names, but LGBMClassifier was fitted with feature names\n",
      "  warnings.warn(\n"
     ]
    },
    {
     "name": "stdout",
     "output_type": "stream",
     "text": [
      "[CV] END colsample_bytree=0.9, learning_rate=0.1, n_estimators=250, num_leaves=48, subsample=1.0; total time= 4.6min\n"
     ]
    },
    {
     "name": "stderr",
     "output_type": "stream",
     "text": [
      "/home/bartosz/Documents/codeRepo/psi/sztuczna-inteligencja/.venv/lib/python3.11/site-packages/sklearn/utils/validation.py:2749: UserWarning: X does not have valid feature names, but LGBMClassifier was fitted with feature names\n",
      "  warnings.warn(\n"
     ]
    },
    {
     "name": "stdout",
     "output_type": "stream",
     "text": [
      "[CV] END colsample_bytree=0.9, learning_rate=0.1, n_estimators=250, num_leaves=48, subsample=1.0; total time= 3.5min\n"
     ]
    },
    {
     "name": "stderr",
     "output_type": "stream",
     "text": [
      "/home/bartosz/Documents/codeRepo/psi/sztuczna-inteligencja/.venv/lib/python3.11/site-packages/sklearn/utils/validation.py:2749: UserWarning: X does not have valid feature names, but LGBMClassifier was fitted with feature names\n",
      "  warnings.warn(\n"
     ]
    },
    {
     "name": "stdout",
     "output_type": "stream",
     "text": [
      "[CV] END colsample_bytree=0.9, learning_rate=0.1, n_estimators=250, num_leaves=48, subsample=1.0; total time= 3.4min\n"
     ]
    },
    {
     "name": "stderr",
     "output_type": "stream",
     "text": [
      "/home/bartosz/Documents/codeRepo/psi/sztuczna-inteligencja/.venv/lib/python3.11/site-packages/sklearn/utils/validation.py:2749: UserWarning: X does not have valid feature names, but LGBMClassifier was fitted with feature names\n",
      "  warnings.warn(\n"
     ]
    },
    {
     "name": "stdout",
     "output_type": "stream",
     "text": [
      "[CV] END colsample_bytree=0.9, learning_rate=0.1, n_estimators=250, num_leaves=48, subsample=1.0; total time= 3.6min\n"
     ]
    },
    {
     "name": "stderr",
     "output_type": "stream",
     "text": [
      "/home/bartosz/Documents/codeRepo/psi/sztuczna-inteligencja/.venv/lib/python3.11/site-packages/sklearn/utils/validation.py:2749: UserWarning: X does not have valid feature names, but LGBMClassifier was fitted with feature names\n",
      "  warnings.warn(\n"
     ]
    },
    {
     "name": "stdout",
     "output_type": "stream",
     "text": [
      "[CV] END colsample_bytree=0.8, learning_rate=0.2, n_estimators=500, num_leaves=31, subsample=0.9; total time= 3.5min\n"
     ]
    },
    {
     "name": "stderr",
     "output_type": "stream",
     "text": [
      "/home/bartosz/Documents/codeRepo/psi/sztuczna-inteligencja/.venv/lib/python3.11/site-packages/sklearn/utils/validation.py:2749: UserWarning: X does not have valid feature names, but LGBMClassifier was fitted with feature names\n",
      "  warnings.warn(\n"
     ]
    },
    {
     "name": "stdout",
     "output_type": "stream",
     "text": [
      "[CV] END colsample_bytree=0.8, learning_rate=0.2, n_estimators=500, num_leaves=31, subsample=0.9; total time= 3.7min\n"
     ]
    },
    {
     "name": "stderr",
     "output_type": "stream",
     "text": [
      "/home/bartosz/Documents/codeRepo/psi/sztuczna-inteligencja/.venv/lib/python3.11/site-packages/sklearn/utils/validation.py:2749: UserWarning: X does not have valid feature names, but LGBMClassifier was fitted with feature names\n",
      "  warnings.warn(\n"
     ]
    },
    {
     "name": "stdout",
     "output_type": "stream",
     "text": [
      "[CV] END colsample_bytree=0.8, learning_rate=0.2, n_estimators=500, num_leaves=31, subsample=0.9; total time= 3.9min\n"
     ]
    },
    {
     "name": "stderr",
     "output_type": "stream",
     "text": [
      "/home/bartosz/Documents/codeRepo/psi/sztuczna-inteligencja/.venv/lib/python3.11/site-packages/sklearn/utils/validation.py:2749: UserWarning: X does not have valid feature names, but LGBMClassifier was fitted with feature names\n",
      "  warnings.warn(\n"
     ]
    },
    {
     "name": "stdout",
     "output_type": "stream",
     "text": [
      "[CV] END colsample_bytree=0.8, learning_rate=0.2, n_estimators=500, num_leaves=31, subsample=0.9; total time= 3.8min\n"
     ]
    },
    {
     "name": "stderr",
     "output_type": "stream",
     "text": [
      "/home/bartosz/Documents/codeRepo/psi/sztuczna-inteligencja/.venv/lib/python3.11/site-packages/sklearn/utils/validation.py:2749: UserWarning: X does not have valid feature names, but LGBMClassifier was fitted with feature names\n",
      "  warnings.warn(\n"
     ]
    },
    {
     "name": "stdout",
     "output_type": "stream",
     "text": [
      "[CV] END colsample_bytree=0.9, learning_rate=0.2, n_estimators=500, num_leaves=31, subsample=0.9; total time= 3.2min\n"
     ]
    },
    {
     "name": "stderr",
     "output_type": "stream",
     "text": [
      "/home/bartosz/Documents/codeRepo/psi/sztuczna-inteligencja/.venv/lib/python3.11/site-packages/sklearn/utils/validation.py:2749: UserWarning: X does not have valid feature names, but LGBMClassifier was fitted with feature names\n",
      "  warnings.warn(\n"
     ]
    },
    {
     "name": "stdout",
     "output_type": "stream",
     "text": [
      "[CV] END colsample_bytree=0.8, learning_rate=0.2, n_estimators=500, num_leaves=31, subsample=0.9; total time= 4.0min\n"
     ]
    },
    {
     "name": "stderr",
     "output_type": "stream",
     "text": [
      "/home/bartosz/Documents/codeRepo/psi/sztuczna-inteligencja/.venv/lib/python3.11/site-packages/sklearn/utils/validation.py:2749: UserWarning: X does not have valid feature names, but LGBMClassifier was fitted with feature names\n",
      "  warnings.warn(\n"
     ]
    },
    {
     "name": "stdout",
     "output_type": "stream",
     "text": [
      "[CV] END colsample_bytree=0.9, learning_rate=0.2, n_estimators=500, num_leaves=31, subsample=0.9; total time= 3.6min\n"
     ]
    },
    {
     "name": "stderr",
     "output_type": "stream",
     "text": [
      "/home/bartosz/Documents/codeRepo/psi/sztuczna-inteligencja/.venv/lib/python3.11/site-packages/sklearn/utils/validation.py:2749: UserWarning: X does not have valid feature names, but LGBMClassifier was fitted with feature names\n",
      "  warnings.warn(\n"
     ]
    },
    {
     "name": "stdout",
     "output_type": "stream",
     "text": [
      "[CV] END colsample_bytree=0.9, learning_rate=0.2, n_estimators=500, num_leaves=31, subsample=0.9; total time= 3.7min\n"
     ]
    },
    {
     "name": "stderr",
     "output_type": "stream",
     "text": [
      "/home/bartosz/Documents/codeRepo/psi/sztuczna-inteligencja/.venv/lib/python3.11/site-packages/sklearn/utils/validation.py:2749: UserWarning: X does not have valid feature names, but LGBMClassifier was fitted with feature names\n",
      "  warnings.warn(\n"
     ]
    },
    {
     "name": "stdout",
     "output_type": "stream",
     "text": [
      "[CV] END colsample_bytree=1.0, learning_rate=0.2, n_estimators=500, num_leaves=31, subsample=0.8; total time= 3.4min\n"
     ]
    },
    {
     "name": "stderr",
     "output_type": "stream",
     "text": [
      "/home/bartosz/Documents/codeRepo/psi/sztuczna-inteligencja/.venv/lib/python3.11/site-packages/sklearn/utils/validation.py:2749: UserWarning: X does not have valid feature names, but LGBMClassifier was fitted with feature names\n",
      "  warnings.warn(\n"
     ]
    },
    {
     "name": "stdout",
     "output_type": "stream",
     "text": [
      "[CV] END colsample_bytree=0.9, learning_rate=0.2, n_estimators=500, num_leaves=31, subsample=0.9; total time= 3.7min\n"
     ]
    },
    {
     "name": "stderr",
     "output_type": "stream",
     "text": [
      "/home/bartosz/Documents/codeRepo/psi/sztuczna-inteligencja/.venv/lib/python3.11/site-packages/sklearn/utils/validation.py:2749: UserWarning: X does not have valid feature names, but LGBMClassifier was fitted with feature names\n",
      "  warnings.warn(\n"
     ]
    },
    {
     "name": "stdout",
     "output_type": "stream",
     "text": [
      "[CV] END colsample_bytree=0.9, learning_rate=0.2, n_estimators=500, num_leaves=31, subsample=0.9; total time= 4.9min\n"
     ]
    },
    {
     "name": "stderr",
     "output_type": "stream",
     "text": [
      "/home/bartosz/Documents/codeRepo/psi/sztuczna-inteligencja/.venv/lib/python3.11/site-packages/sklearn/utils/validation.py:2749: UserWarning: X does not have valid feature names, but LGBMClassifier was fitted with feature names\n",
      "  warnings.warn(\n"
     ]
    },
    {
     "name": "stdout",
     "output_type": "stream",
     "text": [
      "[CV] END colsample_bytree=1.0, learning_rate=0.2, n_estimators=500, num_leaves=31, subsample=0.8; total time= 4.2min\n"
     ]
    },
    {
     "name": "stderr",
     "output_type": "stream",
     "text": [
      "/home/bartosz/Documents/codeRepo/psi/sztuczna-inteligencja/.venv/lib/python3.11/site-packages/sklearn/utils/validation.py:2749: UserWarning: X does not have valid feature names, but LGBMClassifier was fitted with feature names\n",
      "  warnings.warn(\n"
     ]
    },
    {
     "name": "stdout",
     "output_type": "stream",
     "text": [
      "[CV] END colsample_bytree=1.0, learning_rate=0.2, n_estimators=500, num_leaves=31, subsample=0.8; total time= 4.0min\n"
     ]
    },
    {
     "name": "stderr",
     "output_type": "stream",
     "text": [
      "/home/bartosz/Documents/codeRepo/psi/sztuczna-inteligencja/.venv/lib/python3.11/site-packages/sklearn/utils/validation.py:2749: UserWarning: X does not have valid feature names, but LGBMClassifier was fitted with feature names\n",
      "  warnings.warn(\n"
     ]
    },
    {
     "name": "stdout",
     "output_type": "stream",
     "text": [
      "[CV] END colsample_bytree=1.0, learning_rate=0.2, n_estimators=100, num_leaves=64, subsample=0.9; total time= 2.0min\n"
     ]
    },
    {
     "name": "stderr",
     "output_type": "stream",
     "text": [
      "/home/bartosz/Documents/codeRepo/psi/sztuczna-inteligencja/.venv/lib/python3.11/site-packages/sklearn/utils/validation.py:2749: UserWarning: X does not have valid feature names, but LGBMClassifier was fitted with feature names\n",
      "  warnings.warn(\n"
     ]
    },
    {
     "name": "stdout",
     "output_type": "stream",
     "text": [
      "[CV] END colsample_bytree=1.0, learning_rate=0.2, n_estimators=500, num_leaves=31, subsample=0.8; total time= 3.6min\n"
     ]
    },
    {
     "name": "stderr",
     "output_type": "stream",
     "text": [
      "/home/bartosz/Documents/codeRepo/psi/sztuczna-inteligencja/.venv/lib/python3.11/site-packages/sklearn/utils/validation.py:2749: UserWarning: X does not have valid feature names, but LGBMClassifier was fitted with feature names\n",
      "  warnings.warn(\n"
     ]
    },
    {
     "name": "stdout",
     "output_type": "stream",
     "text": [
      "[CV] END colsample_bytree=1.0, learning_rate=0.2, n_estimators=100, num_leaves=64, subsample=0.9; total time= 1.8min\n"
     ]
    },
    {
     "name": "stderr",
     "output_type": "stream",
     "text": [
      "/home/bartosz/Documents/codeRepo/psi/sztuczna-inteligencja/.venv/lib/python3.11/site-packages/sklearn/utils/validation.py:2749: UserWarning: X does not have valid feature names, but LGBMClassifier was fitted with feature names\n",
      "  warnings.warn(\n"
     ]
    },
    {
     "name": "stdout",
     "output_type": "stream",
     "text": [
      "[CV] END colsample_bytree=1.0, learning_rate=0.2, n_estimators=100, num_leaves=64, subsample=0.9; total time= 1.9min\n"
     ]
    },
    {
     "name": "stderr",
     "output_type": "stream",
     "text": [
      "/home/bartosz/Documents/codeRepo/psi/sztuczna-inteligencja/.venv/lib/python3.11/site-packages/sklearn/utils/validation.py:2749: UserWarning: X does not have valid feature names, but LGBMClassifier was fitted with feature names\n",
      "  warnings.warn(\n"
     ]
    },
    {
     "name": "stdout",
     "output_type": "stream",
     "text": [
      "[CV] END colsample_bytree=1.0, learning_rate=0.2, n_estimators=500, num_leaves=31, subsample=0.8; total time= 3.8min\n"
     ]
    },
    {
     "name": "stderr",
     "output_type": "stream",
     "text": [
      "/home/bartosz/Documents/codeRepo/psi/sztuczna-inteligencja/.venv/lib/python3.11/site-packages/sklearn/utils/validation.py:2749: UserWarning: X does not have valid feature names, but LGBMClassifier was fitted with feature names\n",
      "  warnings.warn(\n"
     ]
    },
    {
     "name": "stdout",
     "output_type": "stream",
     "text": [
      "[CV] END colsample_bytree=1.0, learning_rate=0.2, n_estimators=100, num_leaves=64, subsample=0.9; total time= 1.9min\n"
     ]
    },
    {
     "name": "stderr",
     "output_type": "stream",
     "text": [
      "/home/bartosz/Documents/codeRepo/psi/sztuczna-inteligencja/.venv/lib/python3.11/site-packages/sklearn/utils/validation.py:2749: UserWarning: X does not have valid feature names, but LGBMClassifier was fitted with feature names\n",
      "  warnings.warn(\n"
     ]
    },
    {
     "name": "stdout",
     "output_type": "stream",
     "text": [
      "[CV] END colsample_bytree=1.0, learning_rate=0.2, n_estimators=100, num_leaves=64, subsample=0.9; total time= 1.9min\n"
     ]
    },
    {
     "name": "stderr",
     "output_type": "stream",
     "text": [
      "/home/bartosz/Documents/codeRepo/psi/sztuczna-inteligencja/.venv/lib/python3.11/site-packages/sklearn/utils/validation.py:2749: UserWarning: X does not have valid feature names, but LGBMClassifier was fitted with feature names\n",
      "  warnings.warn(\n"
     ]
    },
    {
     "name": "stdout",
     "output_type": "stream",
     "text": [
      "[CV] END colsample_bytree=1.0, learning_rate=0.05, n_estimators=500, num_leaves=31, subsample=0.8; total time= 4.6min\n"
     ]
    },
    {
     "name": "stderr",
     "output_type": "stream",
     "text": [
      "/home/bartosz/Documents/codeRepo/psi/sztuczna-inteligencja/.venv/lib/python3.11/site-packages/sklearn/utils/validation.py:2749: UserWarning: X does not have valid feature names, but LGBMClassifier was fitted with feature names\n",
      "  warnings.warn(\n"
     ]
    },
    {
     "name": "stdout",
     "output_type": "stream",
     "text": [
      "[CV] END colsample_bytree=1.0, learning_rate=0.05, n_estimators=500, num_leaves=31, subsample=0.8; total time= 4.7min\n"
     ]
    },
    {
     "name": "stderr",
     "output_type": "stream",
     "text": [
      "/home/bartosz/Documents/codeRepo/psi/sztuczna-inteligencja/.venv/lib/python3.11/site-packages/sklearn/utils/validation.py:2749: UserWarning: X does not have valid feature names, but LGBMClassifier was fitted with feature names\n",
      "  warnings.warn(\n"
     ]
    },
    {
     "name": "stdout",
     "output_type": "stream",
     "text": [
      "[CV] END colsample_bytree=0.9, learning_rate=0.2, n_estimators=500, num_leaves=48, subsample=0.9; total time= 3.5min\n"
     ]
    },
    {
     "name": "stderr",
     "output_type": "stream",
     "text": [
      "/home/bartosz/Documents/codeRepo/psi/sztuczna-inteligencja/.venv/lib/python3.11/site-packages/sklearn/utils/validation.py:2749: UserWarning: X does not have valid feature names, but LGBMClassifier was fitted with feature names\n",
      "  warnings.warn(\n"
     ]
    },
    {
     "name": "stdout",
     "output_type": "stream",
     "text": [
      "[CV] END colsample_bytree=1.0, learning_rate=0.05, n_estimators=500, num_leaves=31, subsample=0.8; total time= 4.5min\n"
     ]
    },
    {
     "name": "stderr",
     "output_type": "stream",
     "text": [
      "/home/bartosz/Documents/codeRepo/psi/sztuczna-inteligencja/.venv/lib/python3.11/site-packages/sklearn/utils/validation.py:2749: UserWarning: X does not have valid feature names, but LGBMClassifier was fitted with feature names\n",
      "  warnings.warn(\n"
     ]
    },
    {
     "name": "stdout",
     "output_type": "stream",
     "text": [
      "[CV] END colsample_bytree=1.0, learning_rate=0.05, n_estimators=500, num_leaves=31, subsample=0.8; total time= 4.4min\n"
     ]
    },
    {
     "name": "stderr",
     "output_type": "stream",
     "text": [
      "/home/bartosz/Documents/codeRepo/psi/sztuczna-inteligencja/.venv/lib/python3.11/site-packages/sklearn/utils/validation.py:2749: UserWarning: X does not have valid feature names, but LGBMClassifier was fitted with feature names\n",
      "  warnings.warn(\n"
     ]
    },
    {
     "name": "stdout",
     "output_type": "stream",
     "text": [
      "[CV] END colsample_bytree=0.9, learning_rate=0.2, n_estimators=500, num_leaves=48, subsample=0.9; total time= 3.8min\n"
     ]
    },
    {
     "name": "stderr",
     "output_type": "stream",
     "text": [
      "/home/bartosz/Documents/codeRepo/psi/sztuczna-inteligencja/.venv/lib/python3.11/site-packages/sklearn/utils/validation.py:2749: UserWarning: X does not have valid feature names, but LGBMClassifier was fitted with feature names\n",
      "  warnings.warn(\n"
     ]
    },
    {
     "name": "stdout",
     "output_type": "stream",
     "text": [
      "[CV] END colsample_bytree=0.9, learning_rate=0.2, n_estimators=500, num_leaves=48, subsample=0.9; total time= 4.1min\n"
     ]
    },
    {
     "name": "stderr",
     "output_type": "stream",
     "text": [
      "/home/bartosz/Documents/codeRepo/psi/sztuczna-inteligencja/.venv/lib/python3.11/site-packages/sklearn/utils/validation.py:2749: UserWarning: X does not have valid feature names, but LGBMClassifier was fitted with feature names\n",
      "  warnings.warn(\n"
     ]
    },
    {
     "name": "stdout",
     "output_type": "stream",
     "text": [
      "[CV] END colsample_bytree=1.0, learning_rate=0.05, n_estimators=500, num_leaves=31, subsample=0.8; total time= 5.7min\n"
     ]
    },
    {
     "name": "stderr",
     "output_type": "stream",
     "text": [
      "/home/bartosz/Documents/codeRepo/psi/sztuczna-inteligencja/.venv/lib/python3.11/site-packages/sklearn/utils/validation.py:2749: UserWarning: X does not have valid feature names, but LGBMClassifier was fitted with feature names\n",
      "  warnings.warn(\n"
     ]
    },
    {
     "name": "stdout",
     "output_type": "stream",
     "text": [
      "[CV] END colsample_bytree=0.9, learning_rate=0.2, n_estimators=500, num_leaves=48, subsample=0.9; total time= 3.9min\n"
     ]
    },
    {
     "name": "stderr",
     "output_type": "stream",
     "text": [
      "/home/bartosz/Documents/codeRepo/psi/sztuczna-inteligencja/.venv/lib/python3.11/site-packages/sklearn/utils/validation.py:2749: UserWarning: X does not have valid feature names, but LGBMClassifier was fitted with feature names\n",
      "  warnings.warn(\n"
     ]
    },
    {
     "name": "stdout",
     "output_type": "stream",
     "text": [
      "[CV] END colsample_bytree=0.9, learning_rate=0.2, n_estimators=500, num_leaves=48, subsample=0.8; total time= 4.0min\n"
     ]
    },
    {
     "name": "stderr",
     "output_type": "stream",
     "text": [
      "/home/bartosz/Documents/codeRepo/psi/sztuczna-inteligencja/.venv/lib/python3.11/site-packages/sklearn/utils/validation.py:2749: UserWarning: X does not have valid feature names, but LGBMClassifier was fitted with feature names\n",
      "  warnings.warn(\n"
     ]
    },
    {
     "name": "stdout",
     "output_type": "stream",
     "text": [
      "[CV] END colsample_bytree=0.9, learning_rate=0.2, n_estimators=500, num_leaves=48, subsample=0.9; total time= 4.1min\n"
     ]
    },
    {
     "name": "stderr",
     "output_type": "stream",
     "text": [
      "/home/bartosz/Documents/codeRepo/psi/sztuczna-inteligencja/.venv/lib/python3.11/site-packages/sklearn/utils/validation.py:2749: UserWarning: X does not have valid feature names, but LGBMClassifier was fitted with feature names\n",
      "  warnings.warn(\n"
     ]
    },
    {
     "name": "stdout",
     "output_type": "stream",
     "text": [
      "[CV] END colsample_bytree=0.9, learning_rate=0.2, n_estimators=500, num_leaves=48, subsample=0.8; total time= 4.1min\n"
     ]
    },
    {
     "name": "stderr",
     "output_type": "stream",
     "text": [
      "/home/bartosz/Documents/codeRepo/psi/sztuczna-inteligencja/.venv/lib/python3.11/site-packages/sklearn/utils/validation.py:2749: UserWarning: X does not have valid feature names, but LGBMClassifier was fitted with feature names\n",
      "  warnings.warn(\n"
     ]
    },
    {
     "name": "stdout",
     "output_type": "stream",
     "text": [
      "[CV] END colsample_bytree=0.9, learning_rate=0.2, n_estimators=500, num_leaves=48, subsample=0.8; total time= 3.8min\n"
     ]
    },
    {
     "name": "stderr",
     "output_type": "stream",
     "text": [
      "/home/bartosz/Documents/codeRepo/psi/sztuczna-inteligencja/.venv/lib/python3.11/site-packages/sklearn/utils/validation.py:2749: UserWarning: X does not have valid feature names, but LGBMClassifier was fitted with feature names\n",
      "  warnings.warn(\n"
     ]
    },
    {
     "name": "stdout",
     "output_type": "stream",
     "text": [
      "[CV] END colsample_bytree=0.9, learning_rate=0.2, n_estimators=500, num_leaves=48, subsample=0.8; total time= 4.1min\n"
     ]
    },
    {
     "name": "stderr",
     "output_type": "stream",
     "text": [
      "/home/bartosz/Documents/codeRepo/psi/sztuczna-inteligencja/.venv/lib/python3.11/site-packages/sklearn/utils/validation.py:2749: UserWarning: X does not have valid feature names, but LGBMClassifier was fitted with feature names\n",
      "  warnings.warn(\n"
     ]
    },
    {
     "name": "stdout",
     "output_type": "stream",
     "text": [
      "[CV] END colsample_bytree=0.9, learning_rate=0.2, n_estimators=500, num_leaves=48, subsample=0.8; total time= 4.3min\n"
     ]
    },
    {
     "name": "stderr",
     "output_type": "stream",
     "text": [
      "/home/bartosz/Documents/codeRepo/psi/sztuczna-inteligencja/.venv/lib/python3.11/site-packages/sklearn/utils/validation.py:2749: UserWarning: X does not have valid feature names, but LGBMClassifier was fitted with feature names\n",
      "  warnings.warn(\n"
     ]
    },
    {
     "name": "stdout",
     "output_type": "stream",
     "text": [
      "[CV] END colsample_bytree=0.9, learning_rate=0.2, n_estimators=100, num_leaves=31, subsample=0.8; total time= 1.0min\n"
     ]
    },
    {
     "name": "stderr",
     "output_type": "stream",
     "text": [
      "/home/bartosz/Documents/codeRepo/psi/sztuczna-inteligencja/.venv/lib/python3.11/site-packages/sklearn/utils/validation.py:2749: UserWarning: X does not have valid feature names, but LGBMClassifier was fitted with feature names\n",
      "  warnings.warn(\n"
     ]
    },
    {
     "name": "stdout",
     "output_type": "stream",
     "text": [
      "[CV] END colsample_bytree=0.9, learning_rate=0.2, n_estimators=100, num_leaves=31, subsample=0.8; total time= 1.0min\n"
     ]
    },
    {
     "name": "stderr",
     "output_type": "stream",
     "text": [
      "/home/bartosz/Documents/codeRepo/psi/sztuczna-inteligencja/.venv/lib/python3.11/site-packages/sklearn/utils/validation.py:2749: UserWarning: X does not have valid feature names, but LGBMClassifier was fitted with feature names\n",
      "  warnings.warn(\n"
     ]
    },
    {
     "name": "stdout",
     "output_type": "stream",
     "text": [
      "[CV] END colsample_bytree=0.9, learning_rate=0.2, n_estimators=100, num_leaves=31, subsample=0.8; total time=  56.9s\n"
     ]
    },
    {
     "name": "stderr",
     "output_type": "stream",
     "text": [
      "/home/bartosz/Documents/codeRepo/psi/sztuczna-inteligencja/.venv/lib/python3.11/site-packages/sklearn/utils/validation.py:2749: UserWarning: X does not have valid feature names, but LGBMClassifier was fitted with feature names\n",
      "  warnings.warn(\n"
     ]
    },
    {
     "name": "stdout",
     "output_type": "stream",
     "text": [
      "[CV] END colsample_bytree=0.9, learning_rate=0.2, n_estimators=100, num_leaves=31, subsample=0.8; total time=  54.5s\n"
     ]
    },
    {
     "name": "stderr",
     "output_type": "stream",
     "text": [
      "/home/bartosz/Documents/codeRepo/psi/sztuczna-inteligencja/.venv/lib/python3.11/site-packages/sklearn/utils/validation.py:2749: UserWarning: X does not have valid feature names, but LGBMClassifier was fitted with feature names\n",
      "  warnings.warn(\n"
     ]
    },
    {
     "name": "stdout",
     "output_type": "stream",
     "text": [
      "[CV] END colsample_bytree=0.9, learning_rate=0.2, n_estimators=100, num_leaves=31, subsample=0.8; total time=  57.0s\n"
     ]
    },
    {
     "name": "stderr",
     "output_type": "stream",
     "text": [
      "/home/bartosz/Documents/codeRepo/psi/sztuczna-inteligencja/.venv/lib/python3.11/site-packages/sklearn/utils/validation.py:2749: UserWarning: X does not have valid feature names, but LGBMClassifier was fitted with feature names\n",
      "  warnings.warn(\n"
     ]
    },
    {
     "name": "stdout",
     "output_type": "stream",
     "text": [
      "[CV] END colsample_bytree=1.0, learning_rate=0.05, n_estimators=500, num_leaves=64, subsample=1.0; total time= 9.9min\n"
     ]
    },
    {
     "name": "stderr",
     "output_type": "stream",
     "text": [
      "/home/bartosz/Documents/codeRepo/psi/sztuczna-inteligencja/.venv/lib/python3.11/site-packages/sklearn/utils/validation.py:2749: UserWarning: X does not have valid feature names, but LGBMClassifier was fitted with feature names\n",
      "  warnings.warn(\n"
     ]
    },
    {
     "name": "stdout",
     "output_type": "stream",
     "text": [
      "[CV] END colsample_bytree=1.0, learning_rate=0.05, n_estimators=500, num_leaves=64, subsample=1.0; total time= 8.8min\n"
     ]
    },
    {
     "name": "stderr",
     "output_type": "stream",
     "text": [
      "/home/bartosz/Documents/codeRepo/psi/sztuczna-inteligencja/.venv/lib/python3.11/site-packages/sklearn/utils/validation.py:2749: UserWarning: X does not have valid feature names, but LGBMClassifier was fitted with feature names\n",
      "  warnings.warn(\n"
     ]
    },
    {
     "name": "stdout",
     "output_type": "stream",
     "text": [
      "[CV] END colsample_bytree=1.0, learning_rate=0.05, n_estimators=500, num_leaves=64, subsample=1.0; total time= 9.3min\n"
     ]
    },
    {
     "name": "stderr",
     "output_type": "stream",
     "text": [
      "/home/bartosz/Documents/codeRepo/psi/sztuczna-inteligencja/.venv/lib/python3.11/site-packages/sklearn/utils/validation.py:2749: UserWarning: X does not have valid feature names, but LGBMClassifier was fitted with feature names\n",
      "  warnings.warn(\n"
     ]
    },
    {
     "name": "stdout",
     "output_type": "stream",
     "text": [
      "[CV] END colsample_bytree=1.0, learning_rate=0.05, n_estimators=500, num_leaves=64, subsample=1.0; total time= 9.6min\n"
     ]
    },
    {
     "name": "stderr",
     "output_type": "stream",
     "text": [
      "/home/bartosz/Documents/codeRepo/psi/sztuczna-inteligencja/.venv/lib/python3.11/site-packages/sklearn/utils/validation.py:2749: UserWarning: X does not have valid feature names, but LGBMClassifier was fitted with feature names\n",
      "  warnings.warn(\n"
     ]
    },
    {
     "name": "stdout",
     "output_type": "stream",
     "text": [
      "[CV] END colsample_bytree=1.0, learning_rate=0.05, n_estimators=500, num_leaves=64, subsample=1.0; total time=10.0min\n"
     ]
    },
    {
     "name": "stderr",
     "output_type": "stream",
     "text": [
      "/home/bartosz/Documents/codeRepo/psi/sztuczna-inteligencja/.venv/lib/python3.11/site-packages/sklearn/utils/validation.py:2749: UserWarning: X does not have valid feature names, but LGBMClassifier was fitted with feature names\n",
      "  warnings.warn(\n"
     ]
    },
    {
     "name": "stdout",
     "output_type": "stream",
     "text": [
      "[CV] END colsample_bytree=1.0, learning_rate=0.05, n_estimators=500, num_leaves=64, subsample=0.9; total time= 9.8min\n"
     ]
    },
    {
     "name": "stderr",
     "output_type": "stream",
     "text": [
      "/home/bartosz/Documents/codeRepo/psi/sztuczna-inteligencja/.venv/lib/python3.11/site-packages/sklearn/utils/validation.py:2749: UserWarning: X does not have valid feature names, but LGBMClassifier was fitted with feature names\n",
      "  warnings.warn(\n"
     ]
    },
    {
     "name": "stdout",
     "output_type": "stream",
     "text": [
      "[CV] END colsample_bytree=1.0, learning_rate=0.05, n_estimators=500, num_leaves=64, subsample=0.9; total time=10.1min\n"
     ]
    },
    {
     "name": "stderr",
     "output_type": "stream",
     "text": [
      "/home/bartosz/Documents/codeRepo/psi/sztuczna-inteligencja/.venv/lib/python3.11/site-packages/sklearn/utils/validation.py:2749: UserWarning: X does not have valid feature names, but LGBMClassifier was fitted with feature names\n",
      "  warnings.warn(\n"
     ]
    },
    {
     "name": "stdout",
     "output_type": "stream",
     "text": [
      "[CV] END colsample_bytree=1.0, learning_rate=0.05, n_estimators=500, num_leaves=64, subsample=0.9; total time= 9.4min\n"
     ]
    },
    {
     "name": "stderr",
     "output_type": "stream",
     "text": [
      "/home/bartosz/Documents/codeRepo/psi/sztuczna-inteligencja/.venv/lib/python3.11/site-packages/sklearn/utils/validation.py:2749: UserWarning: X does not have valid feature names, but LGBMClassifier was fitted with feature names\n",
      "  warnings.warn(\n"
     ]
    },
    {
     "name": "stdout",
     "output_type": "stream",
     "text": [
      "[CV] END colsample_bytree=1.0, learning_rate=0.2, n_estimators=100, num_leaves=64, subsample=1.0; total time= 1.9min\n"
     ]
    },
    {
     "name": "stderr",
     "output_type": "stream",
     "text": [
      "/home/bartosz/Documents/codeRepo/psi/sztuczna-inteligencja/.venv/lib/python3.11/site-packages/sklearn/utils/validation.py:2749: UserWarning: X does not have valid feature names, but LGBMClassifier was fitted with feature names\n",
      "  warnings.warn(\n"
     ]
    },
    {
     "name": "stdout",
     "output_type": "stream",
     "text": [
      "[CV] END colsample_bytree=0.9, learning_rate=0.1, n_estimators=500, num_leaves=48, subsample=0.9; total time= 6.2min\n"
     ]
    },
    {
     "name": "stderr",
     "output_type": "stream",
     "text": [
      "/home/bartosz/Documents/codeRepo/psi/sztuczna-inteligencja/.venv/lib/python3.11/site-packages/sklearn/utils/validation.py:2749: UserWarning: X does not have valid feature names, but LGBMClassifier was fitted with feature names\n",
      "  warnings.warn(\n"
     ]
    },
    {
     "name": "stdout",
     "output_type": "stream",
     "text": [
      "[CV] END colsample_bytree=1.0, learning_rate=0.2, n_estimators=100, num_leaves=64, subsample=1.0; total time= 2.1min\n"
     ]
    },
    {
     "name": "stderr",
     "output_type": "stream",
     "text": [
      "/home/bartosz/Documents/codeRepo/psi/sztuczna-inteligencja/.venv/lib/python3.11/site-packages/sklearn/utils/validation.py:2749: UserWarning: X does not have valid feature names, but LGBMClassifier was fitted with feature names\n",
      "  warnings.warn(\n"
     ]
    },
    {
     "name": "stdout",
     "output_type": "stream",
     "text": [
      "[CV] END colsample_bytree=0.9, learning_rate=0.1, n_estimators=500, num_leaves=48, subsample=0.9; total time= 7.3min\n"
     ]
    },
    {
     "name": "stderr",
     "output_type": "stream",
     "text": [
      "/home/bartosz/Documents/codeRepo/psi/sztuczna-inteligencja/.venv/lib/python3.11/site-packages/sklearn/utils/validation.py:2749: UserWarning: X does not have valid feature names, but LGBMClassifier was fitted with feature names\n",
      "  warnings.warn(\n"
     ]
    },
    {
     "name": "stdout",
     "output_type": "stream",
     "text": [
      "[CV] END colsample_bytree=0.9, learning_rate=0.1, n_estimators=500, num_leaves=48, subsample=0.9; total time= 6.7min\n"
     ]
    },
    {
     "name": "stderr",
     "output_type": "stream",
     "text": [
      "/home/bartosz/Documents/codeRepo/psi/sztuczna-inteligencja/.venv/lib/python3.11/site-packages/sklearn/utils/validation.py:2749: UserWarning: X does not have valid feature names, but LGBMClassifier was fitted with feature names\n",
      "  warnings.warn(\n"
     ]
    },
    {
     "name": "stdout",
     "output_type": "stream",
     "text": [
      "[CV] END colsample_bytree=1.0, learning_rate=0.05, n_estimators=500, num_leaves=64, subsample=0.9; total time= 9.8min\n"
     ]
    },
    {
     "name": "stderr",
     "output_type": "stream",
     "text": [
      "/home/bartosz/Documents/codeRepo/psi/sztuczna-inteligencja/.venv/lib/python3.11/site-packages/sklearn/utils/validation.py:2749: UserWarning: X does not have valid feature names, but LGBMClassifier was fitted with feature names\n",
      "  warnings.warn(\n"
     ]
    },
    {
     "name": "stdout",
     "output_type": "stream",
     "text": [
      "[CV] END colsample_bytree=1.0, learning_rate=0.2, n_estimators=100, num_leaves=64, subsample=1.0; total time= 1.9min\n"
     ]
    },
    {
     "name": "stderr",
     "output_type": "stream",
     "text": [
      "/home/bartosz/Documents/codeRepo/psi/sztuczna-inteligencja/.venv/lib/python3.11/site-packages/sklearn/utils/validation.py:2749: UserWarning: X does not have valid feature names, but LGBMClassifier was fitted with feature names\n",
      "  warnings.warn(\n"
     ]
    },
    {
     "name": "stdout",
     "output_type": "stream",
     "text": [
      "[CV] END colsample_bytree=1.0, learning_rate=0.05, n_estimators=500, num_leaves=64, subsample=0.9; total time= 9.5min\n"
     ]
    },
    {
     "name": "stderr",
     "output_type": "stream",
     "text": [
      "/home/bartosz/Documents/codeRepo/psi/sztuczna-inteligencja/.venv/lib/python3.11/site-packages/sklearn/utils/validation.py:2749: UserWarning: X does not have valid feature names, but LGBMClassifier was fitted with feature names\n",
      "  warnings.warn(\n"
     ]
    },
    {
     "name": "stdout",
     "output_type": "stream",
     "text": [
      "[CV] END colsample_bytree=1.0, learning_rate=0.2, n_estimators=100, num_leaves=64, subsample=1.0; total time= 1.6min\n"
     ]
    },
    {
     "name": "stderr",
     "output_type": "stream",
     "text": [
      "/home/bartosz/Documents/codeRepo/psi/sztuczna-inteligencja/.venv/lib/python3.11/site-packages/sklearn/utils/validation.py:2749: UserWarning: X does not have valid feature names, but LGBMClassifier was fitted with feature names\n",
      "  warnings.warn(\n"
     ]
    },
    {
     "name": "stdout",
     "output_type": "stream",
     "text": [
      "[CV] END colsample_bytree=0.8, learning_rate=0.05, n_estimators=100, num_leaves=64, subsample=1.0; total time= 1.9min\n"
     ]
    },
    {
     "name": "stderr",
     "output_type": "stream",
     "text": [
      "/home/bartosz/Documents/codeRepo/psi/sztuczna-inteligencja/.venv/lib/python3.11/site-packages/sklearn/utils/validation.py:2749: UserWarning: X does not have valid feature names, but LGBMClassifier was fitted with feature names\n",
      "  warnings.warn(\n"
     ]
    },
    {
     "name": "stdout",
     "output_type": "stream",
     "text": [
      "[CV] END colsample_bytree=1.0, learning_rate=0.2, n_estimators=100, num_leaves=64, subsample=1.0; total time= 2.3min\n"
     ]
    },
    {
     "name": "stderr",
     "output_type": "stream",
     "text": [
      "/home/bartosz/Documents/codeRepo/psi/sztuczna-inteligencja/.venv/lib/python3.11/site-packages/sklearn/utils/validation.py:2749: UserWarning: X does not have valid feature names, but LGBMClassifier was fitted with feature names\n",
      "  warnings.warn(\n"
     ]
    },
    {
     "name": "stdout",
     "output_type": "stream",
     "text": [
      "[CV] END colsample_bytree=0.9, learning_rate=0.1, n_estimators=500, num_leaves=48, subsample=0.9; total time= 6.8min\n"
     ]
    },
    {
     "name": "stderr",
     "output_type": "stream",
     "text": [
      "/home/bartosz/Documents/codeRepo/psi/sztuczna-inteligencja/.venv/lib/python3.11/site-packages/sklearn/utils/validation.py:2749: UserWarning: X does not have valid feature names, but LGBMClassifier was fitted with feature names\n",
      "  warnings.warn(\n"
     ]
    },
    {
     "name": "stdout",
     "output_type": "stream",
     "text": [
      "[CV] END colsample_bytree=0.8, learning_rate=0.05, n_estimators=100, num_leaves=64, subsample=1.0; total time= 1.8min\n"
     ]
    },
    {
     "name": "stderr",
     "output_type": "stream",
     "text": [
      "/home/bartosz/Documents/codeRepo/psi/sztuczna-inteligencja/.venv/lib/python3.11/site-packages/sklearn/utils/validation.py:2749: UserWarning: X does not have valid feature names, but LGBMClassifier was fitted with feature names\n",
      "  warnings.warn(\n"
     ]
    },
    {
     "name": "stdout",
     "output_type": "stream",
     "text": [
      "[CV] END colsample_bytree=0.8, learning_rate=0.05, n_estimators=100, num_leaves=64, subsample=1.0; total time= 1.7min\n"
     ]
    },
    {
     "name": "stderr",
     "output_type": "stream",
     "text": [
      "/home/bartosz/Documents/codeRepo/psi/sztuczna-inteligencja/.venv/lib/python3.11/site-packages/sklearn/utils/validation.py:2749: UserWarning: X does not have valid feature names, but LGBMClassifier was fitted with feature names\n",
      "  warnings.warn(\n"
     ]
    },
    {
     "name": "stdout",
     "output_type": "stream",
     "text": [
      "[CV] END colsample_bytree=0.8, learning_rate=0.05, n_estimators=100, num_leaves=64, subsample=1.0; total time= 2.1min\n"
     ]
    },
    {
     "name": "stderr",
     "output_type": "stream",
     "text": [
      "/home/bartosz/Documents/codeRepo/psi/sztuczna-inteligencja/.venv/lib/python3.11/site-packages/sklearn/utils/validation.py:2749: UserWarning: X does not have valid feature names, but LGBMClassifier was fitted with feature names\n",
      "  warnings.warn(\n"
     ]
    },
    {
     "name": "stdout",
     "output_type": "stream",
     "text": [
      "[CV] END colsample_bytree=0.8, learning_rate=0.05, n_estimators=100, num_leaves=64, subsample=1.0; total time= 1.8min\n"
     ]
    },
    {
     "name": "stderr",
     "output_type": "stream",
     "text": [
      "/home/bartosz/Documents/codeRepo/psi/sztuczna-inteligencja/.venv/lib/python3.11/site-packages/sklearn/utils/validation.py:2749: UserWarning: X does not have valid feature names, but LGBMClassifier was fitted with feature names\n",
      "  warnings.warn(\n"
     ]
    },
    {
     "name": "stdout",
     "output_type": "stream",
     "text": [
      "[CV] END colsample_bytree=0.9, learning_rate=0.1, n_estimators=500, num_leaves=48, subsample=0.9; total time= 8.0min\n"
     ]
    },
    {
     "name": "stderr",
     "output_type": "stream",
     "text": [
      "/home/bartosz/Documents/codeRepo/psi/sztuczna-inteligencja/.venv/lib/python3.11/site-packages/sklearn/utils/validation.py:2749: UserWarning: X does not have valid feature names, but LGBMClassifier was fitted with feature names\n",
      "  warnings.warn(\n"
     ]
    },
    {
     "name": "stdout",
     "output_type": "stream",
     "text": [
      "[CV] END colsample_bytree=1.0, learning_rate=0.1, n_estimators=250, num_leaves=31, subsample=1.0; total time= 2.3min\n"
     ]
    },
    {
     "name": "stderr",
     "output_type": "stream",
     "text": [
      "/home/bartosz/Documents/codeRepo/psi/sztuczna-inteligencja/.venv/lib/python3.11/site-packages/sklearn/utils/validation.py:2749: UserWarning: X does not have valid feature names, but LGBMClassifier was fitted with feature names\n",
      "  warnings.warn(\n"
     ]
    },
    {
     "name": "stdout",
     "output_type": "stream",
     "text": [
      "[CV] END colsample_bytree=1.0, learning_rate=0.1, n_estimators=250, num_leaves=31, subsample=1.0; total time= 2.4min\n"
     ]
    },
    {
     "name": "stderr",
     "output_type": "stream",
     "text": [
      "/home/bartosz/Documents/codeRepo/psi/sztuczna-inteligencja/.venv/lib/python3.11/site-packages/sklearn/utils/validation.py:2749: UserWarning: X does not have valid feature names, but LGBMClassifier was fitted with feature names\n",
      "  warnings.warn(\n"
     ]
    },
    {
     "name": "stdout",
     "output_type": "stream",
     "text": [
      "[CV] END colsample_bytree=1.0, learning_rate=0.1, n_estimators=250, num_leaves=31, subsample=1.0; total time= 2.4min\n"
     ]
    },
    {
     "name": "stderr",
     "output_type": "stream",
     "text": [
      "/home/bartosz/Documents/codeRepo/psi/sztuczna-inteligencja/.venv/lib/python3.11/site-packages/sklearn/utils/validation.py:2749: UserWarning: X does not have valid feature names, but LGBMClassifier was fitted with feature names\n",
      "  warnings.warn(\n"
     ]
    },
    {
     "name": "stdout",
     "output_type": "stream",
     "text": [
      "[CV] END colsample_bytree=0.9, learning_rate=0.2, n_estimators=250, num_leaves=31, subsample=0.9; total time= 2.2min\n"
     ]
    },
    {
     "name": "stderr",
     "output_type": "stream",
     "text": [
      "/home/bartosz/Documents/codeRepo/psi/sztuczna-inteligencja/.venv/lib/python3.11/site-packages/sklearn/utils/validation.py:2749: UserWarning: X does not have valid feature names, but LGBMClassifier was fitted with feature names\n",
      "  warnings.warn(\n"
     ]
    },
    {
     "name": "stdout",
     "output_type": "stream",
     "text": [
      "[CV] END colsample_bytree=1.0, learning_rate=0.1, n_estimators=250, num_leaves=31, subsample=1.0; total time= 2.4min\n"
     ]
    },
    {
     "name": "stderr",
     "output_type": "stream",
     "text": [
      "/home/bartosz/Documents/codeRepo/psi/sztuczna-inteligencja/.venv/lib/python3.11/site-packages/sklearn/utils/validation.py:2749: UserWarning: X does not have valid feature names, but LGBMClassifier was fitted with feature names\n",
      "  warnings.warn(\n"
     ]
    },
    {
     "name": "stdout",
     "output_type": "stream",
     "text": [
      "[CV] END colsample_bytree=0.9, learning_rate=0.2, n_estimators=250, num_leaves=31, subsample=0.9; total time= 2.0min\n"
     ]
    },
    {
     "name": "stderr",
     "output_type": "stream",
     "text": [
      "/home/bartosz/Documents/codeRepo/psi/sztuczna-inteligencja/.venv/lib/python3.11/site-packages/sklearn/utils/validation.py:2749: UserWarning: X does not have valid feature names, but LGBMClassifier was fitted with feature names\n",
      "  warnings.warn(\n"
     ]
    },
    {
     "name": "stdout",
     "output_type": "stream",
     "text": [
      "[CV] END colsample_bytree=1.0, learning_rate=0.1, n_estimators=250, num_leaves=31, subsample=1.0; total time= 2.6min\n"
     ]
    },
    {
     "name": "stderr",
     "output_type": "stream",
     "text": [
      "/home/bartosz/Documents/codeRepo/psi/sztuczna-inteligencja/.venv/lib/python3.11/site-packages/sklearn/utils/validation.py:2749: UserWarning: X does not have valid feature names, but LGBMClassifier was fitted with feature names\n",
      "  warnings.warn(\n"
     ]
    },
    {
     "name": "stdout",
     "output_type": "stream",
     "text": [
      "[CV] END colsample_bytree=0.9, learning_rate=0.2, n_estimators=250, num_leaves=31, subsample=0.9; total time= 2.3min\n"
     ]
    },
    {
     "name": "stderr",
     "output_type": "stream",
     "text": [
      "/home/bartosz/Documents/codeRepo/psi/sztuczna-inteligencja/.venv/lib/python3.11/site-packages/sklearn/utils/validation.py:2749: UserWarning: X does not have valid feature names, but LGBMClassifier was fitted with feature names\n",
      "  warnings.warn(\n"
     ]
    },
    {
     "name": "stdout",
     "output_type": "stream",
     "text": [
      "[CV] END colsample_bytree=0.9, learning_rate=0.2, n_estimators=250, num_leaves=31, subsample=0.9; total time= 2.3min\n"
     ]
    },
    {
     "name": "stderr",
     "output_type": "stream",
     "text": [
      "/home/bartosz/Documents/codeRepo/psi/sztuczna-inteligencja/.venv/lib/python3.11/site-packages/sklearn/utils/validation.py:2749: UserWarning: X does not have valid feature names, but LGBMClassifier was fitted with feature names\n",
      "  warnings.warn(\n"
     ]
    },
    {
     "name": "stdout",
     "output_type": "stream",
     "text": [
      "[CV] END colsample_bytree=0.9, learning_rate=0.2, n_estimators=250, num_leaves=31, subsample=0.9; total time= 2.1min\n"
     ]
    },
    {
     "name": "stderr",
     "output_type": "stream",
     "text": [
      "/home/bartosz/Documents/codeRepo/psi/sztuczna-inteligencja/.venv/lib/python3.11/site-packages/sklearn/utils/validation.py:2749: UserWarning: X does not have valid feature names, but LGBMClassifier was fitted with feature names\n",
      "  warnings.warn(\n"
     ]
    },
    {
     "name": "stdout",
     "output_type": "stream",
     "text": [
      "[CV] END colsample_bytree=0.9, learning_rate=0.05, n_estimators=250, num_leaves=31, subsample=0.8; total time= 2.1min\n"
     ]
    },
    {
     "name": "stderr",
     "output_type": "stream",
     "text": [
      "/home/bartosz/Documents/codeRepo/psi/sztuczna-inteligencja/.venv/lib/python3.11/site-packages/sklearn/utils/validation.py:2749: UserWarning: X does not have valid feature names, but LGBMClassifier was fitted with feature names\n",
      "  warnings.warn(\n"
     ]
    },
    {
     "name": "stdout",
     "output_type": "stream",
     "text": [
      "[CV] END colsample_bytree=0.9, learning_rate=0.05, n_estimators=250, num_leaves=31, subsample=0.8; total time= 2.0min\n"
     ]
    },
    {
     "name": "stderr",
     "output_type": "stream",
     "text": [
      "/home/bartosz/Documents/codeRepo/psi/sztuczna-inteligencja/.venv/lib/python3.11/site-packages/sklearn/utils/validation.py:2749: UserWarning: X does not have valid feature names, but LGBMClassifier was fitted with feature names\n",
      "  warnings.warn(\n"
     ]
    },
    {
     "name": "stdout",
     "output_type": "stream",
     "text": [
      "[CV] END colsample_bytree=0.9, learning_rate=0.05, n_estimators=250, num_leaves=31, subsample=0.8; total time= 2.4min\n"
     ]
    },
    {
     "name": "stderr",
     "output_type": "stream",
     "text": [
      "/home/bartosz/Documents/codeRepo/psi/sztuczna-inteligencja/.venv/lib/python3.11/site-packages/sklearn/utils/validation.py:2749: UserWarning: X does not have valid feature names, but LGBMClassifier was fitted with feature names\n",
      "  warnings.warn(\n"
     ]
    },
    {
     "name": "stdout",
     "output_type": "stream",
     "text": [
      "[CV] END colsample_bytree=0.9, learning_rate=0.05, n_estimators=250, num_leaves=31, subsample=0.8; total time= 2.3min\n"
     ]
    },
    {
     "name": "stderr",
     "output_type": "stream",
     "text": [
      "/home/bartosz/Documents/codeRepo/psi/sztuczna-inteligencja/.venv/lib/python3.11/site-packages/sklearn/utils/validation.py:2749: UserWarning: X does not have valid feature names, but LGBMClassifier was fitted with feature names\n",
      "  warnings.warn(\n"
     ]
    },
    {
     "name": "stdout",
     "output_type": "stream",
     "text": [
      "[CV] END colsample_bytree=0.9, learning_rate=0.05, n_estimators=250, num_leaves=31, subsample=0.8; total time= 2.7min\n"
     ]
    },
    {
     "name": "stderr",
     "output_type": "stream",
     "text": [
      "/home/bartosz/Documents/codeRepo/psi/sztuczna-inteligencja/.venv/lib/python3.11/site-packages/sklearn/utils/validation.py:2749: UserWarning: X does not have valid feature names, but LGBMClassifier was fitted with feature names\n",
      "  warnings.warn(\n"
     ]
    },
    {
     "name": "stdout",
     "output_type": "stream",
     "text": [
      "[CV] END colsample_bytree=0.8, learning_rate=0.05, n_estimators=100, num_leaves=48, subsample=1.0; total time= 1.5min\n"
     ]
    },
    {
     "name": "stderr",
     "output_type": "stream",
     "text": [
      "/home/bartosz/Documents/codeRepo/psi/sztuczna-inteligencja/.venv/lib/python3.11/site-packages/sklearn/utils/validation.py:2749: UserWarning: X does not have valid feature names, but LGBMClassifier was fitted with feature names\n",
      "  warnings.warn(\n"
     ]
    },
    {
     "name": "stdout",
     "output_type": "stream",
     "text": [
      "[CV] END colsample_bytree=0.8, learning_rate=0.05, n_estimators=100, num_leaves=48, subsample=1.0; total time= 1.6min\n"
     ]
    },
    {
     "name": "stderr",
     "output_type": "stream",
     "text": [
      "/home/bartosz/Documents/codeRepo/psi/sztuczna-inteligencja/.venv/lib/python3.11/site-packages/sklearn/utils/validation.py:2749: UserWarning: X does not have valid feature names, but LGBMClassifier was fitted with feature names\n",
      "  warnings.warn(\n"
     ]
    },
    {
     "name": "stdout",
     "output_type": "stream",
     "text": [
      "[CV] END colsample_bytree=0.8, learning_rate=0.05, n_estimators=100, num_leaves=48, subsample=1.0; total time= 1.6min\n"
     ]
    },
    {
     "name": "stderr",
     "output_type": "stream",
     "text": [
      "/home/bartosz/Documents/codeRepo/psi/sztuczna-inteligencja/.venv/lib/python3.11/site-packages/sklearn/utils/validation.py:2749: UserWarning: X does not have valid feature names, but LGBMClassifier was fitted with feature names\n",
      "  warnings.warn(\n"
     ]
    },
    {
     "name": "stdout",
     "output_type": "stream",
     "text": [
      "[CV] END colsample_bytree=0.9, learning_rate=0.1, n_estimators=250, num_leaves=64, subsample=0.8; total time= 4.6min\n"
     ]
    },
    {
     "name": "stderr",
     "output_type": "stream",
     "text": [
      "/home/bartosz/Documents/codeRepo/psi/sztuczna-inteligencja/.venv/lib/python3.11/site-packages/sklearn/utils/validation.py:2749: UserWarning: X does not have valid feature names, but LGBMClassifier was fitted with feature names\n",
      "  warnings.warn(\n"
     ]
    },
    {
     "name": "stdout",
     "output_type": "stream",
     "text": [
      "[CV] END colsample_bytree=0.8, learning_rate=0.05, n_estimators=100, num_leaves=48, subsample=1.0; total time= 1.5min\n"
     ]
    },
    {
     "name": "stderr",
     "output_type": "stream",
     "text": [
      "/home/bartosz/Documents/codeRepo/psi/sztuczna-inteligencja/.venv/lib/python3.11/site-packages/sklearn/utils/validation.py:2749: UserWarning: X does not have valid feature names, but LGBMClassifier was fitted with feature names\n",
      "  warnings.warn(\n"
     ]
    },
    {
     "name": "stdout",
     "output_type": "stream",
     "text": [
      "[CV] END colsample_bytree=0.8, learning_rate=0.05, n_estimators=100, num_leaves=48, subsample=1.0; total time= 1.5min\n"
     ]
    },
    {
     "name": "stderr",
     "output_type": "stream",
     "text": [
      "/home/bartosz/Documents/codeRepo/psi/sztuczna-inteligencja/.venv/lib/python3.11/site-packages/sklearn/utils/validation.py:2749: UserWarning: X does not have valid feature names, but LGBMClassifier was fitted with feature names\n",
      "  warnings.warn(\n"
     ]
    },
    {
     "name": "stdout",
     "output_type": "stream",
     "text": [
      "[CV] END colsample_bytree=0.9, learning_rate=0.1, n_estimators=250, num_leaves=64, subsample=0.8; total time= 4.7min\n"
     ]
    },
    {
     "name": "stderr",
     "output_type": "stream",
     "text": [
      "/home/bartosz/Documents/codeRepo/psi/sztuczna-inteligencja/.venv/lib/python3.11/site-packages/sklearn/utils/validation.py:2749: UserWarning: X does not have valid feature names, but LGBMClassifier was fitted with feature names\n",
      "  warnings.warn(\n"
     ]
    },
    {
     "name": "stdout",
     "output_type": "stream",
     "text": [
      "[CV] END colsample_bytree=0.9, learning_rate=0.1, n_estimators=250, num_leaves=64, subsample=0.8; total time= 5.1min\n"
     ]
    },
    {
     "name": "stderr",
     "output_type": "stream",
     "text": [
      "/home/bartosz/Documents/codeRepo/psi/sztuczna-inteligencja/.venv/lib/python3.11/site-packages/sklearn/utils/validation.py:2749: UserWarning: X does not have valid feature names, but LGBMClassifier was fitted with feature names\n",
      "  warnings.warn(\n"
     ]
    },
    {
     "name": "stdout",
     "output_type": "stream",
     "text": [
      "[CV] END colsample_bytree=0.9, learning_rate=0.1, n_estimators=250, num_leaves=64, subsample=0.8; total time= 5.2min\n"
     ]
    },
    {
     "name": "stderr",
     "output_type": "stream",
     "text": [
      "/home/bartosz/Documents/codeRepo/psi/sztuczna-inteligencja/.venv/lib/python3.11/site-packages/sklearn/utils/validation.py:2749: UserWarning: X does not have valid feature names, but LGBMClassifier was fitted with feature names\n",
      "  warnings.warn(\n"
     ]
    },
    {
     "name": "stdout",
     "output_type": "stream",
     "text": [
      "[CV] END colsample_bytree=0.9, learning_rate=0.1, n_estimators=250, num_leaves=64, subsample=0.8; total time= 4.9min\n"
     ]
    },
    {
     "name": "stderr",
     "output_type": "stream",
     "text": [
      "/home/bartosz/Documents/codeRepo/psi/sztuczna-inteligencja/.venv/lib/python3.11/site-packages/sklearn/utils/validation.py:2749: UserWarning: X does not have valid feature names, but LGBMClassifier was fitted with feature names\n",
      "  warnings.warn(\n"
     ]
    },
    {
     "name": "stdout",
     "output_type": "stream",
     "text": [
      "[CV] END colsample_bytree=1.0, learning_rate=0.05, n_estimators=100, num_leaves=64, subsample=0.8; total time= 2.0min\n"
     ]
    },
    {
     "name": "stderr",
     "output_type": "stream",
     "text": [
      "/home/bartosz/Documents/codeRepo/psi/sztuczna-inteligencja/.venv/lib/python3.11/site-packages/sklearn/utils/validation.py:2749: UserWarning: X does not have valid feature names, but LGBMClassifier was fitted with feature names\n",
      "  warnings.warn(\n"
     ]
    },
    {
     "name": "stdout",
     "output_type": "stream",
     "text": [
      "[CV] END colsample_bytree=1.0, learning_rate=0.05, n_estimators=100, num_leaves=64, subsample=0.8; total time= 2.2min\n"
     ]
    },
    {
     "name": "stderr",
     "output_type": "stream",
     "text": [
      "/home/bartosz/Documents/codeRepo/psi/sztuczna-inteligencja/.venv/lib/python3.11/site-packages/sklearn/utils/validation.py:2749: UserWarning: X does not have valid feature names, but LGBMClassifier was fitted with feature names\n",
      "  warnings.warn(\n"
     ]
    },
    {
     "name": "stdout",
     "output_type": "stream",
     "text": [
      "[CV] END colsample_bytree=1.0, learning_rate=0.05, n_estimators=100, num_leaves=64, subsample=0.8; total time= 2.0min\n"
     ]
    },
    {
     "name": "stderr",
     "output_type": "stream",
     "text": [
      "/home/bartosz/Documents/codeRepo/psi/sztuczna-inteligencja/.venv/lib/python3.11/site-packages/sklearn/utils/validation.py:2749: UserWarning: X does not have valid feature names, but LGBMClassifier was fitted with feature names\n",
      "  warnings.warn(\n"
     ]
    },
    {
     "name": "stdout",
     "output_type": "stream",
     "text": [
      "[CV] END colsample_bytree=1.0, learning_rate=0.05, n_estimators=100, num_leaves=64, subsample=0.8; total time= 1.8min\n"
     ]
    },
    {
     "name": "stderr",
     "output_type": "stream",
     "text": [
      "/home/bartosz/Documents/codeRepo/psi/sztuczna-inteligencja/.venv/lib/python3.11/site-packages/sklearn/utils/validation.py:2749: UserWarning: X does not have valid feature names, but LGBMClassifier was fitted with feature names\n",
      "  warnings.warn(\n"
     ]
    },
    {
     "name": "stdout",
     "output_type": "stream",
     "text": [
      "[CV] END colsample_bytree=1.0, learning_rate=0.05, n_estimators=100, num_leaves=64, subsample=0.8; total time= 2.1min\n"
     ]
    },
    {
     "name": "stderr",
     "output_type": "stream",
     "text": [
      "/home/bartosz/Documents/codeRepo/psi/sztuczna-inteligencja/.venv/lib/python3.11/site-packages/sklearn/utils/validation.py:2749: UserWarning: X does not have valid feature names, but LGBMClassifier was fitted with feature names\n",
      "  warnings.warn(\n"
     ]
    },
    {
     "name": "stdout",
     "output_type": "stream",
     "text": [
      "[CV] END colsample_bytree=1.0, learning_rate=0.2, n_estimators=100, num_leaves=64, subsample=0.8; total time= 2.1min\n"
     ]
    },
    {
     "name": "stderr",
     "output_type": "stream",
     "text": [
      "/home/bartosz/Documents/codeRepo/psi/sztuczna-inteligencja/.venv/lib/python3.11/site-packages/sklearn/utils/validation.py:2749: UserWarning: X does not have valid feature names, but LGBMClassifier was fitted with feature names\n",
      "  warnings.warn(\n"
     ]
    },
    {
     "name": "stdout",
     "output_type": "stream",
     "text": [
      "[CV] END colsample_bytree=0.8, learning_rate=0.05, n_estimators=500, num_leaves=48, subsample=0.9; total time= 7.4min\n"
     ]
    },
    {
     "name": "stderr",
     "output_type": "stream",
     "text": [
      "/home/bartosz/Documents/codeRepo/psi/sztuczna-inteligencja/.venv/lib/python3.11/site-packages/sklearn/utils/validation.py:2749: UserWarning: X does not have valid feature names, but LGBMClassifier was fitted with feature names\n",
      "  warnings.warn(\n"
     ]
    },
    {
     "name": "stdout",
     "output_type": "stream",
     "text": [
      "[CV] END colsample_bytree=1.0, learning_rate=0.2, n_estimators=100, num_leaves=64, subsample=0.8; total time= 2.2min\n"
     ]
    },
    {
     "name": "stderr",
     "output_type": "stream",
     "text": [
      "/home/bartosz/Documents/codeRepo/psi/sztuczna-inteligencja/.venv/lib/python3.11/site-packages/sklearn/utils/validation.py:2749: UserWarning: X does not have valid feature names, but LGBMClassifier was fitted with feature names\n",
      "  warnings.warn(\n"
     ]
    },
    {
     "name": "stdout",
     "output_type": "stream",
     "text": [
      "[CV] END colsample_bytree=0.8, learning_rate=0.05, n_estimators=500, num_leaves=48, subsample=0.9; total time= 7.4min\n"
     ]
    },
    {
     "name": "stderr",
     "output_type": "stream",
     "text": [
      "/home/bartosz/Documents/codeRepo/psi/sztuczna-inteligencja/.venv/lib/python3.11/site-packages/sklearn/utils/validation.py:2749: UserWarning: X does not have valid feature names, but LGBMClassifier was fitted with feature names\n",
      "  warnings.warn(\n"
     ]
    },
    {
     "name": "stdout",
     "output_type": "stream",
     "text": [
      "[CV] END colsample_bytree=1.0, learning_rate=0.2, n_estimators=100, num_leaves=64, subsample=0.8; total time= 2.1min\n"
     ]
    },
    {
     "name": "stderr",
     "output_type": "stream",
     "text": [
      "/home/bartosz/Documents/codeRepo/psi/sztuczna-inteligencja/.venv/lib/python3.11/site-packages/sklearn/utils/validation.py:2749: UserWarning: X does not have valid feature names, but LGBMClassifier was fitted with feature names\n",
      "  warnings.warn(\n"
     ]
    },
    {
     "name": "stdout",
     "output_type": "stream",
     "text": [
      "[CV] END colsample_bytree=0.8, learning_rate=0.05, n_estimators=500, num_leaves=48, subsample=0.9; total time= 8.0min\n"
     ]
    },
    {
     "name": "stderr",
     "output_type": "stream",
     "text": [
      "/home/bartosz/Documents/codeRepo/psi/sztuczna-inteligencja/.venv/lib/python3.11/site-packages/sklearn/utils/validation.py:2749: UserWarning: X does not have valid feature names, but LGBMClassifier was fitted with feature names\n",
      "  warnings.warn(\n"
     ]
    },
    {
     "name": "stdout",
     "output_type": "stream",
     "text": [
      "[CV] END colsample_bytree=1.0, learning_rate=0.2, n_estimators=100, num_leaves=64, subsample=0.8; total time= 2.3min\n"
     ]
    },
    {
     "name": "stderr",
     "output_type": "stream",
     "text": [
      "/home/bartosz/Documents/codeRepo/psi/sztuczna-inteligencja/.venv/lib/python3.11/site-packages/sklearn/utils/validation.py:2749: UserWarning: X does not have valid feature names, but LGBMClassifier was fitted with feature names\n",
      "  warnings.warn(\n"
     ]
    },
    {
     "name": "stdout",
     "output_type": "stream",
     "text": [
      "[CV] END colsample_bytree=1.0, learning_rate=0.2, n_estimators=100, num_leaves=64, subsample=0.8; total time= 1.8min\n"
     ]
    },
    {
     "name": "stderr",
     "output_type": "stream",
     "text": [
      "/home/bartosz/Documents/codeRepo/psi/sztuczna-inteligencja/.venv/lib/python3.11/site-packages/sklearn/utils/validation.py:2749: UserWarning: X does not have valid feature names, but LGBMClassifier was fitted with feature names\n",
      "  warnings.warn(\n"
     ]
    },
    {
     "name": "stdout",
     "output_type": "stream",
     "text": [
      "[CV] END colsample_bytree=0.8, learning_rate=0.05, n_estimators=500, num_leaves=48, subsample=0.9; total time= 7.6min\n"
     ]
    },
    {
     "name": "stderr",
     "output_type": "stream",
     "text": [
      "/home/bartosz/Documents/codeRepo/psi/sztuczna-inteligencja/.venv/lib/python3.11/site-packages/sklearn/utils/validation.py:2749: UserWarning: X does not have valid feature names, but LGBMClassifier was fitted with feature names\n",
      "  warnings.warn(\n"
     ]
    },
    {
     "name": "stdout",
     "output_type": "stream",
     "text": [
      "[CV] END colsample_bytree=0.8, learning_rate=0.05, n_estimators=500, num_leaves=48, subsample=0.9; total time= 9.0min\n"
     ]
    },
    {
     "name": "stderr",
     "output_type": "stream",
     "text": [
      "/home/bartosz/Documents/codeRepo/psi/sztuczna-inteligencja/.venv/lib/python3.11/site-packages/sklearn/utils/validation.py:2749: UserWarning: X does not have valid feature names, but LGBMClassifier was fitted with feature names\n",
      "  warnings.warn(\n"
     ]
    },
    {
     "name": "stdout",
     "output_type": "stream",
     "text": [
      "[CV] END colsample_bytree=0.8, learning_rate=0.05, n_estimators=250, num_leaves=48, subsample=0.8; total time= 3.5min\n"
     ]
    },
    {
     "name": "stderr",
     "output_type": "stream",
     "text": [
      "/home/bartosz/Documents/codeRepo/psi/sztuczna-inteligencja/.venv/lib/python3.11/site-packages/sklearn/utils/validation.py:2749: UserWarning: X does not have valid feature names, but LGBMClassifier was fitted with feature names\n",
      "  warnings.warn(\n"
     ]
    },
    {
     "name": "stdout",
     "output_type": "stream",
     "text": [
      "[CV] END colsample_bytree=0.8, learning_rate=0.05, n_estimators=250, num_leaves=48, subsample=0.8; total time= 3.5min\n"
     ]
    },
    {
     "name": "stderr",
     "output_type": "stream",
     "text": [
      "/home/bartosz/Documents/codeRepo/psi/sztuczna-inteligencja/.venv/lib/python3.11/site-packages/sklearn/utils/validation.py:2749: UserWarning: X does not have valid feature names, but LGBMClassifier was fitted with feature names\n",
      "  warnings.warn(\n"
     ]
    },
    {
     "name": "stdout",
     "output_type": "stream",
     "text": [
      "[CV] END colsample_bytree=0.8, learning_rate=0.05, n_estimators=250, num_leaves=48, subsample=0.8; total time= 3.6min\n"
     ]
    },
    {
     "name": "stderr",
     "output_type": "stream",
     "text": [
      "/home/bartosz/Documents/codeRepo/psi/sztuczna-inteligencja/.venv/lib/python3.11/site-packages/sklearn/utils/validation.py:2749: UserWarning: X does not have valid feature names, but LGBMClassifier was fitted with feature names\n",
      "  warnings.warn(\n"
     ]
    },
    {
     "name": "stdout",
     "output_type": "stream",
     "text": [
      "[CV] END colsample_bytree=0.8, learning_rate=0.05, n_estimators=250, num_leaves=48, subsample=0.8; total time= 3.7min\n"
     ]
    },
    {
     "name": "stderr",
     "output_type": "stream",
     "text": [
      "/home/bartosz/Documents/codeRepo/psi/sztuczna-inteligencja/.venv/lib/python3.11/site-packages/sklearn/utils/validation.py:2749: UserWarning: X does not have valid feature names, but LGBMClassifier was fitted with feature names\n",
      "  warnings.warn(\n"
     ]
    },
    {
     "name": "stdout",
     "output_type": "stream",
     "text": [
      "[CV] END colsample_bytree=0.8, learning_rate=0.05, n_estimators=250, num_leaves=48, subsample=0.8; total time= 3.2min\n"
     ]
    },
    {
     "name": "stderr",
     "output_type": "stream",
     "text": [
      "/home/bartosz/Documents/codeRepo/psi/sztuczna-inteligencja/.venv/lib/python3.11/site-packages/sklearn/utils/validation.py:2749: UserWarning: X does not have valid feature names, but LGBMClassifier was fitted with feature names\n",
      "  warnings.warn(\n"
     ]
    },
    {
     "name": "stdout",
     "output_type": "stream",
     "text": [
      "[CV] END colsample_bytree=1.0, learning_rate=0.2, n_estimators=500, num_leaves=31, subsample=1.0; total time= 3.3min\n"
     ]
    },
    {
     "name": "stderr",
     "output_type": "stream",
     "text": [
      "/home/bartosz/Documents/codeRepo/psi/sztuczna-inteligencja/.venv/lib/python3.11/site-packages/sklearn/utils/validation.py:2749: UserWarning: X does not have valid feature names, but LGBMClassifier was fitted with feature names\n",
      "  warnings.warn(\n"
     ]
    },
    {
     "name": "stdout",
     "output_type": "stream",
     "text": [
      "[CV] END colsample_bytree=1.0, learning_rate=0.2, n_estimators=500, num_leaves=31, subsample=1.0; total time= 3.2min\n"
     ]
    },
    {
     "name": "stderr",
     "output_type": "stream",
     "text": [
      "/home/bartosz/Documents/codeRepo/psi/sztuczna-inteligencja/.venv/lib/python3.11/site-packages/sklearn/utils/validation.py:2749: UserWarning: X does not have valid feature names, but LGBMClassifier was fitted with feature names\n",
      "  warnings.warn(\n"
     ]
    },
    {
     "name": "stdout",
     "output_type": "stream",
     "text": [
      "[CV] END colsample_bytree=1.0, learning_rate=0.2, n_estimators=500, num_leaves=31, subsample=1.0; total time= 2.6min\n"
     ]
    },
    {
     "name": "stderr",
     "output_type": "stream",
     "text": [
      "/home/bartosz/Documents/codeRepo/psi/sztuczna-inteligencja/.venv/lib/python3.11/site-packages/sklearn/utils/validation.py:2749: UserWarning: X does not have valid feature names, but LGBMClassifier was fitted with feature names\n",
      "  warnings.warn(\n"
     ]
    },
    {
     "name": "stdout",
     "output_type": "stream",
     "text": [
      "[CV] END colsample_bytree=1.0, learning_rate=0.2, n_estimators=500, num_leaves=31, subsample=1.0; total time= 1.0min\n"
     ]
    },
    {
     "name": "stderr",
     "output_type": "stream",
     "text": [
      "/home/bartosz/Documents/codeRepo/psi/sztuczna-inteligencja/.venv/lib/python3.11/site-packages/sklearn/utils/validation.py:2749: UserWarning: X does not have valid feature names, but LGBMClassifier was fitted with feature names\n",
      "  warnings.warn(\n"
     ]
    },
    {
     "name": "stdout",
     "output_type": "stream",
     "text": [
      "[CV] END colsample_bytree=1.0, learning_rate=0.2, n_estimators=500, num_leaves=31, subsample=1.0; total time=  49.6s\n",
      "Best parameters: {'subsample': 0.8, 'num_leaves': 31, 'n_estimators': 500, 'learning_rate': 0.2, 'colsample_bytree': 1.0}\n",
      "              precision    recall  f1-score   support\n",
      "\n",
      "           0       0.98      0.98      0.98      2002\n",
      "           1       0.60      0.60      0.60        99\n",
      "\n",
      "    accuracy                           0.96      2101\n",
      "   macro avg       0.79      0.79      0.79      2101\n",
      "weighted avg       0.96      0.96      0.96      2101\n",
      "\n",
      "              precision    recall  f1-score   support\n",
      "\n",
      "           0       0.98      0.99      0.99      2002\n",
      "           1       0.80      0.54      0.64        99\n",
      "\n",
      "    accuracy                           0.97      2101\n",
      "   macro avg       0.89      0.76      0.81      2101\n",
      "weighted avg       0.97      0.97      0.97      2101\n",
      "\n",
      "Best AUROC: 0.9466\n"
     ]
    },
    {
     "name": "stderr",
     "output_type": "stream",
     "text": [
      "/home/bartosz/Documents/codeRepo/psi/sztuczna-inteligencja/.venv/lib/python3.11/site-packages/sklearn/utils/validation.py:2749: UserWarning: X does not have valid feature names, but LGBMClassifier was fitted with feature names\n",
      "  warnings.warn(\n",
      "/home/bartosz/Documents/codeRepo/psi/sztuczna-inteligencja/.venv/lib/python3.11/site-packages/sklearn/utils/validation.py:2749: UserWarning: X does not have valid feature names, but LGBMClassifier was fitted with feature names\n",
      "  warnings.warn(\n",
      "/home/bartosz/Documents/codeRepo/psi/sztuczna-inteligencja/.venv/lib/python3.11/site-packages/sklearn/utils/validation.py:2749: UserWarning: X does not have valid feature names, but LGBMClassifier was fitted with feature names\n",
      "  warnings.warn(\n"
     ]
    }
   ],
   "source": [
    "# your_code\n",
    "from sklearn.model_selection import RandomizedSearchCV\n",
    "from sklearn.metrics import classification_report\n",
    "param_grid = {\n",
    "    \"n_estimators\": [100, 250, 500],\n",
    "    \"learning_rate\": [0.05, 0.1, 0.2],\n",
    "    \"num_leaves\": [31, 48, 64],\n",
    "    \"colsample_bytree\": [0.8, 0.9, 1.0],\n",
    "    \"subsample\": [0.8, 0.9, 1.0],\n",
    "}\n",
    "random_search = RandomizedSearchCV(estimator=LGBMClassifier(random_state=0, importance_type='gain', verbose=-1),\n",
    "                                   param_distributions=param_grid,\n",
    "                                   n_iter=30,\n",
    "                                   scoring='roc_auc',\n",
    "                                   cv=5,\n",
    "                                   n_jobs=-1,\n",
    "                                   verbose=2,\n",
    "                                   random_state=0)\n",
    "random_search.fit(X_resampled, y_resampled)\n",
    "best_model = random_search.best_estimator_\n",
    "best_model_params = random_search.best_params_\n",
    "print(f\"Best parameters: {best_model_params}\")\n",
    "print(classification_report(y_test, model.predict(X_test)))\n",
    "print(classification_report(y_test, best_model.predict(X_test)))\n",
    "y_pred = best_model.predict_proba(X_test)[:, 1]\n",
    "auroc = roc_auc_score(y_test, y_pred)\n",
    "print(f\"Best AUROC: {auroc:.4f}\")"
   ]
  },
  {
   "cell_type": "code",
   "execution_count": 18,
   "metadata": {
    "editable": true,
    "slideshow": {
     "slide_type": ""
    },
    "tags": [
     "ex"
    ]
   },
   "outputs": [
    {
     "name": "stdout",
     "output_type": "stream",
     "text": [
      "Solution is correct!\n"
     ]
    }
   ],
   "source": [
    "assert 0.9 <= auroc <= 0.99\n",
    "\n",
    "print(\"Solution is correct!\")"
   ]
  },
  {
   "cell_type": "markdown",
   "metadata": {
    "editable": true,
    "pycharm": {
     "name": "#%% md\n"
    },
    "slideshow": {
     "slide_type": ""
    },
    "tags": [
     "ex"
    ]
   },
   "source": [
    "Po dostrojeniu hiperparametrów zaobserwowano wzrost precyzji (z 0.60 do 0.80) przy jednoczesnym spadku czułości (z 0.60 do 0.54) dla klasy pozytywnej (firma upada). Oznacza to, że model po strojeniu rzadziej błędnie klasyfikuje firmy jako zagrożone upadłością (mniej fałszywych alarmów), ale jednocześnie częściej nie rozpoznaje faktycznie zagrożonych przypadków (więcej pominiętych upadłości). W kontekście zadania przewidywania upadłości firm taka zmiana nie jest pożądana, ponieważ w tego typu problemach ważniejsze jest zachowanie wysokiej czułości — lepiej wykryć więcej potencjalnych przypadków ryzyka, nawet kosztem większej liczby fałszywych ostrzeżeń. Choć strojeniem uzyskano nieco wyższą ogólną skuteczność i AUC (0.9466 vs. 0.9434), spadek czułości ogranicza praktyczną użyteczność modelu w kontekście wczesnego ostrzegania przed upadłością."
   ]
  },
  {
   "cell_type": "markdown",
   "metadata": {
    "editable": true,
    "pycharm": {
     "name": "#%% md\n"
    },
    "slideshow": {
     "slide_type": ""
    },
    "tags": []
   },
   "source": [
    "**Boosting - podsumowanie**\n",
    "\n",
    "1. Model oparty o uczenie zespołowe.\n",
    "2. Kolejne modele są dodawane sekwencyjnie i uczą się na błędach poprzedników.\n",
    "3. Nauka typowo jest oparta o minimalizację funkcji kosztu (błędu), z użyciem spadku wzdłuż gradientu.\n",
    "4. Wiodący model klasyfikacji dla danych tabelarycznych, z 2 głównymi implementacjami: XGBoost i LightGBM.\n",
    "5. Liczne hiperparametry, wymagające odpowiednich metod dostrajania."
   ]
  },
  {
   "cell_type": "markdown",
   "metadata": {
    "editable": true,
    "pycharm": {
     "name": "#%% md\n"
    },
    "slideshow": {
     "slide_type": ""
    },
    "tags": []
   },
   "source": [
    "## Wyjaśnialna AI"
   ]
  },
  {
   "cell_type": "markdown",
   "metadata": {
    "editable": true,
    "pycharm": {
     "name": "#%% md\n"
    },
    "slideshow": {
     "slide_type": ""
    },
    "tags": []
   },
   "source": [
    "W ostatnich latach zaczęto zwracać coraz większą uwagę na wpływ sztucznej inteligencji na społeczeństwo, a na niektórych czołowych konferencjach ML nawet obowiązkowa jest sekcja \"Social impact\" w artykułach naukowych. Typowo im lepszy model, tym bardziej złożony, a najpopularniejsze modele boostingu są z natury skomplikowane. Kiedy mają podejmować krytyczne decyzje, to musimy wiedzieć, czemu predykcja jest taka, a nie inna. Jest to poddziedzina uczenia maszynowego - **wyjaśnialna AI (explainable AI, XAI)**.\n",
    "\n",
    "Taka informacja jest cenna, bo dzięki temu lepiej wiemy, co robi model. Jest to ważne z kilku powodów:\n",
    "1. Wymogi prawne - wdrażanie algorytmów w ekonomii, prawie etc. ma coraz częściej konkretne wymagania prawne co do wyjaśnialności predykcji.\n",
    "2. Dodatkowa wiedza dla użytkowników - często dodatkowe obserwacje co do próbek są ciekawe same w sobie i dają wiedzę użytkownikowi (często posiadającemu specjalistyczną wiedzę z dziedziny), czasem nawet bardziej niż sam model predykcyjny.\n",
    "3. Analiza modelu - dodatkowa wiedza o wewnętrznym działaniu algorytmu pozwala go lepiej zrozumieć i ulepszyć wyniki, np. przez lepszy preprocessing danych.\n",
    "\n",
    "W szczególności można ją podzielić na **globalną** oraz **lokalną interpretowalność (global / local interpretability)**. Ta pierwsza próbuje wyjaśnić, czemu ogólnie model działa tak, jak działa. Analizuje strukturę modelu oraz trendy w jego predykcjach, aby podsumować w prostszy sposób jego tok myślenia. Interpretowalność lokalna z kolei dotyczy predykcji dla konkretnych próbek - czemu dla danego przykładu model podejmuje dla niego taką, a nie inną decyzję o klasyfikacji.\n",
    "\n",
    "W szczególności podstawowym sposobem interpretowalności jest **ważność cech (feature importance)**. Wyznacza ona, jak ważne są poszczególne cechy:\n",
    "- w wariancie globalnym, jak mocno model opiera się na poszczególnych cechach,\n",
    "- w wariancie lokalnym, jak mocno konkretne wartości cech wpłynęły na predykcję, i w jaki sposób.\n",
    "\n",
    "Teraz będzie nas interesować globalna ważność cech. Dla modeli drzewiastych definiuje się ją bardzo prosto. Każdy podział w drzewie decyzyjnym wykorzystuje jakąś cechę i redukuje z pomocą podziału funkcję kosztu (np. entropię) o określoną ilość. Dla drzewa decyzyjnego ważność to sumaryczna redukcja entropii, jaką udało się uzyskać za pomocą danej cechy. Dla lasów losowych i boostingu sumujemy te wartości dla wszystkich drzew. Alternatywnie można też użyć liczby splitów, w jakiej została użyta dana cecha, ale jest to mniej standardowe.\n",
    "\n",
    "Warto zauważyć, że taka ważność cech jest **względna**:\n",
    "- nie mówimy, jak bardzo ogólnie ważna jest jakaś cecha, tylko jak bardzo przydatna była dla naszego modelu w celu jego wytrenowania,\n",
    "- ważność cech można tylko porównywać ze sobą, np. jedna jest 2 razy ważniejsza od drugiej; nie ma ogólnych progów ważności.\n",
    "\n",
    "Ze względu na powyższe, ważności cech normalizuje się często do zakresu [0, 1] dla łatwiejszego porównywania."
   ]
  },
  {
   "cell_type": "markdown",
   "metadata": {
    "editable": true,
    "slideshow": {
     "slide_type": ""
    },
    "tags": [
     "ex"
    ]
   },
   "source": [
    "### Zadanie 9 (0.5 punktu)"
   ]
  },
  {
   "cell_type": "markdown",
   "metadata": {
    "editable": true,
    "slideshow": {
     "slide_type": ""
    },
    "tags": [
     "ex"
    ]
   },
   "source": [
    "1. Wybierz 5 najważniejszych cech dla drzewa decyzyjnego. Przedstaw wyniki na poziomym wykresie słupkowym. Użyj czytelnych nazw cech ze zmiennej `feature_names`.\n",
    "2. Powtórz powyższe dla lasu losowego, oraz dla boostingu (tutaj znormalizuj wyniki - patrz uwaga niżej). Wybierz te hiperparametry, które dały wcześniej najlepsze wyniki.\n",
    "3. Skomentuj, czy wybrane cechy twoim zdaniem mają sens jako najważniejsze cechy.\n",
    "\n",
    "**Uwaga:** Scikit-learn normalizuje ważności do zakresu [0, 1], natomiast LightGBM nie. Musisz to znormalizować samodzielnie, dzieląc przez sumę."
   ]
  },
  {
   "cell_type": "code",
   "execution_count": 40,
   "metadata": {
    "editable": true,
    "slideshow": {
     "slide_type": ""
    },
    "tags": [
     "ex"
    ]
   },
   "outputs": [],
   "source": [
    "import numpy as np\n",
    "\n",
    "def plot_feature_importances(feature_importances, ax, title):\n",
    "    global feature_names\n",
    "    feature_importances = np.array(feature_importances)\n",
    "    feature_names = np.array(feature_names)\n",
    "    head_indices = np.argsort(feature_importances)[-5:]\n",
    "    head = feature_importances[head_indices]\n",
    "    head_names = feature_names[head_indices]\n",
    "    print(title, head_names, head)\n",
    "    ax.bar(head_names, head)\n",
    "    ax.set_ylabel(\"Feature Importance\")\n",
    "    ax.set_title(title)\n",
    "    ax.tick_params(rotation=70, axis=\"x\")"
   ]
  },
  {
   "cell_type": "code",
   "execution_count": 41,
   "metadata": {},
   "outputs": [
    {
     "name": "stdout",
     "output_type": "stream",
     "text": [
      "Feature Importance Decision Tree [Top 5] ['operating expenses / short-term liabilities'\n",
      " '(current assets - inventory) / short-term liabilities'\n",
      " 'sales (n) / sales (n-1)'\n",
      " 'profit on operating activities / financial expenses'\n",
      " 'operating expenses / total liabilities'] [0.04379205 0.0518455  0.06383631 0.08288345 0.14631209]\n",
      "Feature Importance Random Forest [Top 5] ['(net profit + depreciation) / total liabilities'\n",
      " 'retained earnings / total assets'\n",
      " 'operating expenses / total liabilities' 'sales (n) / sales (n-1)'\n",
      " 'profit on operating activities / financial expenses'] [0.03400012 0.0405785  0.04870543 0.09054809 0.11905947]\n",
      "Feature Importance LGBM [Top 5] ['total costs / total sales' 'retained earnings / total assets'\n",
      " 'operating expenses / total liabilities' 'sales (n) / sales (n-1)'\n",
      " 'profit on operating activities / financial expenses'] [0.04793507 0.06314364 0.10221747 0.12988815 0.1489617 ]\n"
     ]
    },
    {
     "data": {
      "image/png": "[encoded data removed]",
      "text/plain": [
       "<Figure size 3000x900 with 3 Axes>"
      ]
     },
     "metadata": {},
     "output_type": "display_data"
    }
   ],
   "source": [
    "fig, (ax1, ax2, ax3) = plt.subplots(1, 3, figsize=(30, 9))\n",
    "\n",
    "tree_feature_importances = tree_model.feature_importances_\n",
    "\n",
    "forest_feature_importances = forest_model.feature_importances_\n",
    "\n",
    "LGBM_feature_importances = best_model.feature_importances_\n",
    "LGBM_feature_importances /= LGBM_feature_importances.sum()\n",
    "\n",
    "plot_feature_importances(\n",
    "    tree_feature_importances, ax1, \"Feature Importance Decision Tree [Top 5]\"\n",
    ")\n",
    "plot_feature_importances(\n",
    "    forest_feature_importances, ax2, \"Feature Importance Random Forest [Top 5]\"\n",
    ")\n",
    "plot_feature_importances(\n",
    "    LGBM_feature_importances, ax3, \"Feature Importance LGBM [Top 5]\"\n",
    ")"
   ]
  },
  {
   "cell_type": "markdown",
   "metadata": {
    "editable": true,
    "slideshow": {
     "slide_type": ""
    },
    "tags": [
     "ex"
    ]
   },
   "source": [
    "Zidentyfikowane przez modele cechy o najwyższej istotności mają duże uzasadnienie ekonomiczne w kontekście przewidywania upadłości przedsiębiorstw. Wysoka waga wskaźników takich jak ‘operating expenses / total liabilities’, ‘profit on operating activities / financial expenses’, czy ‘retained earnings / total assets’ wskazuje, że modele słusznie koncentrują się na aspektach płynności, rentowności oraz zadłużenia — kluczowych obszarach determinujących stabilność finansową firm. Dodatkowo cecha ‘sales (n) / sales (n-1)’ odzwierciedla dynamikę sprzedaży i może sygnalizować pogarszającą się kondycję finansową przedsiębiorstwa, co również jest istotne w kontekście ryzyka upadłości. Z kolei wskaźniki związane z kosztami operacyjnymi i relacjami między aktywami a zobowiązaniami dobrze odzwierciedlają zdolność firmy do regulowania bieżących zobowiązań. Podsumowując, zestaw najważniejszych cech wskazanych przez modele Decision Tree, Random Forest i LightGBM jest spójny z teorią finansów przedsiębiorstw i można uznać, że ma pełne merytoryczne uzasadnienie."
   ]
  },
  {
   "cell_type": "markdown",
   "metadata": {},
   "source": [
    "### Dla zainteresowanych\n",
    "\n",
    "Najpopularniejszym podejściem do interpretowalności lokalnych jest **SHAP (SHapley Additive exPlanations)**, metoda oparta o kooperatywną teorię gier. Traktuje się cechy modelu jak zbiór graczy, podzielonych na dwie drużyny (koalicje): jedna chce zaklasyfikować próbkę jako negatywną, a druga jako pozytywną. O ostatecznej decyzji decyduje model, który wykorzystuje te wartości cech. Powstaje pytanie - w jakim stopniu wartości cech przyczyniły się do wyniku swojej drużyny? Można to obliczyć jako wartości Shapleya (Shapley values), które dla modeli ML oblicza algorytm SHAP. Ma on bardzo znaczące, udowodnione matematycznie zalety, a dodatkowo posiada wyjątkowo efektywną implementację dla modeli drzewiastych oraz dobre wizualizacje.\n",
    "\n",
    "Bardzo intuicyjnie, na prostym przykładzie, SHAPa wyjaśnia [pierwsza część tego artykułu](https://iancovert.com/blog/understanding-shap-sage/). Dobrze i dość szczegółówo SHAPa wyjaśnia jego autor [w tym filmie](https://www.youtube.com/watch?v=-taOhqkiuIo)."
   ]
  },
  {
   "cell_type": "markdown",
   "metadata": {
    "pycharm": {
     "name": "#%% md\n"
    }
   },
   "source": [
    "**Wyjaśnialna AI - podsumowanie**\n",
    "\n",
    "1. Problem zrozumienia, jak wnioskuje model i czemu podejmuje określone decyzje.\n",
    "2. Ważne zarówno z perspektywy data badaczy danych, jak i użytkowników systemu.\n",
    "3. Można wyjaśniać model lokalnie (konkretne predykcje) lub globalnie (wpływ poszczególnych cech)."
   ]
  },
  {
   "cell_type": "markdown",
   "metadata": {
    "editable": true,
    "slideshow": {
     "slide_type": ""
    },
    "tags": [
     "ex"
    ]
   },
   "source": [
    "## Zadanie dodatkowe (3 punkty)"
   ]
  },
  {
   "cell_type": "markdown",
   "metadata": {
    "editable": true,
    "pycharm": {
     "name": "#%% md\n"
    },
    "slideshow": {
     "slide_type": ""
    },
    "tags": [
     "ex"
    ]
   },
   "source": [
    "Dokonaj selekcji cech, usuwając 20% najsłabszych cech. Może się tu przydać klasa `SelectPercentile`. Czy Random Forest i LightGBM (bez dostrajania hiperparametrów, dla uproszczenia) wytrenowane bez najsłabszych cech dają lepszy wynik (AUROC lub innej metryki)?\n",
    "\n",
    "Wykorzystaj po 1 algorytmie z 3 grup algorytmów selekcji cech:\n",
    "1. Filter methods - mierzymy ważność każdej cechy niezależnie, za pomocą pewnej miary (typowo ze statystyki lub teorii informacji), a potem odrzucamy (filtrujemy) te o najniższej ważności. Są to np. `chi2` i `mutual_info_classif` z pakietu `sklearn.feature_selection`.\n",
    "2. Embedded methods - klasyfikator sam zwraca ważność cech, jest jego wbudowaną cechą (stąd nazwa). Jest to w szczególności właściwość wszystkich zespołowych klasyfikatorów drzewiastych. Mają po wytrenowaniu atrybut `feature_importances_`.\n",
    "2. Wrapper methods - algorytmy wykorzystujące w środku używany model (stąd nazwa), mierzące ważność cech za pomocą ich wpływu na jakość klasyfikatora. Jest to np. recursive feature elimination (klasa `RFE`). W tym algorytmie trenujemy klasyfikator na wszystkich cechach, wyrzucamy najsłabszą, trenujemy znowu i tak dalej.\n",
    "\n",
    "Typowo metody filter są najszybsze, ale dają najsłabszy wynik, natomiast metody wrapper są najwolniejsze i dają najlepszy wynik. Metody embedded są gdzieś pośrodku.\n",
    "\n",
    "Dla zainteresowanych, inne znane i bardzo dobre algorytmy:\n",
    "- Relief (filter method) oraz warianty, szczególnie ReliefF, SURF i MultiSURF (biblioteka `ReBATE`): [Wikipedia](https://en.wikipedia.org/wiki/Relief_(feature_selection)), [artykuł \"Benchmarking Relief-Based Feature Selection Methods\"](https://www.researchgate.net/publication/321307194_Benchmarking_Relief-Based_Feature_Selection_Methods)\n",
    "- Boruta (wrapper method), stworzony na Uniwersytecie Warszawskim, łączący Random Forest oraz testy statystyczne (biblioteka `boruta_py`): [link 1](https://towardsdatascience.com/boruta-explained-the-way-i-wish-someone-explained-it-to-me-4489d70e154a), [link 2](https://danielhomola.com/feature%20selection/phd/borutapy-an-all-relevant-feature-selection-method/)"
   ]
  },
  {
   "cell_type": "code",
   "execution_count": null,
   "metadata": {
    "editable": true,
    "pycharm": {
     "name": "#%%\n"
    },
    "slideshow": {
     "slide_type": ""
    },
    "tags": [
     "ex"
    ]
   },
   "outputs": [],
   "source": []
  }
 ],
 "metadata": {
  "jupytext": {
   "formats": "ipynb,py:percent"
  },
  "kernelspec": {
   "display_name": "basics-of-ai-agh (3.11.13)",
   "language": "python",
   "name": "python3"
  },
  "language_info": {
   "codemirror_mode": {
    "name": "ipython",
    "version": 3
   },
   "file_extension": ".py",
   "mimetype": "text/x-python",
   "name": "python",
   "nbconvert_exporter": "python",
   "pygments_lexer": "ipython3",
   "version": "3.11.13"
  }
 },
 "nbformat": 4,
 "nbformat_minor": 4
}
